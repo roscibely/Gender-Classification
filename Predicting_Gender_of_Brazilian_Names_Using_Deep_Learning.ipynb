{
  "nbformat": 4,
  "nbformat_minor": 0,
  "metadata": {
    "colab": {
      "name": "Predicting Gender of Brazilian Names Using Deep Learning.ipynb",
      "provenance": [],
      "collapsed_sections": []
    },
    "kernelspec": {
      "name": "python3",
      "display_name": "Python 3"
    },
    "language_info": {
      "name": "python"
    }
  },
  "cells": [
    {
      "cell_type": "markdown",
      "metadata": {
        "id": "yCahbBEsMCSJ"
      },
      "source": [
        "# 1. Predicting Gender of Brazilian Names Using Deep Learning\n"
      ]
    },
    {
      "cell_type": "markdown",
      "metadata": {
        "id": "KENlSnN4ftje"
      },
      "source": [
        "## 1.1 Necessary libraries"
      ]
    },
    {
      "cell_type": "code",
      "metadata": {
        "id": "TEHtFf75L2bP"
      },
      "source": [
        "import pandas as pd                       \n",
        "import numpy as np\n",
        "from tensorflow import keras\n",
        "from keras.layers import Dense, Dropout, Flatten, GRU, SimpleRNN, LSTM, Bidirectional, Activation, TimeDistributed\n",
        "from keras.layers.convolutional import Conv1D, MaxPooling1D\n",
        "from sklearn.model_selection import train_test_split\n",
        "from tensorflow.keras import layers\n",
        "from tensorflow.keras.regularizers import l2\n",
        "import matplotlib.pyplot as plt\n"
      ],
      "execution_count": null,
      "outputs": []
    },
    {
      "cell_type": "markdown",
      "metadata": {
        "id": "C4n2Osouf2vD"
      },
      "source": [
        "## 1.2 Read the dataset"
      ]
    },
    {
      "cell_type": "code",
      "metadata": {
        "colab": {
          "base_uri": "https://localhost:8080/",
          "height": 224
        },
        "id": "j3e-YoOWO9hE",
        "outputId": "cba99efb-843c-409f-cffa-7610f3cb6d9e"
      },
      "source": [
        "df = pd.read_csv('nomes.csv.gz') \n",
        "df.head()"
      ],
      "execution_count": null,
      "outputs": [
        {
          "output_type": "execute_result",
          "data": {
            "text/html": [
              "<div>\n",
              "<style scoped>\n",
              "    .dataframe tbody tr th:only-of-type {\n",
              "        vertical-align: middle;\n",
              "    }\n",
              "\n",
              "    .dataframe tbody tr th {\n",
              "        vertical-align: top;\n",
              "    }\n",
              "\n",
              "    .dataframe thead th {\n",
              "        text-align: right;\n",
              "    }\n",
              "</style>\n",
              "<table border=\"1\" class=\"dataframe\">\n",
              "  <thead>\n",
              "    <tr style=\"text-align: right;\">\n",
              "      <th></th>\n",
              "      <th>alternative_names</th>\n",
              "      <th>classification</th>\n",
              "      <th>first_name</th>\n",
              "      <th>frequency_female</th>\n",
              "      <th>frequency_male</th>\n",
              "      <th>frequency_total</th>\n",
              "      <th>frequency_group</th>\n",
              "      <th>group_name</th>\n",
              "      <th>ratio</th>\n",
              "    </tr>\n",
              "  </thead>\n",
              "  <tbody>\n",
              "    <tr>\n",
              "      <th>0</th>\n",
              "      <td>AILINE|ALEINE|ALIINE|ALINE|ALINER|ALINHE|ALINN...</td>\n",
              "      <td>F</td>\n",
              "      <td>AALINE</td>\n",
              "      <td>66.0</td>\n",
              "      <td>NaN</td>\n",
              "      <td>66</td>\n",
              "      <td>530550</td>\n",
              "      <td>ALINE</td>\n",
              "      <td>1.0</td>\n",
              "    </tr>\n",
              "    <tr>\n",
              "      <th>1</th>\n",
              "      <td>ARAAO|ARAO</td>\n",
              "      <td>M</td>\n",
              "      <td>AARAO</td>\n",
              "      <td>NaN</td>\n",
              "      <td>281.0</td>\n",
              "      <td>281</td>\n",
              "      <td>3526</td>\n",
              "      <td>ARAO</td>\n",
              "      <td>1.0</td>\n",
              "    </tr>\n",
              "    <tr>\n",
              "      <th>2</th>\n",
              "      <td>AHARON|AROM|ARON|ARYON|HARON</td>\n",
              "      <td>M</td>\n",
              "      <td>AARON</td>\n",
              "      <td>NaN</td>\n",
              "      <td>676.0</td>\n",
              "      <td>676</td>\n",
              "      <td>3442</td>\n",
              "      <td>ARON</td>\n",
              "      <td>1.0</td>\n",
              "    </tr>\n",
              "    <tr>\n",
              "      <th>3</th>\n",
              "      <td>ADA|ADAH|ADAR|ADHA|HADA</td>\n",
              "      <td>F</td>\n",
              "      <td>ABA</td>\n",
              "      <td>82.0</td>\n",
              "      <td>NaN</td>\n",
              "      <td>82</td>\n",
              "      <td>5583</td>\n",
              "      <td>ADA</td>\n",
              "      <td>1.0</td>\n",
              "    </tr>\n",
              "    <tr>\n",
              "      <th>4</th>\n",
              "      <td>NaN</td>\n",
              "      <td>M</td>\n",
              "      <td>ABADE</td>\n",
              "      <td>NaN</td>\n",
              "      <td>57.0</td>\n",
              "      <td>57</td>\n",
              "      <td>57</td>\n",
              "      <td>ABADE</td>\n",
              "      <td>1.0</td>\n",
              "    </tr>\n",
              "  </tbody>\n",
              "</table>\n",
              "</div>"
            ],
            "text/plain": [
              "                                   alternative_names  ... ratio\n",
              "0  AILINE|ALEINE|ALIINE|ALINE|ALINER|ALINHE|ALINN...  ...   1.0\n",
              "1                                         ARAAO|ARAO  ...   1.0\n",
              "2                       AHARON|AROM|ARON|ARYON|HARON  ...   1.0\n",
              "3                            ADA|ADAH|ADAR|ADHA|HADA  ...   1.0\n",
              "4                                                NaN  ...   1.0\n",
              "\n",
              "[5 rows x 9 columns]"
            ]
          },
          "metadata": {
            "tags": []
          },
          "execution_count": 3
        }
      ]
    },
    {
      "cell_type": "code",
      "metadata": {
        "colab": {
          "base_uri": "https://localhost:8080/"
        },
        "id": "E_N6fZ4JbXFm",
        "outputId": "0ac30748-eff9-4d73-9e8f-e1ba5728ece7"
      },
      "source": [
        "df.info()"
      ],
      "execution_count": null,
      "outputs": [
        {
          "output_type": "stream",
          "text": [
            "<class 'pandas.core.frame.DataFrame'>\n",
            "RangeIndex: 100787 entries, 0 to 100786\n",
            "Data columns (total 9 columns):\n",
            " #   Column             Non-Null Count   Dtype  \n",
            "---  ------             --------------   -----  \n",
            " 0   alternative_names  70745 non-null   object \n",
            " 1   classification     100787 non-null  object \n",
            " 2   first_name         100787 non-null  object \n",
            " 3   frequency_female   60484 non-null   float64\n",
            " 4   frequency_male     50932 non-null   float64\n",
            " 5   frequency_total    100787 non-null  int64  \n",
            " 6   frequency_group    100787 non-null  int64  \n",
            " 7   group_name         100787 non-null  object \n",
            " 8   ratio              100787 non-null  float64\n",
            "dtypes: float64(3), int64(2), object(4)\n",
            "memory usage: 6.9+ MB\n"
          ],
          "name": "stdout"
        }
      ]
    },
    {
      "cell_type": "markdown",
      "metadata": {
        "id": "WzVdVCUKRKCQ"
      },
      "source": [
        "### 1.2.1 Preparing the data "
      ]
    },
    {
      "cell_type": "code",
      "metadata": {
        "id": "Oh_6bEAWbgqT"
      },
      "source": [
        "y = df['classification'].astype(\"category\").cat.codes.values    # y labels into numbers 0 is F and 1 is M\n",
        "names = df['first_name'].apply(lambda x: x.lower())             # input names"
      ],
      "execution_count": null,
      "outputs": []
    },
    {
      "cell_type": "code",
      "metadata": {
        "colab": {
          "base_uri": "https://localhost:8080/"
        },
        "id": "CTDY5VYBl64k",
        "outputId": "e95b0b9e-454d-49d5-ff93-d33c200fa27f"
      },
      "source": [
        "print(\"M : \" + str(sum(y==1)))\n",
        "print(\"F : \" + str(sum(y==0)))\n",
        "print(len(y))"
      ],
      "execution_count": null,
      "outputs": [
        {
          "output_type": "stream",
          "text": [
            "M : 45537\n",
            "F : 55250\n",
            "100787\n"
          ],
          "name": "stdout"
        }
      ]
    },
    {
      "cell_type": "markdown",
      "metadata": {
        "id": "unV-k__Lgb0E"
      },
      "source": [
        "## 1.3 Encoding Words\n",
        "\n",
        "Neural networks can only learn to find patterns in numerical data, so it is necessary to convert our data into numeric values with word encoding or tokenization. "
      ]
    },
    {
      "cell_type": "code",
      "metadata": {
        "id": "8zNIym5uBmHS"
      },
      "source": [
        "#word encoding\n",
        "maxlen = 20                                               # max lenght of a name\n",
        "'''Define a vocabulary which corresponds to all the unique letters encountered'''\n",
        "vocab = set(' '.join([str(i) for i in names]))            # creating a vocab\n",
        "vocab.add('END')\n",
        "len_vocab = len(vocab)\n",
        "''' The dictionary maps each letter of vocabulary to a number '''\n",
        "char_index = dict((c, i) for i, c in enumerate(vocab))    # creating a dictionary\n",
        "\n",
        "# Builds an empty line with a 1 at the index of character\n",
        "def set_flag(i):\n",
        "    aux = np.zeros(len_vocab);\n",
        "    aux[i] = 1\n",
        "    return list(aux)\n",
        "\n",
        "# Truncate names and create the matrix\n",
        "def prepare_encod_names(X):\n",
        "    vec_names = []\n",
        "    trunc_name = [str(i)[0:maxlen] for i in X]  # consider only the first 20 characters\n",
        "    for i in trunc_name:\n",
        "        tmp = [set_flag(char_index[j]) for j in str(i)]\n",
        "        for k in range(0,maxlen - len(str(i))):\n",
        "            tmp.append(set_flag(char_index[\"END\"]))\n",
        "        vec_names.append(tmp)\n",
        "    return vec_names"
      ],
      "execution_count": null,
      "outputs": []
    },
    {
      "cell_type": "code",
      "metadata": {
        "id": "7pNJbOIUeqFf"
      },
      "source": [
        "x = prepare_encod_names(names.values)   # Now the names are encod as a vector of numbers "
      ],
      "execution_count": null,
      "outputs": []
    },
    {
      "cell_type": "markdown",
      "metadata": {
        "id": "FXl0jak5hfeW"
      },
      "source": [
        "## 1.4 Split the data into test and train"
      ]
    },
    {
      "cell_type": "code",
      "metadata": {
        "id": "23kNSk8pb_W1"
      },
      "source": [
        "# train, val, test set will be 60%, 20%, 20% of the dataset respectively\n",
        "x_train, x_test, y_train, y_test = train_test_split(x, y, test_size=0.2, random_state=28)\n",
        "x_train, x_val, y_train, y_val = train_test_split(x_train, y_train, test_size=0.2, random_state=40)\n",
        "x_train = np.asarray(x_train)\n",
        "y_train = np.asarray(y_train)\n",
        "x_test = np.asarray(x_test)\n",
        "y_test = np.asarray(y_test)\n",
        "x_val = np.asarray(x_val)\n",
        "y_val = np.asarray(y_val)"
      ],
      "execution_count": null,
      "outputs": []
    },
    {
      "cell_type": "markdown",
      "metadata": {
        "id": "cdG3or3Jhqle"
      },
      "source": [
        "## 1.5 Building the CNN Model"
      ]
    },
    {
      "cell_type": "code",
      "metadata": {
        "id": "o_NSKAuiMh0p",
        "colab": {
          "base_uri": "https://localhost:8080/"
        },
        "outputId": "ba94a925-26e9-4818-d4f7-f838b18ce9e8"
      },
      "source": [
        "CNNmodel = keras.Sequential()  \n",
        "CNNmodel.add(Conv1D(32, 2, activation='relu', input_shape=(20,28) )) # 32 convolution filters used each of size 2\n",
        "CNNmodel.add(Conv1D(64, 3, activation='relu' ))       # 64 convolution filters used each of size 3\n",
        "CNNmodel.add(MaxPooling1D(pool_size=(1,)))            # choose the best features via pooling\n",
        "CNNmodel.add(Dropout(0.25))                           # randomly turn neurons on and off to improve convergence\n",
        "CNNmodel.add(Flatten())                               # flatten we only want a classification output\n",
        "CNNmodel.add(Dense(150, activation='relu'))           # fully connected to get all relevant data\n",
        "CNNmodel.add(Dropout(0.1))                            # one more dropout\n",
        "CNNmodel.add(Dense(1, activation='sigmoid'))          # output \n",
        "\n",
        "lr_schedule = keras.optimizers.schedules.ExponentialDecay(\n",
        "    initial_learning_rate=1e-2,\n",
        "    decay_steps=10000,\n",
        "    decay_rate=0.9)\n",
        "opt = keras.optimizers.Adagrad(learning_rate=lr_schedule)\n",
        "CNNmodel.compile(loss='binary_crossentropy', optimizer=opt, metrics=['accuracy'])\n",
        "\n",
        "CNNhistory = CNNmodel.fit(x_train, y_train, validation_data=(x_val, y_val),  epochs=20, batch_size=128) # Getting score metrics\n",
        "scores = CNNmodel.evaluate(x_test, y_test) \n",
        "print(\"Accuracy: %.2f%%\" % (scores[1]*100))"
      ],
      "execution_count": null,
      "outputs": [
        {
          "output_type": "stream",
          "text": [
            "Epoch 1/20\n",
            "473/473 [==============================] - 8s 14ms/step - loss: 0.6498 - accuracy: 0.6152 - val_loss: 0.5025 - val_accuracy: 0.8038\n",
            "Epoch 2/20\n",
            "473/473 [==============================] - 7s 14ms/step - loss: 0.3809 - accuracy: 0.8295 - val_loss: 0.3112 - val_accuracy: 0.8622\n",
            "Epoch 3/20\n",
            "473/473 [==============================] - 7s 14ms/step - loss: 0.3077 - accuracy: 0.8627 - val_loss: 0.2835 - val_accuracy: 0.8762\n",
            "Epoch 4/20\n",
            "473/473 [==============================] - 7s 14ms/step - loss: 0.2816 - accuracy: 0.8764 - val_loss: 0.2649 - val_accuracy: 0.8861\n",
            "Epoch 5/20\n",
            "473/473 [==============================] - 7s 14ms/step - loss: 0.2644 - accuracy: 0.8860 - val_loss: 0.2613 - val_accuracy: 0.8873\n",
            "Epoch 6/20\n",
            "473/473 [==============================] - 7s 14ms/step - loss: 0.2521 - accuracy: 0.8921 - val_loss: 0.2422 - val_accuracy: 0.9004\n",
            "Epoch 7/20\n",
            "473/473 [==============================] - 7s 14ms/step - loss: 0.2438 - accuracy: 0.8977 - val_loss: 0.2339 - val_accuracy: 0.9056\n",
            "Epoch 8/20\n",
            "473/473 [==============================] - 7s 14ms/step - loss: 0.2364 - accuracy: 0.9015 - val_loss: 0.2301 - val_accuracy: 0.9074\n",
            "Epoch 9/20\n",
            "473/473 [==============================] - 7s 14ms/step - loss: 0.2298 - accuracy: 0.9060 - val_loss: 0.2233 - val_accuracy: 0.9112\n",
            "Epoch 10/20\n",
            "473/473 [==============================] - 7s 14ms/step - loss: 0.2240 - accuracy: 0.9100 - val_loss: 0.2175 - val_accuracy: 0.9145\n",
            "Epoch 11/20\n",
            "473/473 [==============================] - 7s 14ms/step - loss: 0.2202 - accuracy: 0.9114 - val_loss: 0.2144 - val_accuracy: 0.9166\n",
            "Epoch 12/20\n",
            "473/473 [==============================] - 7s 14ms/step - loss: 0.2151 - accuracy: 0.9151 - val_loss: 0.2119 - val_accuracy: 0.9175\n",
            "Epoch 13/20\n",
            "473/473 [==============================] - 7s 14ms/step - loss: 0.2117 - accuracy: 0.9157 - val_loss: 0.2118 - val_accuracy: 0.9167\n",
            "Epoch 14/20\n",
            "473/473 [==============================] - 7s 14ms/step - loss: 0.2094 - accuracy: 0.9168 - val_loss: 0.2065 - val_accuracy: 0.9204\n",
            "Epoch 15/20\n",
            "473/473 [==============================] - 7s 14ms/step - loss: 0.2070 - accuracy: 0.9174 - val_loss: 0.2035 - val_accuracy: 0.9224\n",
            "Epoch 16/20\n",
            "473/473 [==============================] - 7s 14ms/step - loss: 0.2041 - accuracy: 0.9203 - val_loss: 0.2018 - val_accuracy: 0.9223\n",
            "Epoch 17/20\n",
            "473/473 [==============================] - 7s 14ms/step - loss: 0.2023 - accuracy: 0.9204 - val_loss: 0.1993 - val_accuracy: 0.9239\n",
            "Epoch 18/20\n",
            "473/473 [==============================] - 7s 14ms/step - loss: 0.2004 - accuracy: 0.9218 - val_loss: 0.1975 - val_accuracy: 0.9253\n",
            "Epoch 19/20\n",
            "473/473 [==============================] - 7s 14ms/step - loss: 0.1993 - accuracy: 0.9228 - val_loss: 0.1963 - val_accuracy: 0.9264\n",
            "Epoch 20/20\n",
            "473/473 [==============================] - 6s 14ms/step - loss: 0.1969 - accuracy: 0.9233 - val_loss: 0.1949 - val_accuracy: 0.9266\n",
            "630/630 [==============================] - 1s 2ms/step - loss: 0.1895 - accuracy: 0.9267\n",
            "Accuracy: 92.67%\n"
          ],
          "name": "stdout"
        }
      ]
    },
    {
      "cell_type": "markdown",
      "metadata": {
        "id": "c0WiWfu32ytT"
      },
      "source": [
        "## 1.6 Building the RNN Model"
      ]
    },
    {
      "cell_type": "code",
      "metadata": {
        "colab": {
          "base_uri": "https://localhost:8080/"
        },
        "id": "zwwNwnTmaY4i",
        "outputId": "d7f80c76-19cc-44b6-9291-fd4c45292f23"
      },
      "source": [
        "RNNmodel=keras.Sequential()\n",
        "RNNmodel.add(SimpleRNN(32, input_shape=(x_train.shape[1],x_train.shape[2]), activation='tanh', return_sequences=True))\n",
        "RNNmodel.add(TimeDistributed(Dense(1))) \n",
        "RNNmodel.add(Flatten())\n",
        "RNNmodel.add(Dense(1, activation='sigmoid'))\n",
        "\n",
        "lr_schedule = keras.optimizers.schedules.ExponentialDecay(\n",
        "    initial_learning_rate=1e-2,\n",
        "    decay_steps=10000,\n",
        "    decay_rate=0.9)\n",
        "opt = keras.optimizers.Adam(learning_rate=lr_schedule)\n",
        "RNNmodel.compile(loss='binary_crossentropy', optimizer=opt, metrics=['accuracy'])\n",
        "\n",
        "RNNhistory=RNNmodel.fit(x_train, y_train , epochs=20, batch_size=128, validation_data=(x_val,y_val))\n",
        "RNNscores = RNNmodel.evaluate(x_test, y_test) \n",
        "print(\"Accuracy: %.2f%%\" % (RNNscores[1]*100))"
      ],
      "execution_count": null,
      "outputs": [
        {
          "output_type": "stream",
          "text": [
            "Epoch 1/20\n",
            "473/473 [==============================] - 4s 7ms/step - loss: 0.2621 - accuracy: 0.8881 - val_loss: 0.2249 - val_accuracy: 0.9079\n",
            "Epoch 2/20\n",
            "473/473 [==============================] - 3s 7ms/step - loss: 0.2004 - accuracy: 0.9211 - val_loss: 0.2086 - val_accuracy: 0.9143\n",
            "Epoch 3/20\n",
            "473/473 [==============================] - 3s 7ms/step - loss: 0.1884 - accuracy: 0.9252 - val_loss: 0.2016 - val_accuracy: 0.9238\n",
            "Epoch 4/20\n",
            "473/473 [==============================] - 3s 7ms/step - loss: 0.1810 - accuracy: 0.9280 - val_loss: 0.1844 - val_accuracy: 0.9276\n",
            "Epoch 5/20\n",
            "473/473 [==============================] - 3s 7ms/step - loss: 0.1724 - accuracy: 0.9329 - val_loss: 0.1796 - val_accuracy: 0.9308\n",
            "Epoch 6/20\n",
            "473/473 [==============================] - 3s 7ms/step - loss: 0.1685 - accuracy: 0.9356 - val_loss: 0.1761 - val_accuracy: 0.9325\n",
            "Epoch 7/20\n",
            "473/473 [==============================] - 3s 7ms/step - loss: 0.1648 - accuracy: 0.9366 - val_loss: 0.1881 - val_accuracy: 0.9263\n",
            "Epoch 8/20\n",
            "473/473 [==============================] - 3s 7ms/step - loss: 0.1595 - accuracy: 0.9379 - val_loss: 0.1757 - val_accuracy: 0.9306\n",
            "Epoch 9/20\n",
            "473/473 [==============================] - 3s 7ms/step - loss: 0.1591 - accuracy: 0.9389 - val_loss: 0.1727 - val_accuracy: 0.9341\n",
            "Epoch 10/20\n",
            "473/473 [==============================] - 3s 7ms/step - loss: 0.1555 - accuracy: 0.9400 - val_loss: 0.1785 - val_accuracy: 0.9324\n",
            "Epoch 11/20\n",
            "473/473 [==============================] - 3s 7ms/step - loss: 0.1556 - accuracy: 0.9398 - val_loss: 0.1712 - val_accuracy: 0.9346\n",
            "Epoch 12/20\n",
            "473/473 [==============================] - 3s 7ms/step - loss: 0.1531 - accuracy: 0.9415 - val_loss: 0.1711 - val_accuracy: 0.9332\n",
            "Epoch 13/20\n",
            "473/473 [==============================] - 3s 7ms/step - loss: 0.1534 - accuracy: 0.9405 - val_loss: 0.1688 - val_accuracy: 0.9341\n",
            "Epoch 14/20\n",
            "473/473 [==============================] - 3s 7ms/step - loss: 0.1520 - accuracy: 0.9414 - val_loss: 0.1782 - val_accuracy: 0.9310\n",
            "Epoch 15/20\n",
            "473/473 [==============================] - 3s 7ms/step - loss: 0.1490 - accuracy: 0.9422 - val_loss: 0.1636 - val_accuracy: 0.9375\n",
            "Epoch 16/20\n",
            "473/473 [==============================] - 3s 6ms/step - loss: 0.1496 - accuracy: 0.9434 - val_loss: 0.1660 - val_accuracy: 0.9377\n",
            "Epoch 17/20\n",
            "473/473 [==============================] - 3s 7ms/step - loss: 0.1482 - accuracy: 0.9440 - val_loss: 0.1634 - val_accuracy: 0.9389\n",
            "Epoch 18/20\n",
            "473/473 [==============================] - 3s 7ms/step - loss: 0.1468 - accuracy: 0.9434 - val_loss: 0.1757 - val_accuracy: 0.9297\n",
            "Epoch 19/20\n",
            "473/473 [==============================] - 3s 7ms/step - loss: 0.1459 - accuracy: 0.9452 - val_loss: 0.1675 - val_accuracy: 0.9358\n",
            "Epoch 20/20\n",
            "473/473 [==============================] - 3s 7ms/step - loss: 0.1486 - accuracy: 0.9426 - val_loss: 0.1675 - val_accuracy: 0.9374\n",
            "630/630 [==============================] - 1s 2ms/step - loss: 0.1579 - accuracy: 0.9385\n",
            "Accuracy: 93.85%\n"
          ],
          "name": "stdout"
        }
      ]
    },
    {
      "cell_type": "markdown",
      "metadata": {
        "id": "4ihfBuKG22KE"
      },
      "source": [
        "## 1.7 Building the GRU Model"
      ]
    },
    {
      "cell_type": "code",
      "metadata": {
        "colab": {
          "base_uri": "https://localhost:8080/"
        },
        "id": "uG-syJZFcEHD",
        "outputId": "fd97e366-8126-4510-f237-0778eb5877f6"
      },
      "source": [
        "GRUmodel=keras.Sequential()\n",
        "GRUmodel.add(GRU(32, input_shape=(x_train.shape[1],x_train.shape[2]),activation='tanh', return_sequences=True))\n",
        "GRUmodel.add(TimeDistributed(Dense(1))) \n",
        "GRUmodel.add(Flatten())\n",
        "GRUmodel.add(Dense(1, activation='sigmoid'))\n",
        "\n",
        "lr_schedule = keras.optimizers.schedules.ExponentialDecay(\n",
        "    initial_learning_rate=1e-2,\n",
        "    decay_steps=10000,\n",
        "    decay_rate=0.9)\n",
        "opt = keras.optimizers.Adam(learning_rate=lr_schedule)\n",
        "GRUmodel.compile(loss='binary_crossentropy', optimizer=opt, metrics=['accuracy'])\n",
        "\n",
        "GRUhistory=GRUmodel.fit(x_train, y_train , epochs=20, batch_size=128, validation_data=(x_val,y_val))\n",
        "GRUscores = GRUmodel.evaluate(x_test, y_test) \n",
        "print(\"Accuracy: %.2f%%\" % (GRUscores[1]*100))  "
      ],
      "execution_count": null,
      "outputs": [
        {
          "output_type": "stream",
          "text": [
            "Epoch 1/20\n",
            "473/473 [==============================] - 8s 14ms/step - loss: 0.2617 - accuracy: 0.8849 - val_loss: 0.2117 - val_accuracy: 0.9167\n",
            "Epoch 2/20\n",
            "473/473 [==============================] - 6s 13ms/step - loss: 0.1729 - accuracy: 0.9322 - val_loss: 0.1674 - val_accuracy: 0.9355\n",
            "Epoch 3/20\n",
            "473/473 [==============================] - 6s 13ms/step - loss: 0.1521 - accuracy: 0.9412 - val_loss: 0.1689 - val_accuracy: 0.9323\n",
            "Epoch 4/20\n",
            "473/473 [==============================] - 6s 13ms/step - loss: 0.1394 - accuracy: 0.9467 - val_loss: 0.1481 - val_accuracy: 0.9439\n",
            "Epoch 5/20\n",
            "473/473 [==============================] - 6s 13ms/step - loss: 0.1299 - accuracy: 0.9505 - val_loss: 0.1481 - val_accuracy: 0.9428\n",
            "Epoch 6/20\n",
            "473/473 [==============================] - 6s 13ms/step - loss: 0.1201 - accuracy: 0.9544 - val_loss: 0.1393 - val_accuracy: 0.9469\n",
            "Epoch 7/20\n",
            "473/473 [==============================] - 6s 13ms/step - loss: 0.1147 - accuracy: 0.9558 - val_loss: 0.1478 - val_accuracy: 0.9430\n",
            "Epoch 8/20\n",
            "473/473 [==============================] - 6s 13ms/step - loss: 0.1099 - accuracy: 0.9582 - val_loss: 0.1406 - val_accuracy: 0.9450\n",
            "Epoch 9/20\n",
            "473/473 [==============================] - 6s 13ms/step - loss: 0.1049 - accuracy: 0.9608 - val_loss: 0.1495 - val_accuracy: 0.9459\n",
            "Epoch 10/20\n",
            "473/473 [==============================] - 6s 13ms/step - loss: 0.1024 - accuracy: 0.9613 - val_loss: 0.1373 - val_accuracy: 0.9477\n",
            "Epoch 11/20\n",
            "473/473 [==============================] - 6s 13ms/step - loss: 0.0985 - accuracy: 0.9629 - val_loss: 0.1410 - val_accuracy: 0.9490\n",
            "Epoch 12/20\n",
            "473/473 [==============================] - 6s 13ms/step - loss: 0.0968 - accuracy: 0.9633 - val_loss: 0.1452 - val_accuracy: 0.9467\n",
            "Epoch 13/20\n",
            "473/473 [==============================] - 6s 13ms/step - loss: 0.0947 - accuracy: 0.9636 - val_loss: 0.1396 - val_accuracy: 0.9461\n",
            "Epoch 14/20\n",
            "473/473 [==============================] - 6s 13ms/step - loss: 0.0915 - accuracy: 0.9645 - val_loss: 0.1481 - val_accuracy: 0.9464\n",
            "Epoch 15/20\n",
            "473/473 [==============================] - 6s 13ms/step - loss: 0.0896 - accuracy: 0.9664 - val_loss: 0.1473 - val_accuracy: 0.9478\n",
            "Epoch 16/20\n",
            "473/473 [==============================] - 6s 13ms/step - loss: 0.0879 - accuracy: 0.9665 - val_loss: 0.1563 - val_accuracy: 0.9463\n",
            "Epoch 17/20\n",
            "473/473 [==============================] - 6s 13ms/step - loss: 0.0879 - accuracy: 0.9667 - val_loss: 0.1427 - val_accuracy: 0.9469\n",
            "Epoch 18/20\n",
            "473/473 [==============================] - 6s 13ms/step - loss: 0.0855 - accuracy: 0.9673 - val_loss: 0.1488 - val_accuracy: 0.9476\n",
            "Epoch 19/20\n",
            "473/473 [==============================] - 6s 13ms/step - loss: 0.0842 - accuracy: 0.9682 - val_loss: 0.1460 - val_accuracy: 0.9468\n",
            "Epoch 20/20\n",
            "473/473 [==============================] - 6s 13ms/step - loss: 0.0838 - accuracy: 0.9682 - val_loss: 0.1518 - val_accuracy: 0.9476\n",
            "630/630 [==============================] - 2s 2ms/step - loss: 0.1484 - accuracy: 0.9480\n",
            "Accuracy: 94.80%\n"
          ],
          "name": "stdout"
        }
      ]
    },
    {
      "cell_type": "markdown",
      "metadata": {
        "id": "B8JDT6Ei25NS"
      },
      "source": [
        "## 1.8 Building the DNN Model"
      ]
    },
    {
      "cell_type": "code",
      "metadata": {
        "colab": {
          "base_uri": "https://localhost:8080/"
        },
        "id": "xKY2mHhPdcCI",
        "outputId": "5e912aa3-f039-4154-d06b-560d19cca66b"
      },
      "source": [
        "DNNmodel = keras.Sequential()                                   # Sequential model\n",
        "n_inputs = 28                                                   # nº of states  \n",
        "inputs = keras.Input(shape=(20,n_inputs,), name = 'input')      # Define inputs\n",
        "l1=layers.Dense(64, activation='relu', name = 'hidden_layer_1')(inputs) \n",
        "ly2=layers.Dense(128, activation='softplus', name = 'hidden_layer_2')(l1) \n",
        "l3=layers.Dropout(0.25)(ly2)\n",
        "l4=layers.Flatten()(l3)                 \n",
        "output=[] \n",
        "output.append(layers.Dense(1, activation='sigmoid', name = 'output')(l4))                                    \n",
        "DNNmodel = keras.Model(inputs=inputs, outputs=output)       \n",
        "\n",
        "lr_schedule = keras.optimizers.schedules.ExponentialDecay(\n",
        "    initial_learning_rate=1e-2,\n",
        "    decay_steps=10000,\n",
        "    decay_rate=0.9)\n",
        "opt = keras.optimizers.Adam(learning_rate=lr_schedule)\n",
        "DNNmodel.compile(loss='binary_crossentropy', optimizer=opt, metrics=['accuracy'])\n",
        "\n",
        "DNNhistory = DNNmodel.fit(x_train, y_train, batch_size=32, epochs=20, validation_data =(x_val, y_val))\n",
        "DNNscores = DNNmodel.evaluate(x_test, y_test) \n",
        "print(\"Accuracy: %.2f%%\" % (DNNscores[1]*100))"
      ],
      "execution_count": null,
      "outputs": [
        {
          "output_type": "stream",
          "text": [
            "Epoch 1/20\n",
            "1890/1890 [==============================] - 11s 6ms/step - loss: 0.3831 - accuracy: 0.8315 - val_loss: 0.3311 - val_accuracy: 0.8518\n",
            "Epoch 2/20\n",
            "1890/1890 [==============================] - 11s 6ms/step - loss: 0.3360 - accuracy: 0.8519 - val_loss: 0.3265 - val_accuracy: 0.8615\n",
            "Epoch 3/20\n",
            "1890/1890 [==============================] - 11s 6ms/step - loss: 0.3284 - accuracy: 0.8564 - val_loss: 0.3343 - val_accuracy: 0.8570\n",
            "Epoch 4/20\n",
            "1890/1890 [==============================] - 11s 6ms/step - loss: 0.3271 - accuracy: 0.8552 - val_loss: 0.3125 - val_accuracy: 0.8626\n",
            "Epoch 5/20\n",
            "1890/1890 [==============================] - 11s 6ms/step - loss: 0.3236 - accuracy: 0.8580 - val_loss: 0.3164 - val_accuracy: 0.8609\n",
            "Epoch 6/20\n",
            "1890/1890 [==============================] - 11s 6ms/step - loss: 0.3227 - accuracy: 0.8589 - val_loss: 0.3134 - val_accuracy: 0.8656\n",
            "Epoch 7/20\n",
            "1890/1890 [==============================] - 11s 6ms/step - loss: 0.3216 - accuracy: 0.8582 - val_loss: 0.3145 - val_accuracy: 0.8656\n",
            "Epoch 8/20\n",
            "1890/1890 [==============================] - 11s 6ms/step - loss: 0.3185 - accuracy: 0.8609 - val_loss: 0.3145 - val_accuracy: 0.8663\n",
            "Epoch 9/20\n",
            "1890/1890 [==============================] - 11s 6ms/step - loss: 0.3164 - accuracy: 0.8606 - val_loss: 0.3265 - val_accuracy: 0.8583\n",
            "Epoch 10/20\n",
            "1890/1890 [==============================] - 11s 6ms/step - loss: 0.3168 - accuracy: 0.8610 - val_loss: 0.3096 - val_accuracy: 0.8679\n",
            "Epoch 11/20\n",
            "1890/1890 [==============================] - 11s 6ms/step - loss: 0.3153 - accuracy: 0.8620 - val_loss: 0.3075 - val_accuracy: 0.8694\n",
            "Epoch 12/20\n",
            "1890/1890 [==============================] - 11s 6ms/step - loss: 0.3151 - accuracy: 0.8622 - val_loss: 0.3098 - val_accuracy: 0.8674\n",
            "Epoch 13/20\n",
            "1890/1890 [==============================] - 11s 6ms/step - loss: 0.3144 - accuracy: 0.8627 - val_loss: 0.3077 - val_accuracy: 0.8702\n",
            "Epoch 14/20\n",
            "1890/1890 [==============================] - 11s 6ms/step - loss: 0.3134 - accuracy: 0.8631 - val_loss: 0.3059 - val_accuracy: 0.8694\n",
            "Epoch 15/20\n",
            "1890/1890 [==============================] - 11s 6ms/step - loss: 0.3131 - accuracy: 0.8634 - val_loss: 0.3098 - val_accuracy: 0.8693\n",
            "Epoch 16/20\n",
            "1890/1890 [==============================] - 11s 6ms/step - loss: 0.3130 - accuracy: 0.8629 - val_loss: 0.3112 - val_accuracy: 0.8649\n",
            "Epoch 17/20\n",
            "1890/1890 [==============================] - 11s 6ms/step - loss: 0.3124 - accuracy: 0.8639 - val_loss: 0.3056 - val_accuracy: 0.8677\n",
            "Epoch 18/20\n",
            "1890/1890 [==============================] - 11s 6ms/step - loss: 0.3117 - accuracy: 0.8647 - val_loss: 0.3076 - val_accuracy: 0.8680\n",
            "Epoch 19/20\n",
            "1890/1890 [==============================] - 11s 6ms/step - loss: 0.3108 - accuracy: 0.8644 - val_loss: 0.3056 - val_accuracy: 0.8694\n",
            "Epoch 20/20\n",
            "1890/1890 [==============================] - 11s 6ms/step - loss: 0.3116 - accuracy: 0.8638 - val_loss: 0.3076 - val_accuracy: 0.8676\n",
            "630/630 [==============================] - 1s 2ms/step - loss: 0.3052 - accuracy: 0.8692\n",
            "Accuracy: 86.92%\n"
          ],
          "name": "stdout"
        }
      ]
    },
    {
      "cell_type": "markdown",
      "metadata": {
        "id": "Kn3ALPE629Ca"
      },
      "source": [
        "## 1.9 Building the BiLSTM Model"
      ]
    },
    {
      "cell_type": "code",
      "metadata": {
        "colab": {
          "base_uri": "https://localhost:8080/"
        },
        "id": "jF4NIzXreW0M",
        "outputId": "49598b4b-2055-47ba-aacf-f4fd21c6ee17"
      },
      "source": [
        "LSTMmodel = keras.Sequential()\n",
        "LSTMmodel.add(Bidirectional(LSTM(64, return_sequences=True), backward_layer=LSTM(64, return_sequences=True, go_backwards=True), input_shape=(maxlen,len_vocab)))\n",
        "LSTMmodel.add(Dropout(0.2))\n",
        "LSTMmodel.add(Bidirectional(LSTM(64)))\n",
        "LSTMmodel.add(Dropout(0.2))\n",
        "LSTMmodel.add(Dense(1, activity_regularizer=l2(0.002)))\n",
        "LSTMmodel.add(Activation('sigmoid'))\n",
        "\n",
        "lr_schedule = keras.optimizers.schedules.ExponentialDecay(\n",
        "    initial_learning_rate=1e-2,\n",
        "    decay_steps=10000,\n",
        "    decay_rate=0.9)\n",
        "opt = keras.optimizers.Adam(learning_rate=lr_schedule)\n",
        "LSTMmodel.compile(loss='binary_crossentropy', optimizer=opt, metrics=['accuracy'])\n",
        "\n",
        "LSTMhistory = LSTMmodel.fit(x_train, y_train, batch_size=128, epochs=20, validation_data =(x_val, y_val))\n",
        "LSTMscores = LSTMmodel.evaluate(x_test, y_test) \n",
        "print(\"Accuracy: %.2f%%\" % (LSTMscores[1]*100))"
      ],
      "execution_count": null,
      "outputs": [
        {
          "output_type": "stream",
          "text": [
            "Epoch 1/20\n",
            "473/473 [==============================] - 56s 104ms/step - loss: 0.2607 - accuracy: 0.8879 - val_loss: 0.1912 - val_accuracy: 0.9259\n",
            "Epoch 2/20\n",
            "473/473 [==============================] - 48s 102ms/step - loss: 0.1702 - accuracy: 0.9354 - val_loss: 0.1578 - val_accuracy: 0.9390\n",
            "Epoch 3/20\n",
            "473/473 [==============================] - 48s 102ms/step - loss: 0.1461 - accuracy: 0.9450 - val_loss: 0.1444 - val_accuracy: 0.9451\n",
            "Epoch 4/20\n",
            "473/473 [==============================] - 48s 101ms/step - loss: 0.1275 - accuracy: 0.9520 - val_loss: 0.1321 - val_accuracy: 0.9500\n",
            "Epoch 5/20\n",
            "473/473 [==============================] - 48s 101ms/step - loss: 0.1137 - accuracy: 0.9579 - val_loss: 0.1261 - val_accuracy: 0.9526\n",
            "Epoch 6/20\n",
            "473/473 [==============================] - 48s 101ms/step - loss: 0.1006 - accuracy: 0.9617 - val_loss: 0.1199 - val_accuracy: 0.9547\n",
            "Epoch 7/20\n",
            "473/473 [==============================] - 48s 102ms/step - loss: 0.0917 - accuracy: 0.9650 - val_loss: 0.1171 - val_accuracy: 0.9566\n",
            "Epoch 8/20\n",
            "473/473 [==============================] - 48s 101ms/step - loss: 0.0819 - accuracy: 0.9692 - val_loss: 0.1230 - val_accuracy: 0.9556\n",
            "Epoch 9/20\n",
            "473/473 [==============================] - 48s 101ms/step - loss: 0.0745 - accuracy: 0.9724 - val_loss: 0.1182 - val_accuracy: 0.9581\n",
            "Epoch 10/20\n",
            "473/473 [==============================] - 48s 101ms/step - loss: 0.0675 - accuracy: 0.9743 - val_loss: 0.1214 - val_accuracy: 0.9575\n",
            "Epoch 11/20\n",
            "473/473 [==============================] - 48s 102ms/step - loss: 0.0629 - accuracy: 0.9762 - val_loss: 0.1220 - val_accuracy: 0.9571\n",
            "Epoch 12/20\n",
            "473/473 [==============================] - 48s 102ms/step - loss: 0.0582 - accuracy: 0.9781 - val_loss: 0.1221 - val_accuracy: 0.9592\n",
            "Epoch 13/20\n",
            "473/473 [==============================] - 48s 102ms/step - loss: 0.0571 - accuracy: 0.9782 - val_loss: 0.1266 - val_accuracy: 0.9581\n",
            "Epoch 14/20\n",
            "473/473 [==============================] - 48s 101ms/step - loss: 0.0535 - accuracy: 0.9796 - val_loss: 0.1244 - val_accuracy: 0.9597\n",
            "Epoch 15/20\n",
            "473/473 [==============================] - 48s 102ms/step - loss: 0.0502 - accuracy: 0.9810 - val_loss: 0.1419 - val_accuracy: 0.9574\n",
            "Epoch 16/20\n",
            "473/473 [==============================] - 48s 102ms/step - loss: 0.0464 - accuracy: 0.9821 - val_loss: 0.1369 - val_accuracy: 0.9582\n",
            "Epoch 17/20\n",
            "473/473 [==============================] - 48s 102ms/step - loss: 0.0451 - accuracy: 0.9826 - val_loss: 0.1476 - val_accuracy: 0.9556\n",
            "Epoch 18/20\n",
            "473/473 [==============================] - 48s 102ms/step - loss: 0.0464 - accuracy: 0.9820 - val_loss: 0.1426 - val_accuracy: 0.9578\n",
            "Epoch 19/20\n",
            "473/473 [==============================] - 48s 102ms/step - loss: 0.0414 - accuracy: 0.9844 - val_loss: 0.1398 - val_accuracy: 0.9589\n",
            "Epoch 20/20\n",
            "473/473 [==============================] - 48s 102ms/step - loss: 0.0380 - accuracy: 0.9850 - val_loss: 0.1495 - val_accuracy: 0.9582\n",
            "630/630 [==============================] - 6s 10ms/step - loss: 0.1556 - accuracy: 0.9589\n",
            "Accuracy: 95.89%\n"
          ],
          "name": "stdout"
        }
      ]
    },
    {
      "cell_type": "markdown",
      "metadata": {
        "id": "m55JxwTi7Pyt"
      },
      "source": [
        "## 1.10 Figures"
      ]
    },
    {
      "cell_type": "code",
      "metadata": {
        "colab": {
          "base_uri": "https://localhost:8080/",
          "height": 395
        },
        "id": "wK09xI1-mt7N",
        "outputId": "4dbc0699-e394-4db6-b4b6-31c6f31c9484"
      },
      "source": [
        "plt.figure(1)\n",
        "plt.figure(figsize=(9,5))\n",
        "plt.rcParams.update({'font.size': 12})\n",
        "# summarize for accuracy\n",
        "plt.plot(CNNhistory.history['accuracy'], 'g:')\n",
        "plt.plot(LSTMhistory.history['accuracy'], 'r--')\n",
        "plt.plot(RNNhistory.history['accuracy'], 'c-.')\n",
        "plt.plot(DNNhistory.history['accuracy'], 'm-+')\n",
        "plt.plot(GRUhistory.history['accuracy'], 'y-o')\n",
        "plt.plot(CNNhistory.history['val_accuracy'], 'g-*')\n",
        "plt.plot(LSTMhistory.history['val_accuracy'], 'r-v')\n",
        "plt.plot(RNNhistory.history['val_accuracy'], 'c-h')\n",
        "plt.plot(DNNhistory.history['val_accuracy'], 'm->')\n",
        "plt.plot(GRUhistory.history['val_accuracy'], 'y-s')\n",
        "plt.grid('True')\n",
        "plt.ylabel('Accuracy')\n",
        "plt.xlabel('Epoch')\n",
        "plt.ylim(0.8, 0.99)\n",
        "plt.xlim(0,25)\n",
        "plt.legend(['Train-CNN', 'Train-BiLSTM', 'Train-RNN', 'Train-MLP', 'Train-GRU','Val-CNN',\\\n",
        "            'Val-BiLSTM', 'Val-RNN', 'Val-MLP', 'Val-GRU'], loc='upper right')"
      ],
      "execution_count": null,
      "outputs": [
        {
          "output_type": "stream",
          "text": [
            "The PostScript backend does not support transparency; partially transparent artists will be rendered opaque.\n",
            "The PostScript backend does not support transparency; partially transparent artists will be rendered opaque.\n"
          ],
          "name": "stderr"
        },
        {
          "output_type": "display_data",
          "data": {
            "text/plain": [
              "<Figure size 432x288 with 0 Axes>"
            ]
          },
          "metadata": {
            "tags": []
          }
        },
        {
          "output_type": "display_data",
          "data": {
            "image/png": "[encoded data removed]",
            "text/plain": [
              "<Figure size 648x360 with 1 Axes>"
            ]
          },
          "metadata": {
            "tags": [],
            "needs_background": "light"
          }
        }
      ]
    },
    {
      "cell_type": "code",
      "metadata": {
        "colab": {
          "base_uri": "https://localhost:8080/",
          "height": 322
        },
        "id": "rh44YGWcvMG7",
        "outputId": "a0f245e4-8a84-4ea4-e3d0-2b0de10ea502"
      },
      "source": [
        "plt.figure(2)\n",
        "plt.plot(CNNhistory.history['loss'], 'g:')\n",
        "plt.plot(LSTMhistory.history['loss'], 'r--')\n",
        "plt.plot(RNNhistory.history['loss'], 'c-.')\n",
        "plt.plot(DNNhistory.history['loss'], 'm-+')\n",
        "plt.plot(GRUhistory.history['loss'], 'y-o')\n",
        "plt.plot(CNNhistory.history['val_loss'], 'g-*')\n",
        "plt.plot(LSTMhistory.history['val_loss'], 'r-v')\n",
        "plt.plot(RNNhistory.history['val_loss'], 'c-H')\n",
        "plt.plot(DNNhistory.history['val_loss'], 'm->')\n",
        "plt.plot(GRUhistory.history['val_loss'], 'y-s')\n",
        "plt.ylabel('Loss')\n",
        "plt.xlabel('Epoch')\n",
        "plt.legend(['Train-CNN', 'Train-BiLSTM', 'Train-RNN', 'Train-MLP', 'Train-GRU','Val-CNN',\\\n",
        "            'Val-BiLSTM', 'Val-RNN', 'Val-MLP', 'Val-GRU'], loc='upper right')\n",
        "plt.grid('True')\n",
        "plt.xlim(0,32)"
      ],
      "execution_count": null,
      "outputs": [
        {
          "output_type": "stream",
          "text": [
            "The PostScript backend does not support transparency; partially transparent artists will be rendered opaque.\n",
            "The PostScript backend does not support transparency; partially transparent artists will be rendered opaque.\n"
          ],
          "name": "stderr"
        },
        {
          "output_type": "display_data",
          "data": {
            "image/png": "[encoded data removed]",
            "text/plain": [
              "<Figure size 432x288 with 1 Axes>"
            ]
          },
          "metadata": {
            "tags": [],
            "needs_background": "light"
          }
        }
      ]
    },
    {
      "cell_type": "markdown",
      "metadata": {
        "id": "bii6bsQ_8ihJ"
      },
      "source": [
        "## 1.11 Statistics"
      ]
    },
    {
      "cell_type": "code",
      "metadata": {
        "id": "PHW4P-qG0_dj"
      },
      "source": [
        "y_predCNN =(CNNmodel.predict(x_test) > 0.5).astype(\"int32\")\n",
        "y_predLSTM =(LSTMmodel.predict(x_test) > 0.5).astype(\"int32\")\n",
        "y_predRNN =(RNNmodel.predict(x_test) > 0.5).astype(\"int32\")\n",
        "y_predGRU =(GRUmodel.predict(x_test) > 0.5).astype(\"int32\")\n",
        "y_predDNN =(DNNmodel.predict(x_test) > 0.5).astype(\"int32\")"
      ],
      "execution_count": null,
      "outputs": []
    },
    {
      "cell_type": "code",
      "metadata": {
        "colab": {
          "base_uri": "https://localhost:8080/"
        },
        "id": "x4C61gTr9b3e",
        "outputId": "4e39576c-f9e9-48f6-9ee5-1d3ba349ca80"
      },
      "source": [
        "# Finding precision and recall\n",
        "from sklearn.metrics import precision_score, recall_score\n",
        "print(precision_score(y_test, y_predLSTM))\n",
        "print(recall_score(y_test, y_predLSTM))\n",
        "\n",
        "print(precision_score(y_test, y_predRNN))\n",
        "print(recall_score(y_test, y_predRNN))\n",
        "\n",
        "print(precision_score(y_test, y_predCNN))\n",
        "print(recall_score(y_test, y_predCNN))\n",
        "\n",
        "print(precision_score(y_test, y_predGRU))\n",
        "print(recall_score(y_test, y_predGRU))\n",
        "\n",
        "print(precision_score(y_test, y_predDNN))\n",
        "print(recall_score(y_test, y_predDNN))"
      ],
      "execution_count": null,
      "outputs": [
        {
          "output_type": "stream",
          "text": [
            "0.9556216275740557\n",
            "0.9532073813708261\n",
            "0.9268345636126791\n",
            "0.937829525483304\n",
            "0.9169035643997376\n",
            "0.9211335676625659\n",
            "0.9507609668755596\n",
            "0.9332161687170475\n",
            "0.8860109811410838\n",
            "0.8153558875219684\n"
          ],
          "name": "stdout"
        }
      ]
    },
    {
      "cell_type": "markdown",
      "metadata": {
        "id": "BSMLzXgL_17j"
      },
      "source": [
        "## 1.12 Testing "
      ]
    },
    {
      "cell_type": "code",
      "metadata": {
        "colab": {
          "base_uri": "https://localhost:8080/"
        },
        "id": "eVU5iWCF-5lA",
        "outputId": "f69591c8-fecc-4575-eef5-47b7b7c440f2"
      },
      "source": [
        "testename = prepare_encod_names({\"cibely\"})   # Now the names are encod as a vector of numbers with weight\n",
        "resu=(LSTMmodel.predict(testename) > 0.5).astype(\"int32\")\n",
        "if int(resu)==1:\n",
        "  print('M')\n",
        "else:\n",
        "  print('F')"
      ],
      "execution_count": null,
      "outputs": [
        {
          "output_type": "stream",
          "text": [
            "F\n"
          ],
          "name": "stdout"
        }
      ]
    }
  ]
}

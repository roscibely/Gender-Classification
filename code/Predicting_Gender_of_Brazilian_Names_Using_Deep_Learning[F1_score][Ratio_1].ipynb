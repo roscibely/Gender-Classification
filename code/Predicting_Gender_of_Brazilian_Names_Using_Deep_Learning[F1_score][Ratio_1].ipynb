{
  "cells": [
    {
      "cell_type": "markdown",
      "metadata": {
        "id": "yCahbBEsMCSJ"
      },
      "source": [
        "# 1. Predicting Gender of Brazilian Names Using Deep Learning\n"
      ]
    },
    {
      "cell_type": "markdown",
      "metadata": {
        "id": "KENlSnN4ftje"
      },
      "source": [
        "## 1.1 Necessary libraries"
      ]
    },
    {
      "cell_type": "code",
      "execution_count": null,
      "metadata": {
        "id": "TEHtFf75L2bP"
      },
      "outputs": [],
      "source": [
        "import pandas as pd                       \n",
        "import numpy as np\n",
        "from sklearn.model_selection import train_test_split\n",
        "from sklearn.metrics import precision_score, recall_score, f1_score\n",
        "from tensorflow import keras\n",
        "from keras import backend as K\n",
        "from keras.layers import Dense, Dropout, Flatten, GRU, SimpleRNN, LSTM, Bidirectional, Activation, TimeDistributed\n",
        "from keras.layers.convolutional import Conv1D, MaxPooling1D\n",
        "from keras.callbacks import EarlyStopping\n",
        "from tensorflow.keras import layers\n",
        "from tensorflow.keras.regularizers import l2\n",
        "import matplotlib.pyplot as plt"
      ]
    },
    {
      "cell_type": "markdown",
      "metadata": {
        "id": "C4n2Osouf2vD"
      },
      "source": [
        "## 1.2 Download the dataset"
      ]
    },
    {
      "cell_type": "code",
      "execution_count": null,
      "metadata": {
        "colab": {
          "base_uri": "https://localhost:8080/",
          "height": 224
        },
        "id": "j3e-YoOWO9hE",
        "outputId": "c40a8892-0138-45d0-f900-d8faf9c14d1a"
      },
      "outputs": [
        {
          "data": {
            "text/html": [
              "<div>\n",
              "<style scoped>\n",
              "    .dataframe tbody tr th:only-of-type {\n",
              "        vertical-align: middle;\n",
              "    }\n",
              "\n",
              "    .dataframe tbody tr th {\n",
              "        vertical-align: top;\n",
              "    }\n",
              "\n",
              "    .dataframe thead th {\n",
              "        text-align: right;\n",
              "    }\n",
              "</style>\n",
              "<table border=\"1\" class=\"dataframe\">\n",
              "  <thead>\n",
              "    <tr style=\"text-align: right;\">\n",
              "      <th></th>\n",
              "      <th>alternative_names</th>\n",
              "      <th>classification</th>\n",
              "      <th>first_name</th>\n",
              "      <th>frequency_female</th>\n",
              "      <th>frequency_male</th>\n",
              "      <th>frequency_total</th>\n",
              "      <th>frequency_group</th>\n",
              "      <th>group_name</th>\n",
              "      <th>ratio</th>\n",
              "    </tr>\n",
              "  </thead>\n",
              "  <tbody>\n",
              "    <tr>\n",
              "      <th>0</th>\n",
              "      <td>AILINE|ALEINE|ALIINE|ALINE|ALINER|ALINHE|ALINN...</td>\n",
              "      <td>F</td>\n",
              "      <td>AALINE</td>\n",
              "      <td>66.0</td>\n",
              "      <td>NaN</td>\n",
              "      <td>66</td>\n",
              "      <td>530550</td>\n",
              "      <td>ALINE</td>\n",
              "      <td>1.0</td>\n",
              "    </tr>\n",
              "    <tr>\n",
              "      <th>1</th>\n",
              "      <td>ARAAO|ARAO</td>\n",
              "      <td>M</td>\n",
              "      <td>AARAO</td>\n",
              "      <td>NaN</td>\n",
              "      <td>281.0</td>\n",
              "      <td>281</td>\n",
              "      <td>3526</td>\n",
              "      <td>ARAO</td>\n",
              "      <td>1.0</td>\n",
              "    </tr>\n",
              "    <tr>\n",
              "      <th>2</th>\n",
              "      <td>AHARON|AROM|ARON|ARYON|HARON</td>\n",
              "      <td>M</td>\n",
              "      <td>AARON</td>\n",
              "      <td>NaN</td>\n",
              "      <td>676.0</td>\n",
              "      <td>676</td>\n",
              "      <td>3442</td>\n",
              "      <td>ARON</td>\n",
              "      <td>1.0</td>\n",
              "    </tr>\n",
              "    <tr>\n",
              "      <th>3</th>\n",
              "      <td>ADA|ADAH|ADAR|ADHA|HADA</td>\n",
              "      <td>F</td>\n",
              "      <td>ABA</td>\n",
              "      <td>82.0</td>\n",
              "      <td>NaN</td>\n",
              "      <td>82</td>\n",
              "      <td>5583</td>\n",
              "      <td>ADA</td>\n",
              "      <td>1.0</td>\n",
              "    </tr>\n",
              "    <tr>\n",
              "      <th>4</th>\n",
              "      <td>NaN</td>\n",
              "      <td>M</td>\n",
              "      <td>ABADE</td>\n",
              "      <td>NaN</td>\n",
              "      <td>57.0</td>\n",
              "      <td>57</td>\n",
              "      <td>57</td>\n",
              "      <td>ABADE</td>\n",
              "      <td>1.0</td>\n",
              "    </tr>\n",
              "  </tbody>\n",
              "</table>\n",
              "</div>"
            ],
            "text/plain": [
              "                                   alternative_names  ... ratio\n",
              "0  AILINE|ALEINE|ALIINE|ALINE|ALINER|ALINHE|ALINN...  ...   1.0\n",
              "1                                         ARAAO|ARAO  ...   1.0\n",
              "2                       AHARON|AROM|ARON|ARYON|HARON  ...   1.0\n",
              "3                            ADA|ADAH|ADAR|ADHA|HADA  ...   1.0\n",
              "4                                                NaN  ...   1.0\n",
              "\n",
              "[5 rows x 9 columns]"
            ]
          },
          "execution_count": 38,
          "metadata": {
            "tags": []
          },
          "output_type": "execute_result"
        }
      ],
      "source": [
        "\"\"\"\n",
        "import requests\n",
        "url = \"https://data.brasil.io/dataset/genero-nomes/nomes.csv.gz\"\n",
        "filename = url.split(\"/\")[-1]\n",
        "with open(filename, \"wb\") as f:\n",
        "    r = requests.get(url)\n",
        "    f.write(r.content)\n",
        "\"\"\"\n",
        "df = pd.read_csv('nomes.csv.gz') \n",
        "df.head()"
      ]
    },
    {
      "cell_type": "code",
      "execution_count": null,
      "metadata": {
        "id": "ZgwgRqE1-EtT"
      },
      "outputs": [],
      "source": [
        "# Ratio = 1.0\n",
        "#df = df[df['ratio'] == 1.0].copy()"
      ]
    },
    {
      "cell_type": "code",
      "execution_count": null,
      "metadata": {
        "colab": {
          "base_uri": "https://localhost:8080/"
        },
        "id": "E_N6fZ4JbXFm",
        "outputId": "d00de3ba-6614-480d-f229-d4a77242f867"
      },
      "outputs": [
        {
          "name": "stdout",
          "output_type": "stream",
          "text": [
            "<class 'pandas.core.frame.DataFrame'>\n",
            "Int64Index: 90158 entries, 0 to 100786\n",
            "Data columns (total 9 columns):\n",
            " #   Column             Non-Null Count  Dtype  \n",
            "---  ------             --------------  -----  \n",
            " 0   alternative_names  61607 non-null  object \n",
            " 1   classification     90158 non-null  object \n",
            " 2   first_name         90158 non-null  object \n",
            " 3   frequency_female   49855 non-null  float64\n",
            " 4   frequency_male     40303 non-null  float64\n",
            " 5   frequency_total    90158 non-null  int64  \n",
            " 6   frequency_group    90158 non-null  int64  \n",
            " 7   group_name         90158 non-null  object \n",
            " 8   ratio              90158 non-null  float64\n",
            "dtypes: float64(3), int64(2), object(4)\n",
            "memory usage: 6.9+ MB\n"
          ]
        }
      ],
      "source": [
        "df.info()"
      ]
    },
    {
      "cell_type": "markdown",
      "metadata": {
        "id": "WzVdVCUKRKCQ"
      },
      "source": [
        "### 1.2.1 Preparing the data "
      ]
    },
    {
      "cell_type": "code",
      "execution_count": null,
      "metadata": {
        "id": "Oh_6bEAWbgqT"
      },
      "outputs": [],
      "source": [
        "y = df['classification'].astype(\"category\").cat.codes.values    # y labels into numbers 0 is F and 1 is M\n",
        "names = df['first_name'].apply(lambda x: x.lower())             # input names"
      ]
    },
    {
      "cell_type": "code",
      "execution_count": null,
      "metadata": {
        "colab": {
          "base_uri": "https://localhost:8080/"
        },
        "id": "CTDY5VYBl64k",
        "outputId": "385c03de-3e3a-42cf-d644-a355f59e4912"
      },
      "outputs": [
        {
          "name": "stdout",
          "output_type": "stream",
          "text": [
            "M : 45537\n",
            "F : 55250\n",
            "100787\n"
          ]
        }
      ],
      "source": [
        "print(\"M : \" + str(sum(y==1)))\n",
        "print(\"F : \" + str(sum(y==0)))\n",
        "print(len(y))"
      ]
    },
    {
      "cell_type": "markdown",
      "metadata": {
        "id": "unV-k__Lgb0E"
      },
      "source": [
        "## 1.3 Encoding Words\n",
        "\n",
        "Neural networks can only learn to find patterns in numerical data, so it is necessary to convert our data into numeric values with word encoding or tokenization. "
      ]
    },
    {
      "cell_type": "code",
      "execution_count": null,
      "metadata": {
        "id": "8zNIym5uBmHS"
      },
      "outputs": [],
      "source": [
        "#word encoding\n",
        "maxlen = 20                                               # max lenght of a name\n",
        "'''Define a vocabulary which corresponds to all the unique letters encountered'''\n",
        "vocab = set(' '.join([str(i) for i in names]))            # creating a vocab\n",
        "vocab.add('END')\n",
        "len_vocab = len(vocab)\n",
        "''' The dictionary maps each letter of vocabulary to a number '''\n",
        "char_index = dict((c, i) for i, c in enumerate(vocab))    # creating a dictionary\n",
        "\n",
        "# Builds an empty line with a 1 at the index of character\n",
        "def set_flag(i):\n",
        "    aux = np.zeros(len_vocab);\n",
        "    aux[i] = 1\n",
        "    return list(aux)\n",
        "\n",
        "# Truncate names and create the matrix\n",
        "def prepare_encod_names(X):\n",
        "    vec_names = []\n",
        "    trunc_name = [str(i)[0:maxlen] for i in X]  # consider only the first 20 characters\n",
        "    for i in trunc_name:\n",
        "        tmp = [set_flag(char_index[j]) for j in str(i)]\n",
        "        for k in range(0,maxlen - len(str(i))):\n",
        "            tmp.append(set_flag(char_index[\"END\"]))\n",
        "        vec_names.append(tmp)\n",
        "    return vec_names"
      ]
    },
    {
      "cell_type": "code",
      "execution_count": null,
      "metadata": {
        "id": "7pNJbOIUeqFf"
      },
      "outputs": [],
      "source": [
        "x = prepare_encod_names(names.values)   # Now the names are encod as a vector of numbers "
      ]
    },
    {
      "cell_type": "markdown",
      "metadata": {
        "id": "FXl0jak5hfeW"
      },
      "source": [
        "## 1.4 Split the data into test and train"
      ]
    },
    {
      "cell_type": "code",
      "execution_count": null,
      "metadata": {
        "id": "23kNSk8pb_W1"
      },
      "outputs": [],
      "source": [
        "# train, val, test set will be 60%, 20%, 20% of the dataset respectively\n",
        "x_train, x_test, y_train, y_test = train_test_split(x, y, test_size=0.2, random_state=28)\n",
        "x_train, x_val, y_train, y_val = train_test_split(x_train, y_train, test_size=0.2, random_state=40)\n",
        "x_train = np.asarray(x_train)\n",
        "y_train = np.asarray(y_train)\n",
        "x_test = np.asarray(x_test)\n",
        "y_test = np.asarray(y_test)\n",
        "x_val = np.asarray(x_val)\n",
        "y_val = np.asarray(y_val)"
      ]
    },
    {
      "cell_type": "code",
      "execution_count": null,
      "metadata": {
        "id": "ytOECHLe-EtY",
        "outputId": "640785e7-989f-48b8-b29d-25d12c60b13d"
      },
      "outputs": [
        {
          "data": {
            "text/plain": [
              "(57700, 20, 28)"
            ]
          },
          "execution_count": 10,
          "metadata": {
            "tags": []
          },
          "output_type": "execute_result"
        }
      ],
      "source": [
        "x_train.shape"
      ]
    },
    {
      "cell_type": "code",
      "execution_count": null,
      "metadata": {
        "id": "UZFTc-I0-Ete",
        "outputId": "a5e52c32-e79c-451d-a26c-9ef0963c9ddc"
      },
      "outputs": [
        {
          "data": {
            "text/plain": [
              "(57700,)"
            ]
          },
          "execution_count": 11,
          "metadata": {
            "tags": []
          },
          "output_type": "execute_result"
        }
      ],
      "source": [
        "y_train.shape"
      ]
    },
    {
      "cell_type": "code",
      "execution_count": null,
      "metadata": {
        "id": "u_PDLjQn-Etg"
      },
      "outputs": [],
      "source": [
        "# Metrics\n",
        "def recall_m(y_true, y_pred):\n",
        "    true_positives = K.sum(K.round(K.clip(y_true * y_pred, 0, 1)))\n",
        "    possible_positives = K.sum(K.round(K.clip(y_true, 0, 1)))\n",
        "    recall = true_positives / (possible_positives + K.epsilon())\n",
        "    return recall\n",
        "\n",
        "def precision_m(y_true, y_pred):\n",
        "    true_positives = K.sum(K.round(K.clip(y_true * y_pred, 0, 1)))\n",
        "    predicted_positives = K.sum(K.round(K.clip(y_pred, 0, 1)))\n",
        "    precision = true_positives / (predicted_positives + K.epsilon())\n",
        "    return precision\n",
        "\n",
        "def f1_score(y_true, y_pred):\n",
        "    precision = precision_m(y_true, y_pred)\n",
        "    recall = recall_m(y_true, y_pred)\n",
        "    return 2*((precision*recall)/(precision+recall+K.epsilon()))"
      ]
    },
    {
      "cell_type": "code",
      "execution_count": null,
      "metadata": {
        "id": "JRujum5a-Eth"
      },
      "outputs": [],
      "source": [
        "# Callbacks\n",
        "callbacks = [EarlyStopping(monitor='val_f1_score', mode=\"max\", patience=5)]"
      ]
    },
    {
      "cell_type": "code",
      "execution_count": null,
      "metadata": {
        "id": "HtFQsn4P-Eti"
      },
      "outputs": [],
      "source": [
        "# Results\n",
        "def results(scores):\n",
        "    print(\"Accuracy: %.2f%%\" % (scores[1]*100))\n",
        "    print(\"F1 score: %.2f%%\" % (scores[2]*100)) "
      ]
    },
    {
      "cell_type": "markdown",
      "metadata": {
        "id": "cdG3or3Jhqle"
      },
      "source": [
        "## 1.5 Building the CNN Model"
      ]
    },
    {
      "cell_type": "code",
      "execution_count": null,
      "metadata": {
        "colab": {
          "background_save": true,
          "base_uri": "https://localhost:8080/"
        },
        "id": "ac3CpPqQ-Etj",
        "scrolled": false,
        "outputId": "7d2c2d39-06db-4083-8516-6619de33e210"
      },
      "outputs": [
        {
          "name": "stdout",
          "output_type": "stream",
          "text": [
            "Epoch 1/100\n",
            "252/252 [==============================] - 68s 265ms/step - loss: 0.2719 - accuracy: 0.8812 - f1_score: 0.8645 - val_loss: 0.1785 - val_accuracy: 0.9309 - val_f1_score: 0.9212\n",
            "Epoch 2/100\n",
            "252/252 [==============================] - 66s 263ms/step - loss: 0.1641 - accuracy: 0.9367 - f1_score: 0.9299 - val_loss: 0.1525 - val_accuracy: 0.9418 - val_f1_score: 0.9353\n",
            "Epoch 3/100\n",
            "252/252 [==============================] - 65s 259ms/step - loss: 0.1437 - accuracy: 0.9453 - f1_score: 0.9393 - val_loss: 0.1434 - val_accuracy: 0.9451 - val_f1_score: 0.9393\n",
            "Epoch 4/100\n",
            "252/252 [==============================] - 65s 260ms/step - loss: 0.1313 - accuracy: 0.9503 - f1_score: 0.9448 - val_loss: 0.1599 - val_accuracy: 0.9387 - val_f1_score: 0.9343\n",
            "Epoch 5/100\n",
            "252/252 [==============================] - 65s 257ms/step - loss: 0.1209 - accuracy: 0.9552 - f1_score: 0.9502 - val_loss: 0.1285 - val_accuracy: 0.9509 - val_f1_score: 0.9455\n",
            "Epoch 6/100\n",
            "252/252 [==============================] - 65s 259ms/step - loss: 0.1111 - accuracy: 0.9586 - f1_score: 0.9541 - val_loss: 0.1264 - val_accuracy: 0.9511 - val_f1_score: 0.9454\n",
            "Epoch 7/100\n",
            "252/252 [==============================] - 66s 260ms/step - loss: 0.1018 - accuracy: 0.9619 - f1_score: 0.9576 - val_loss: 0.1252 - val_accuracy: 0.9529 - val_f1_score: 0.9469\n",
            "Epoch 8/100\n",
            "252/252 [==============================] - 65s 260ms/step - loss: 0.0960 - accuracy: 0.9642 - f1_score: 0.9603 - val_loss: 0.1256 - val_accuracy: 0.9538 - val_f1_score: 0.9490\n",
            "Epoch 9/100\n",
            "252/252 [==============================] - 65s 259ms/step - loss: 0.0904 - accuracy: 0.9662 - f1_score: 0.9624 - val_loss: 0.1204 - val_accuracy: 0.9545 - val_f1_score: 0.9489\n",
            "Epoch 10/100\n",
            "252/252 [==============================] - 65s 259ms/step - loss: 0.0827 - accuracy: 0.9687 - f1_score: 0.9653 - val_loss: 0.1272 - val_accuracy: 0.9526 - val_f1_score: 0.9477\n",
            "Epoch 11/100\n",
            "252/252 [==============================] - 66s 262ms/step - loss: 0.0781 - accuracy: 0.9706 - f1_score: 0.9673 - val_loss: 0.1241 - val_accuracy: 0.9559 - val_f1_score: 0.9505\n",
            "Epoch 12/100\n",
            "252/252 [==============================] - 66s 261ms/step - loss: 0.0736 - accuracy: 0.9716 - f1_score: 0.9684 - val_loss: 0.1267 - val_accuracy: 0.9549 - val_f1_score: 0.9491\n",
            "Epoch 13/100\n",
            "252/252 [==============================] - 66s 261ms/step - loss: 0.0673 - accuracy: 0.9741 - f1_score: 0.9713 - val_loss: 0.1306 - val_accuracy: 0.9568 - val_f1_score: 0.9515\n",
            "Epoch 14/100\n",
            "252/252 [==============================] - 66s 261ms/step - loss: 0.0619 - accuracy: 0.9762 - f1_score: 0.9736 - val_loss: 0.1314 - val_accuracy: 0.9541 - val_f1_score: 0.9484\n",
            "Epoch 15/100\n",
            "252/252 [==============================] - 66s 261ms/step - loss: 0.0582 - accuracy: 0.9781 - f1_score: 0.9756 - val_loss: 0.1290 - val_accuracy: 0.9563 - val_f1_score: 0.9514\n",
            "Epoch 16/100\n",
            "252/252 [==============================] - 66s 263ms/step - loss: 0.0540 - accuracy: 0.9791 - f1_score: 0.9768 - val_loss: 0.1405 - val_accuracy: 0.9559 - val_f1_score: 0.9501\n",
            "Epoch 17/100\n",
            "252/252 [==============================] - 68s 271ms/step - loss: 0.0516 - accuracy: 0.9796 - f1_score: 0.9773 - val_loss: 0.1390 - val_accuracy: 0.9589 - val_f1_score: 0.9545\n",
            "Epoch 18/100\n",
            "252/252 [==============================] - 69s 274ms/step - loss: 0.0483 - accuracy: 0.9813 - f1_score: 0.9793 - val_loss: 0.1338 - val_accuracy: 0.9571 - val_f1_score: 0.9522\n",
            "Epoch 19/100\n",
            "252/252 [==============================] - 69s 274ms/step - loss: 0.0458 - accuracy: 0.9829 - f1_score: 0.9811 - val_loss: 0.1413 - val_accuracy: 0.9568 - val_f1_score: 0.9519\n",
            "Epoch 20/100\n",
            "252/252 [==============================] - 68s 271ms/step - loss: 0.0426 - accuracy: 0.9831 - f1_score: 0.9813 - val_loss: 0.1419 - val_accuracy: 0.9575 - val_f1_score: 0.9521\n",
            "Epoch 21/100\n",
            "252/252 [==============================] - 68s 271ms/step - loss: 0.0395 - accuracy: 0.9845 - f1_score: 0.9828 - val_loss: 0.1585 - val_accuracy: 0.9568 - val_f1_score: 0.9525\n",
            "Epoch 22/100\n",
            "252/252 [==============================] - 69s 272ms/step - loss: 0.0377 - accuracy: 0.9857 - f1_score: 0.9841 - val_loss: 0.1535 - val_accuracy: 0.9563 - val_f1_score: 0.9512\n",
            "630/630 [==============================] - 5s 9ms/step - loss: 0.1466 - accuracy: 0.9578 - f1_score: 0.9515\n",
            "Accuracy: 95.78%\n",
            "F1 score: 95.15%\n"
          ]
        }
      ],
      "source": [
        "\"\"\"\n",
        "checkpoint_filepath = './models/cnn_softmax'\n",
        "model_checkpoint_callback = keras.callbacks.ModelCheckpoint(\n",
        "    filepath=checkpoint_filepath,\n",
        "    save_weights_only=True,\n",
        "    monitor='f1_score',\n",
        "    mode='max',\n",
        "    save_best_only=True)\n",
        "\"\"\"\n",
        "CNNmodel = keras.Sequential()\n",
        "CNNmodel.add(Conv1D(256, 3, activation='relu', kernel_initializer='he_uniform', input_shape=(20, 28)))\n",
        "CNNmodel.add(Conv1D(256, 3, activation='relu'))\n",
        "CNNmodel.add(Flatten())\n",
        "CNNmodel.add(Dropout(0.2))\n",
        "CNNmodel.add(Dense(100, activation='relu', kernel_initializer='he_uniform'))\n",
        "CNNmodel.add(Dropout(0.2))\n",
        "CNNmodel.add(Dense(1, activation='sigmoid', kernel_initializer='he_uniform'))\n",
        "\n",
        "opt = keras.optimizers.Adam(learning_rate=0.001, beta_1=0.9, beta_2=0.999, epsilon=1e-08, decay=0.0)\n",
        "\n",
        "CNNmodel.compile(optimizer=opt, loss='binary_crossentropy', metrics=['accuracy', f1_score])\n",
        "\n",
        "CNNhistory = CNNmodel.fit(x_train, y_train, validation_data=(x_val, y_val), epochs=100, batch_size=256, callbacks=callbacks)\n",
        "CNNscores = CNNmodel.evaluate(x_test, y_test) \n",
        "results(CNNscores)"
      ]
    },
    {
      "cell_type": "markdown",
      "metadata": {
        "id": "c0WiWfu32ytT"
      },
      "source": [
        "## 1.6 Building the RNN Model"
      ]
    },
    {
      "cell_type": "code",
      "execution_count": null,
      "metadata": {
        "colab": {
          "background_save": true,
          "base_uri": "https://localhost:8080/"
        },
        "id": "zwwNwnTmaY4i",
        "outputId": "1e90bbbd-38a1-4353-c081-ad2e0314fe52"
      },
      "outputs": [
        {
          "name": "stdout",
          "output_type": "stream",
          "text": [
            "Epoch 1/100\n",
            "252/252 [==============================] - 5s 15ms/step - loss: 0.3099 - accuracy: 0.8601 - f1_score: 0.8406 - val_loss: 0.2265 - val_accuracy: 0.9103 - val_f1_score: 0.9010\n",
            "Epoch 2/100\n",
            "252/252 [==============================] - 3s 13ms/step - loss: 0.2148 - accuracy: 0.9146 - f1_score: 0.9054 - val_loss: 0.2054 - val_accuracy: 0.9212 - val_f1_score: 0.9129\n",
            "Epoch 3/100\n",
            "252/252 [==============================] - 3s 12ms/step - loss: 0.1953 - accuracy: 0.9231 - f1_score: 0.9148 - val_loss: 0.1957 - val_accuracy: 0.9270 - val_f1_score: 0.9185\n",
            "Epoch 4/100\n",
            "252/252 [==============================] - 3s 12ms/step - loss: 0.1836 - accuracy: 0.9270 - f1_score: 0.9190 - val_loss: 0.1827 - val_accuracy: 0.9289 - val_f1_score: 0.9209\n",
            "Epoch 5/100\n",
            "252/252 [==============================] - 3s 12ms/step - loss: 0.1766 - accuracy: 0.9311 - f1_score: 0.9238 - val_loss: 0.1802 - val_accuracy: 0.9295 - val_f1_score: 0.9221\n",
            "Epoch 6/100\n",
            "252/252 [==============================] - 3s 11ms/step - loss: 0.1704 - accuracy: 0.9328 - f1_score: 0.9258 - val_loss: 0.1786 - val_accuracy: 0.9305 - val_f1_score: 0.9212\n",
            "Epoch 7/100\n",
            "252/252 [==============================] - 3s 11ms/step - loss: 0.1644 - accuracy: 0.9356 - f1_score: 0.9287 - val_loss: 0.1766 - val_accuracy: 0.9322 - val_f1_score: 0.9252\n",
            "Epoch 8/100\n",
            "252/252 [==============================] - 3s 12ms/step - loss: 0.1620 - accuracy: 0.9367 - f1_score: 0.9300 - val_loss: 0.1930 - val_accuracy: 0.9262 - val_f1_score: 0.9140\n",
            "Epoch 9/100\n",
            "252/252 [==============================] - 3s 12ms/step - loss: 0.1585 - accuracy: 0.9374 - f1_score: 0.9307 - val_loss: 0.1688 - val_accuracy: 0.9339 - val_f1_score: 0.9252\n",
            "Epoch 10/100\n",
            "252/252 [==============================] - 3s 11ms/step - loss: 0.1550 - accuracy: 0.9389 - f1_score: 0.9324 - val_loss: 0.1718 - val_accuracy: 0.9330 - val_f1_score: 0.9256\n",
            "Epoch 11/100\n",
            "252/252 [==============================] - 3s 12ms/step - loss: 0.1539 - accuracy: 0.9406 - f1_score: 0.9342 - val_loss: 0.1636 - val_accuracy: 0.9359 - val_f1_score: 0.9282\n",
            "Epoch 12/100\n",
            "252/252 [==============================] - 3s 13ms/step - loss: 0.1504 - accuracy: 0.9424 - f1_score: 0.9363 - val_loss: 0.1723 - val_accuracy: 0.9328 - val_f1_score: 0.9236\n",
            "Epoch 13/100\n",
            "252/252 [==============================] - 3s 12ms/step - loss: 0.1490 - accuracy: 0.9420 - f1_score: 0.9357 - val_loss: 0.1713 - val_accuracy: 0.9332 - val_f1_score: 0.9270\n",
            "Epoch 14/100\n",
            "252/252 [==============================] - 3s 12ms/step - loss: 0.1491 - accuracy: 0.9425 - f1_score: 0.9364 - val_loss: 0.1636 - val_accuracy: 0.9364 - val_f1_score: 0.9289\n",
            "Epoch 15/100\n",
            "252/252 [==============================] - 3s 13ms/step - loss: 0.1461 - accuracy: 0.9436 - f1_score: 0.9375 - val_loss: 0.1602 - val_accuracy: 0.9385 - val_f1_score: 0.9310\n",
            "Epoch 16/100\n",
            "252/252 [==============================] - 3s 13ms/step - loss: 0.1453 - accuracy: 0.9436 - f1_score: 0.9375 - val_loss: 0.1595 - val_accuracy: 0.9395 - val_f1_score: 0.9328\n",
            "Epoch 17/100\n",
            "252/252 [==============================] - 3s 13ms/step - loss: 0.1444 - accuracy: 0.9443 - f1_score: 0.9382 - val_loss: 0.1645 - val_accuracy: 0.9349 - val_f1_score: 0.9273\n",
            "Epoch 18/100\n",
            "252/252 [==============================] - 3s 13ms/step - loss: 0.1438 - accuracy: 0.9447 - f1_score: 0.9387 - val_loss: 0.1620 - val_accuracy: 0.9390 - val_f1_score: 0.9322\n",
            "Epoch 19/100\n",
            "252/252 [==============================] - 3s 13ms/step - loss: 0.1433 - accuracy: 0.9439 - f1_score: 0.9379 - val_loss: 0.1690 - val_accuracy: 0.9338 - val_f1_score: 0.9245\n",
            "Epoch 20/100\n",
            "252/252 [==============================] - 3s 12ms/step - loss: 0.1422 - accuracy: 0.9462 - f1_score: 0.9404 - val_loss: 0.1691 - val_accuracy: 0.9354 - val_f1_score: 0.9294\n",
            "Epoch 21/100\n",
            "252/252 [==============================] - 3s 13ms/step - loss: 0.1400 - accuracy: 0.9464 - f1_score: 0.9408 - val_loss: 0.1643 - val_accuracy: 0.9369 - val_f1_score: 0.9297\n",
            "630/630 [==============================] - 2s 4ms/step - loss: 0.1546 - accuracy: 0.9400 - f1_score: 0.9320\n",
            "Accuracy: 94.00%\n",
            "F1 score: 93.20%\n"
          ]
        }
      ],
      "source": [
        "RNNmodel=keras.Sequential()\n",
        "RNNmodel.add(SimpleRNN(32, input_shape=(x_train.shape[1],x_train.shape[2]), activation='tanh', return_sequences=True))\n",
        "RNNmodel.add(TimeDistributed(Dense(1))) \n",
        "RNNmodel.add(Flatten())\n",
        "RNNmodel.add(Dense(1, activation='sigmoid'))\n",
        "\n",
        "lr_schedule = keras.optimizers.schedules.ExponentialDecay(\n",
        "    initial_learning_rate=1e-2,\n",
        "    decay_steps=10000,\n",
        "    decay_rate=0.9)\n",
        "opt = keras.optimizers.Adam(learning_rate=lr_schedule)\n",
        "RNNmodel.compile(loss='binary_crossentropy', optimizer=opt, metrics=['accuracy', f1_score])\n",
        "\n",
        "RNNhistory=RNNmodel.fit(x_train, y_train, validation_data=(x_val, y_val), epochs=100, batch_size=256, callbacks=callbacks)\n",
        "RNNscores = RNNmodel.evaluate(x_test, y_test) \n",
        "results(RNNscores)"
      ]
    },
    {
      "cell_type": "markdown",
      "metadata": {
        "id": "4ihfBuKG22KE"
      },
      "source": [
        "## 1.7 Building the GRU Model"
      ]
    },
    {
      "cell_type": "code",
      "execution_count": null,
      "metadata": {
        "colab": {
          "background_save": true
        },
        "id": "uG-syJZFcEHD",
        "outputId": "77629a98-a8a1-452a-865e-22e1ace62189"
      },
      "outputs": [
        {
          "name": "stdout",
          "output_type": "stream",
          "text": [
            "Epoch 1/100\n",
            "252/252 [==============================] - 9s 26ms/step - loss: 0.2595 - accuracy: 0.8874 - f1_score: 0.8703 - val_loss: 0.1921 - val_accuracy: 0.9261 - val_f1_score: 0.9179\n",
            "Epoch 2/100\n",
            "252/252 [==============================] - 6s 25ms/step - loss: 0.1800 - accuracy: 0.9307 - f1_score: 0.9232 - val_loss: 0.1732 - val_accuracy: 0.9342 - val_f1_score: 0.9273\n",
            "Epoch 3/100\n",
            "252/252 [==============================] - 6s 26ms/step - loss: 0.1598 - accuracy: 0.9386 - f1_score: 0.9321 - val_loss: 0.1581 - val_accuracy: 0.9410 - val_f1_score: 0.9347\n",
            "Epoch 4/100\n",
            "252/252 [==============================] - 6s 24ms/step - loss: 0.1443 - accuracy: 0.9456 - f1_score: 0.9397 - val_loss: 0.1523 - val_accuracy: 0.9417 - val_f1_score: 0.9339\n",
            "Epoch 5/100\n",
            "252/252 [==============================] - 6s 25ms/step - loss: 0.1341 - accuracy: 0.9492 - f1_score: 0.9438 - val_loss: 0.1459 - val_accuracy: 0.9437 - val_f1_score: 0.9373\n",
            "Epoch 6/100\n",
            "252/252 [==============================] - 6s 25ms/step - loss: 0.1229 - accuracy: 0.9542 - f1_score: 0.9493 - val_loss: 0.1395 - val_accuracy: 0.9465 - val_f1_score: 0.9409\n",
            "Epoch 7/100\n",
            "252/252 [==============================] - 6s 24ms/step - loss: 0.1178 - accuracy: 0.9560 - f1_score: 0.9513 - val_loss: 0.1390 - val_accuracy: 0.9473 - val_f1_score: 0.9420\n",
            "Epoch 8/100\n",
            "252/252 [==============================] - 6s 25ms/step - loss: 0.1101 - accuracy: 0.9587 - f1_score: 0.9542 - val_loss: 0.1368 - val_accuracy: 0.9487 - val_f1_score: 0.9430\n",
            "Epoch 9/100\n",
            "252/252 [==============================] - 6s 26ms/step - loss: 0.1045 - accuracy: 0.9603 - f1_score: 0.9561 - val_loss: 0.1448 - val_accuracy: 0.9503 - val_f1_score: 0.9451\n",
            "Epoch 10/100\n",
            "252/252 [==============================] - 6s 25ms/step - loss: 0.0996 - accuracy: 0.9629 - f1_score: 0.9589 - val_loss: 0.1327 - val_accuracy: 0.9513 - val_f1_score: 0.9458\n",
            "Epoch 11/100\n",
            "252/252 [==============================] - 6s 24ms/step - loss: 0.0953 - accuracy: 0.9641 - f1_score: 0.9602 - val_loss: 0.1379 - val_accuracy: 0.9472 - val_f1_score: 0.9410\n",
            "Epoch 12/100\n",
            "252/252 [==============================] - 6s 24ms/step - loss: 0.0925 - accuracy: 0.9654 - f1_score: 0.9617 - val_loss: 0.1350 - val_accuracy: 0.9505 - val_f1_score: 0.9455\n",
            "Epoch 13/100\n",
            "252/252 [==============================] - 6s 24ms/step - loss: 0.0899 - accuracy: 0.9670 - f1_score: 0.9635 - val_loss: 0.1377 - val_accuracy: 0.9480 - val_f1_score: 0.9423\n",
            "Epoch 14/100\n",
            "252/252 [==============================] - 6s 25ms/step - loss: 0.0877 - accuracy: 0.9674 - f1_score: 0.9639 - val_loss: 0.1405 - val_accuracy: 0.9511 - val_f1_score: 0.9461\n",
            "Epoch 15/100\n",
            "252/252 [==============================] - 6s 25ms/step - loss: 0.0850 - accuracy: 0.9682 - f1_score: 0.9648 - val_loss: 0.1479 - val_accuracy: 0.9472 - val_f1_score: 0.9414\n",
            "Epoch 16/100\n",
            "252/252 [==============================] - 6s 24ms/step - loss: 0.0832 - accuracy: 0.9692 - f1_score: 0.9659 - val_loss: 0.1415 - val_accuracy: 0.9510 - val_f1_score: 0.9455\n",
            "Epoch 17/100\n",
            "252/252 [==============================] - 6s 24ms/step - loss: 0.0813 - accuracy: 0.9698 - f1_score: 0.9666 - val_loss: 0.1447 - val_accuracy: 0.9480 - val_f1_score: 0.9421\n",
            "Epoch 18/100\n",
            "252/252 [==============================] - 6s 25ms/step - loss: 0.0790 - accuracy: 0.9707 - f1_score: 0.9675 - val_loss: 0.1466 - val_accuracy: 0.9481 - val_f1_score: 0.9425\n",
            "Epoch 19/100\n",
            "252/252 [==============================] - 6s 24ms/step - loss: 0.0779 - accuracy: 0.9707 - f1_score: 0.9675 - val_loss: 0.1418 - val_accuracy: 0.9498 - val_f1_score: 0.9441\n",
            "630/630 [==============================] - 2s 3ms/step - loss: 0.1405 - accuracy: 0.9500 - f1_score: 0.9425\n",
            "Accuracy: 95.00%\n",
            "F1 score: 94.25%\n"
          ]
        }
      ],
      "source": [
        "GRUmodel=keras.Sequential()\n",
        "GRUmodel.add(GRU(32, input_shape=(x_train.shape[1],x_train.shape[2]),activation='tanh', return_sequences=True))\n",
        "GRUmodel.add(TimeDistributed(Dense(1))) \n",
        "GRUmodel.add(Flatten())\n",
        "GRUmodel.add(Dense(1, activation='sigmoid'))\n",
        "\n",
        "lr_schedule = keras.optimizers.schedules.ExponentialDecay(\n",
        "    initial_learning_rate=1e-2,\n",
        "    decay_steps=10000,\n",
        "    decay_rate=0.9)\n",
        "opt = keras.optimizers.Adam(learning_rate=lr_schedule)\n",
        "GRUmodel.compile(loss='binary_crossentropy', optimizer=opt, metrics=['accuracy', f1_score])\n",
        "\n",
        "GRUhistory=GRUmodel.fit(x_train, y_train, validation_data=(x_val, y_val), epochs=100, batch_size=256, callbacks=callbacks)\n",
        "GRUscores = GRUmodel.evaluate(x_test, y_test)\n",
        "results(GRUscores)"
      ]
    },
    {
      "cell_type": "markdown",
      "metadata": {
        "id": "B8JDT6Ei25NS"
      },
      "source": [
        "## 1.8 Building the DNN Model"
      ]
    },
    {
      "cell_type": "code",
      "execution_count": null,
      "metadata": {
        "colab": {
          "background_save": true
        },
        "id": "xKY2mHhPdcCI",
        "outputId": "bf44c2b8-31be-4b55-9594-0c635a7ecfce"
      },
      "outputs": [
        {
          "name": "stdout",
          "output_type": "stream",
          "text": [
            "Epoch 1/100\n",
            "252/252 [==============================] - 9s 33ms/step - loss: 0.4840 - accuracy: 0.7910 - f1_score: 0.7365 - val_loss: 0.3194 - val_accuracy: 0.8615 - val_f1_score: 0.8422\n",
            "Epoch 2/100\n",
            "252/252 [==============================] - 8s 32ms/step - loss: 0.3277 - accuracy: 0.8556 - f1_score: 0.8349 - val_loss: 0.3332 - val_accuracy: 0.8536 - val_f1_score: 0.8455\n",
            "Epoch 3/100\n",
            "252/252 [==============================] - 8s 32ms/step - loss: 0.3251 - accuracy: 0.8563 - f1_score: 0.8355 - val_loss: 0.3186 - val_accuracy: 0.8604 - val_f1_score: 0.8322\n",
            "Epoch 4/100\n",
            "252/252 [==============================] - 8s 32ms/step - loss: 0.3223 - accuracy: 0.8594 - f1_score: 0.8393 - val_loss: 0.3100 - val_accuracy: 0.8659 - val_f1_score: 0.8467\n",
            "Epoch 5/100\n",
            "252/252 [==============================] - 8s 32ms/step - loss: 0.3176 - accuracy: 0.8615 - f1_score: 0.8421 - val_loss: 0.3120 - val_accuracy: 0.8634 - val_f1_score: 0.8417\n",
            "Epoch 6/100\n",
            "252/252 [==============================] - 8s 32ms/step - loss: 0.3204 - accuracy: 0.8595 - f1_score: 0.8396 - val_loss: 0.3084 - val_accuracy: 0.8676 - val_f1_score: 0.8470\n",
            "Epoch 7/100\n",
            "252/252 [==============================] - 8s 32ms/step - loss: 0.3171 - accuracy: 0.8620 - f1_score: 0.8429 - val_loss: 0.3108 - val_accuracy: 0.8651 - val_f1_score: 0.8402\n",
            "Epoch 8/100\n",
            "252/252 [==============================] - 8s 32ms/step - loss: 0.3158 - accuracy: 0.8609 - f1_score: 0.8416 - val_loss: 0.3171 - val_accuracy: 0.8578 - val_f1_score: 0.8310\n",
            "Epoch 9/100\n",
            "252/252 [==============================] - 8s 32ms/step - loss: 0.3189 - accuracy: 0.8599 - f1_score: 0.8400 - val_loss: 0.3187 - val_accuracy: 0.8626 - val_f1_score: 0.8487\n",
            "Epoch 10/100\n",
            "252/252 [==============================] - 8s 33ms/step - loss: 0.3181 - accuracy: 0.8608 - f1_score: 0.8414 - val_loss: 0.3093 - val_accuracy: 0.8689 - val_f1_score: 0.8497\n",
            "Epoch 11/100\n",
            "252/252 [==============================] - 8s 33ms/step - loss: 0.3170 - accuracy: 0.8612 - f1_score: 0.8417 - val_loss: 0.3121 - val_accuracy: 0.8630 - val_f1_score: 0.8407\n",
            "Epoch 12/100\n",
            "252/252 [==============================] - 8s 33ms/step - loss: 0.3172 - accuracy: 0.8614 - f1_score: 0.8422 - val_loss: 0.3159 - val_accuracy: 0.8672 - val_f1_score: 0.8497\n",
            "Epoch 13/100\n",
            "252/252 [==============================] - 8s 33ms/step - loss: 0.3153 - accuracy: 0.8620 - f1_score: 0.8428 - val_loss: 0.3157 - val_accuracy: 0.8605 - val_f1_score: 0.8312\n",
            "Epoch 14/100\n",
            "252/252 [==============================] - 8s 33ms/step - loss: 0.3152 - accuracy: 0.8621 - f1_score: 0.8424 - val_loss: 0.3143 - val_accuracy: 0.8639 - val_f1_score: 0.8496\n",
            "Epoch 15/100\n",
            "252/252 [==============================] - 8s 33ms/step - loss: 0.3148 - accuracy: 0.8610 - f1_score: 0.8415 - val_loss: 0.3178 - val_accuracy: 0.8638 - val_f1_score: 0.8512\n",
            "Epoch 16/100\n",
            "252/252 [==============================] - 8s 32ms/step - loss: 0.3159 - accuracy: 0.8607 - f1_score: 0.8412 - val_loss: 0.3109 - val_accuracy: 0.8651 - val_f1_score: 0.8506\n",
            "Epoch 17/100\n",
            "252/252 [==============================] - 8s 32ms/step - loss: 0.3140 - accuracy: 0.8616 - f1_score: 0.8422 - val_loss: 0.3118 - val_accuracy: 0.8646 - val_f1_score: 0.8381\n",
            "Epoch 18/100\n",
            "252/252 [==============================] - 8s 33ms/step - loss: 0.3143 - accuracy: 0.8632 - f1_score: 0.8440 - val_loss: 0.3069 - val_accuracy: 0.8680 - val_f1_score: 0.8476\n",
            "Epoch 19/100\n",
            "252/252 [==============================] - 8s 33ms/step - loss: 0.3131 - accuracy: 0.8618 - f1_score: 0.8425 - val_loss: 0.3067 - val_accuracy: 0.8680 - val_f1_score: 0.8495\n",
            "Epoch 20/100\n",
            "252/252 [==============================] - 8s 33ms/step - loss: 0.3129 - accuracy: 0.8634 - f1_score: 0.8445 - val_loss: 0.3079 - val_accuracy: 0.8664 - val_f1_score: 0.8486\n",
            "630/630 [==============================] - 2s 3ms/step - loss: 0.3047 - accuracy: 0.8698 - f1_score: 0.8492\n",
            "Accuracy: 86.98%\n",
            "F1 score: 84.92%\n"
          ]
        }
      ],
      "source": [
        "DNNmodel = keras.Sequential()                                   # Sequential model\n",
        "n_inputs = 28                                                   # nº of states  \n",
        "inputs = keras.Input(shape=(20,n_inputs,), name = 'input')      # Define inputs\n",
        "l1=layers.Dense(64, activation='relu', name = 'hidden_layer_1')(inputs) \n",
        "ly2=layers.Dense(128, activation='softplus', name = 'hidden_layer_2')(l1) \n",
        "l3=layers.Dropout(0.25)(ly2)\n",
        "l4=layers.Flatten()(l3)                 \n",
        "output=[] \n",
        "output.append(layers.Dense(1, activation='sigmoid', name = 'output')(l4))                                    \n",
        "DNNmodel = keras.Model(inputs=inputs, outputs=output)       \n",
        "\n",
        "lr_schedule = keras.optimizers.schedules.ExponentialDecay(\n",
        "    initial_learning_rate=1e-2,\n",
        "    decay_steps=10000,\n",
        "    decay_rate=0.9)\n",
        "opt = keras.optimizers.Adam(learning_rate=lr_schedule)\n",
        "DNNmodel.compile(loss='binary_crossentropy', optimizer=opt, metrics=['accuracy', f1_score])\n",
        "\n",
        "DNNhistory = DNNmodel.fit(x_train, y_train, validation_data=(x_val, y_val), epochs=100, batch_size=256, callbacks=callbacks)\n",
        "DNNscores = DNNmodel.evaluate(x_test, y_test) \n",
        "results(DNNscores)"
      ]
    },
    {
      "cell_type": "markdown",
      "metadata": {
        "id": "Kn3ALPE629Ca"
      },
      "source": [
        "## 1.9 Building the BiLSTM Model"
      ]
    },
    {
      "cell_type": "code",
      "execution_count": null,
      "metadata": {
        "id": "jF4NIzXreW0M"
      },
      "outputs": [],
      "source": [
        "LSTMmodel = keras.Sequential()\n",
        "LSTMmodel.add(Bidirectional(LSTM(64, return_sequences=True), backward_layer=LSTM(64, return_sequences=True, go_backwards=True), input_shape=(maxlen,len_vocab)))\n",
        "LSTMmodel.add(Dropout(0.2))\n",
        "LSTMmodel.add(Bidirectional(LSTM(64)))\n",
        "LSTMmodel.add(Dropout(0.2))\n",
        "LSTMmodel.add(Dense(1, activity_regularizer=l2(0.002)))\n",
        "LSTMmodel.add(Activation('sigmoid'))\n",
        "\n",
        "lr_schedule = keras.optimizers.schedules.ExponentialDecay(\n",
        "    initial_learning_rate=1e-2,\n",
        "    decay_steps=10000,\n",
        "    decay_rate=0.9)\n",
        "opt = keras.optimizers.Adam(learning_rate=lr_schedule)\n",
        "LSTMmodel.compile(loss='binary_crossentropy', optimizer=opt, metrics=['accuracy', f1_score])\n",
        "\n",
        "LSTMhistory = LSTMmodel.fit(x_train, y_train, validation_data=(x_val, y_val), epochs=100, batch_size=256, callbacks=callbacks)\n",
        "LSTMscores = LSTMmodel.evaluate(x_test, y_test) \n",
        "results(LSTMscores)"
      ]
    },
    {
      "cell_type": "markdown",
      "metadata": {
        "id": "m55JxwTi7Pyt"
      },
      "source": [
        "## 1.10 Figures"
      ]
    },
    {
      "cell_type": "code",
      "execution_count": null,
      "metadata": {
        "colab": {
          "base_uri": "https://localhost:8080/",
          "height": 396
        },
        "id": "wK09xI1-mt7N",
        "outputId": "3910ed4b-66c1-4c34-a4e3-2de2e6d601b3"
      },
      "outputs": [
        {
          "name": "stderr",
          "output_type": "stream",
          "text": [
            "The PostScript backend does not support transparency; partially transparent artists will be rendered opaque.\n",
            "The PostScript backend does not support transparency; partially transparent artists will be rendered opaque.\n"
          ]
        },
        {
          "data": {
            "text/plain": [
              "<Figure size 432x288 with 0 Axes>"
            ]
          },
          "metadata": {
            "tags": []
          },
          "output_type": "display_data"
        },
        {
          "data": {
            "image/png": "[encoded data removed]",
            "text/plain": [
              "<Figure size 648x360 with 1 Axes>"
            ]
          },
          "metadata": {
            "tags": []
          },
          "output_type": "display_data"
        }
      ],
      "source": [
        "plt.figure(1)\n",
        "plt.figure(figsize=(9,5))\n",
        "plt.rcParams.update({'font.size': 12})\n",
        "# summarize for accuracy\n",
        "plt.plot(CNNhistory.history['accuracy'], 'g:')\n",
        "plt.plot(LSTMhistory.history['accuracy'], 'r--')\n",
        "plt.plot(RNNhistory.history['accuracy'], 'c-.')\n",
        "plt.plot(DNNhistory.history['accuracy'], 'm-+')\n",
        "plt.plot(GRUhistory.history['accuracy'], 'y-o')\n",
        "plt.plot(CNNhistory.history['val_accuracy'], 'g-*')\n",
        "plt.plot(LSTMhistory.history['val_accuracy'], 'r-v')\n",
        "plt.plot(RNNhistory.history['val_accuracy'], 'c-h')\n",
        "plt.plot(DNNhistory.history['val_accuracy'], 'm->')\n",
        "plt.plot(GRUhistory.history['val_accuracy'], 'y-s')\n",
        "plt.grid('True')\n",
        "plt.ylabel('Accuracy')\n",
        "plt.xlabel('Epoch')\n",
        "plt.ylim(0.8, 1)\n",
        "#plt.xlim(0,25)\n",
        "plt.legend(['Train-CNN', 'Train-BiLSTM', 'Train-RNN', 'Train-MLP', 'Train-GRU','Val-CNN',\\\n",
        "            'Val-BiLSTM', 'Val-RNN', 'Val-MLP', 'Val-GRU'], loc='lower right')\n",
        "\n",
        "plt.gcf().savefig('accR1.eps', format='eps', dpi=600)"
      ]
    },
    {
      "cell_type": "code",
      "execution_count": null,
      "metadata": {
        "colab": {
          "base_uri": "https://localhost:8080/",
          "height": 398
        },
        "id": "ttm37f-IY7Zw",
        "outputId": "3b396415-66e2-44ae-ed27-da393558d463"
      },
      "outputs": [
        {
          "name": "stderr",
          "output_type": "stream",
          "text": [
            "The PostScript backend does not support transparency; partially transparent artists will be rendered opaque.\n",
            "The PostScript backend does not support transparency; partially transparent artists will be rendered opaque.\n",
            "The PostScript backend does not support transparency; partially transparent artists will be rendered opaque.\n",
            "The PostScript backend does not support transparency; partially transparent artists will be rendered opaque.\n",
            "The PostScript backend does not support transparency; partially transparent artists will be rendered opaque.\n",
            "The PostScript backend does not support transparency; partially transparent artists will be rendered opaque.\n",
            "The PostScript backend does not support transparency; partially transparent artists will be rendered opaque.\n",
            "The PostScript backend does not support transparency; partially transparent artists will be rendered opaque.\n",
            "The PostScript backend does not support transparency; partially transparent artists will be rendered opaque.\n",
            "The PostScript backend does not support transparency; partially transparent artists will be rendered opaque.\n"
          ]
        },
        {
          "data": {
            "image/png": "[encoded data removed]",
            "text/plain": [
              "<Figure size 864x216 with 5 Axes>"
            ]
          },
          "metadata": {
            "tags": []
          },
          "output_type": "display_data"
        }
      ],
      "source": [
        "fig, axes = plt.subplots(1, 5, figsize=(12, 3))\n",
        "fig.tight_layout(pad=2.0)             #space between plots\n",
        "#fig.set_size_inches(9,6)\n",
        "plt.rcParams.update({'font.size': 12}) \n",
        "\n",
        "axes[0].plot(CNNhistory.history['loss'], 'g:')\n",
        "axes[1].plot(LSTMhistory.history['loss'], 'r--')\n",
        "axes[2].plot(RNNhistory.history['loss'], 'c-.')\n",
        "axes[3].plot(DNNhistory.history['loss'], 'm-+')\n",
        "axes[4].plot(GRUhistory.history['loss'], 'y-o')\n",
        "\n",
        "\n",
        "axes[0].plot(CNNhistory.history['val_loss'], 'g-*')\n",
        "axes[1].plot(LSTMhistory.history['val_loss'], 'r-v')\n",
        "axes[2].plot(RNNhistory.history['val_loss'], 'c-H')\n",
        "axes[3].plot(DNNhistory.history['val_loss'], 'm->')\n",
        "axes[4].plot(GRUhistory.history['val_loss'], 'y-s')\n",
        "\n",
        "\n",
        "axes[0].set_title('CNN')\n",
        "axes[1].set_title('BiLSTM')\n",
        "axes[2].set_title('RNN')\n",
        "axes[3].set_title('MLP')\n",
        "axes[4].set_title('GRU')\n",
        "\n",
        "axes[0].grid(True)\n",
        "axes[1].grid(True)\n",
        "axes[2].grid(True)\n",
        "axes[3].grid(True)\n",
        "axes[4].grid(True)\n",
        "\n",
        "axes[0].legend(['Train', 'Val'], loc='upper right')\n",
        "axes[1].legend(['Train', 'Val'], loc='upper right')\n",
        "axes[2].legend(['Train', 'Val'], loc='upper right')\n",
        "axes[3].legend(['Train', 'Val'], loc='upper right')\n",
        "axes[4].legend(['Train', 'Val'], loc='upper right')\n",
        "\n",
        "for i in range(0,5):\n",
        "  axes[i].set_xlabel('Epochs')\n",
        "  axes[i].set_ylabel('Loss')\n",
        "\n",
        "\n",
        "plt.gcf().savefig('lossR1.eps', format='eps', dpi=600)"
      ]
    },
    {
      "cell_type": "code",
      "execution_count": null,
      "metadata": {
        "colab": {
          "base_uri": "https://localhost:8080/",
          "height": 285
        },
        "id": "rh44YGWcvMG7",
        "outputId": "2d86bcb0-2c1c-427a-a008-6af1cf7c21d8"
      },
      "outputs": [
        {
          "data": {
            "image/png": "[encoded data removed]",
            "text/plain": [
              "<Figure size 432x288 with 1 Axes>"
            ]
          },
          "metadata": {
            "tags": []
          },
          "output_type": "display_data"
        }
      ],
      "source": [
        "plt.figure(2)\n",
        "plt.plot(CNNhistory.history['loss'], 'g:')\n",
        "plt.plot(LSTMhistory.history['loss'], 'r--')\n",
        "plt.plot(RNNhistory.history['loss'], 'c-.')\n",
        "plt.plot(DNNhistory.history['loss'], 'm-+')\n",
        "plt.plot(GRUhistory.history['loss'], 'y-o')\n",
        "plt.plot(CNNhistory.history['val_loss'], 'g-*')\n",
        "plt.plot(LSTMhistory.history['val_loss'], 'r-v')\n",
        "plt.plot(RNNhistory.history['val_loss'], 'c-H')\n",
        "plt.plot(DNNhistory.history['val_loss'], 'm->')\n",
        "plt.plot(GRUhistory.history['val_loss'], 'y-s')\n",
        "plt.ylabel('Loss')\n",
        "plt.xlabel('Epoch')\n",
        "plt.legend(['Train-CNN', 'Train-BiLSTM', 'Train-RNN', 'Train-MLP', 'Train-GRU','Val-CNN',\\\n",
        "            'Val-BiLSTM', 'Val-RNN', 'Val-MLP', 'Val-GRU'], loc='upper right')\n",
        "plt.grid('True')\n",
        "plt.xlim(0,32)\n",
        "plt.yscale('log')"
      ]
    },
    {
      "cell_type": "code",
      "execution_count": null,
      "metadata": {
        "id": "Ty_6wXrC-Etz",
        "outputId": "42d4b5c0-3932-4eac-fe91-4d343671394c"
      },
      "outputs": [
        {
          "data": {
            "text/plain": [
              "<matplotlib.legend.Legend at 0x27cb8c2ca60>"
            ]
          },
          "execution_count": 22,
          "metadata": {
            "tags": []
          },
          "output_type": "execute_result"
        },
        {
          "data": {
            "text/plain": [
              "<Figure size 432x288 with 0 Axes>"
            ]
          },
          "metadata": {
            "tags": []
          },
          "output_type": "display_data"
        },
        {
          "data": {
            "image/png": "[encoded data removed]",
            "text/plain": [
              "<Figure size 648x360 with 1 Axes>"
            ]
          },
          "metadata": {
            "tags": []
          },
          "output_type": "display_data"
        }
      ],
      "source": [
        "plt.figure(1)\n",
        "plt.figure(figsize=(9,5))\n",
        "plt.rcParams.update({'font.size': 12})\n",
        "# summarize for accuracy\n",
        "plt.plot(CNNhistory.history['val_f1_score'], 'g:')\n",
        "plt.plot(LSTMhistory.history['val_f1_score'], 'r--')\n",
        "plt.plot(RNNhistory.history['val_f1_score'], 'c-.')\n",
        "plt.plot(DNNhistory.history['val_f1_score'], 'm-+')\n",
        "plt.plot(GRUhistory.history['val_f1_score'], 'y-o')\n",
        "plt.grid('True')\n",
        "plt.ylabel('F1 score')\n",
        "plt.xlabel('Epoch')\n",
        "plt.ylim(0.8, 0.99)\n",
        "plt.xlim(0,25)\n",
        "plt.legend(['Train-CNN', 'Train-BiLSTM', 'Train-RNN', 'Train-MLP', 'Train-GRU','Val-CNN',\\\n",
        "            'Val-BiLSTM', 'Val-RNN', 'Val-MLP', 'Val-GRU'], loc='upper right')"
      ]
    },
    {
      "cell_type": "markdown",
      "metadata": {
        "id": "bii6bsQ_8ihJ"
      },
      "source": [
        "## 1.11 Statistics"
      ]
    },
    {
      "cell_type": "code",
      "execution_count": null,
      "metadata": {
        "id": "PHW4P-qG0_dj"
      },
      "outputs": [],
      "source": [
        "y_predCNN =(CNNmodel.predict(x_test) > 0.5).astype(\"int32\")\n",
        "y_predLSTM =(LSTMmodel.predict(x_test) > 0.5).astype(\"int32\")\n",
        "y_predRNN =(RNNmodel.predict(x_test) > 0.5).astype(\"int32\")\n",
        "y_predGRU =(GRUmodel.predict(x_test) > 0.5).astype(\"int32\")\n",
        "y_predDNN =(DNNmodel.predict(x_test) > 0.5).astype(\"int32\")"
      ]
    },
    {
      "cell_type": "code",
      "execution_count": null,
      "metadata": {
        "colab": {
          "base_uri": "https://localhost:8080/"
        },
        "id": "x4C61gTr9b3e",
        "outputId": "052d6859-2b84-4e4c-9fd3-e0b152cb7ad0"
      },
      "outputs": [
        {
          "name": "stdout",
          "output_type": "stream",
          "text": [
            "0.9720130522088354\n",
            "0.959727385377943\n",
            "0.9490239960213851\n",
            "0.9458488228004956\n",
            "0.972544080604534\n",
            "0.9568773234200744\n",
            "0.9574468085106383\n",
            "0.9646840148698885\n",
            "0.8986691263671103\n",
            "0.8451053283767038\n"
          ]
        }
      ],
      "source": [
        "# Finding precision and recall\n",
        "from sklearn.metrics import precision_score, recall_score\n",
        "print(precision_score(y_test, y_predLSTM))\n",
        "print(recall_score(y_test, y_predLSTM))\n",
        "\n",
        "print(precision_score(y_test, y_predRNN))\n",
        "print(recall_score(y_test, y_predRNN))\n",
        "\n",
        "print(precision_score(y_test, y_predCNN))\n",
        "print(recall_score(y_test, y_predCNN))\n",
        "\n",
        "print(precision_score(y_test, y_predGRU))\n",
        "print(recall_score(y_test, y_predGRU))\n",
        "\n",
        "print(precision_score(y_test, y_predDNN))\n",
        "print(recall_score(y_test, y_predDNN))"
      ]
    },
    {
      "cell_type": "code",
      "execution_count": null,
      "metadata": {
        "colab": {
          "base_uri": "https://localhost:8080/",
          "height": 191
        },
        "id": "RN_apURLiE8A",
        "outputId": "05300084-7f5c-4e91-8c22-f06d9bc7541d"
      },
      "outputs": [
        {
          "data": {
            "image/png": "[encoded data removed]",
            "text/plain": [
              "<Figure size 864x288 with 5 Axes>"
            ]
          },
          "metadata": {
            "tags": []
          },
          "output_type": "display_data"
        }
      ],
      "source": [
        "# Constructing the confusion matrix.\n",
        "from sklearn.metrics import confusion_matrix\n",
        "%matplotlib inline\n",
        "import itertools\n",
        "\n",
        "cm1 = confusion_matrix(y_true=y_test, y_pred=y_predLSTM)\n",
        "cm2 = confusion_matrix(y_true=y_test, y_pred=y_predCNN)\n",
        "cm3 = confusion_matrix(y_true=y_test, y_pred=y_predDNN)\n",
        "cm4 = confusion_matrix(y_true=y_test, y_pred=y_predGRU)\n",
        "cm5 = confusion_matrix(y_true=y_test, y_pred=y_predRNN)\n",
        "\n",
        "\n",
        "fig, axes = plt.subplots(1, 5, figsize=(12, 4))\n",
        "fig.tight_layout(pad=2.5)             #space between plots\n",
        "#fig.set_size_inches(9,6)\n",
        "plt.rcParams.update({'font.size': 12}) \n",
        "cmap=plt.cm.Greys\n",
        "\n",
        "axes[0].imshow(cm1, interpolation='nearest', cmap=cmap)\n",
        "axes[0].set_title('BiLSTM')\n",
        "#axes[0].colorbar()\n",
        "thresh = cm1.max() / 2.\n",
        "for i, j in itertools.product(range(cm1.shape[0]), range(cm1.shape[1])):\n",
        "  axes[0].text(j, i, cm1[i, j],\n",
        "  horizontalalignment=\"center\",\n",
        "  color=\"white\" if cm1[i, j] > thresh else \"black\")\n",
        "  axes[0].set_ylabel('True label')\n",
        "  axes[0].set_xlabel('Predicted label')\n",
        "\n",
        "axes[1].imshow(cm2, interpolation='nearest', cmap=cmap)\n",
        "axes[1].set_title('CNN')\n",
        "thresh = cm2.max() / 2.\n",
        "for i, j in itertools.product(range(cm2.shape[0]), range(cm2.shape[1])):\n",
        "  axes[1].text(j, i, cm2[i, j],\n",
        "  horizontalalignment=\"center\",\n",
        "  color=\"white\" if cm2[i, j] > thresh else \"black\")\n",
        "  #axes[1].set_ylabel('True label')\n",
        "  axes[1].set_xlabel('Predicted label')\n",
        "\n",
        "axes[2].imshow(cm3, interpolation='nearest', cmap=cmap)\n",
        "axes[2].set_title('MLP')\n",
        "thresh = cm3.max() / 2.\n",
        "for i, j in itertools.product(range(cm3.shape[0]), range(cm3.shape[1])):\n",
        "  axes[2].text(j, i, cm3[i, j],\n",
        "  horizontalalignment=\"center\",\n",
        "  color=\"white\" if cm3[i, j] > thresh else \"black\")\n",
        "  #axes[2].set_ylabel('True label')\n",
        "  axes[2].set_xlabel('Predicted label')\n",
        "\n",
        "axes[3].imshow(cm4, interpolation='nearest', cmap=cmap)\n",
        "axes[3].set_title('GRU')\n",
        "thresh = cm3.max() / 2.\n",
        "for i, j in itertools.product(range(cm4.shape[0]), range(cm4.shape[1])):\n",
        "  axes[3].text(j, i, cm4[i, j],\n",
        "  horizontalalignment=\"center\",\n",
        "  color=\"white\" if cm4[i, j] > thresh else \"black\")\n",
        "  #axes[3].set_ylabel('True label')\n",
        "  axes[3].set_xlabel('Predicted label')\n",
        "\n",
        "\n",
        "axes[4].imshow(cm5, interpolation='nearest', cmap=cmap)\n",
        "axes[4].set_title('RNN')\n",
        "thresh = cm3.max() / 2.\n",
        "for i, j in itertools.product(range(cm5.shape[0]), range(cm5.shape[1])):\n",
        "  axes[4].text(j, i, cm5[i, j],\n",
        "  horizontalalignment=\"center\",\n",
        "  color=\"white\" if cm5[i, j] > thresh else \"black\")\n",
        "  #axes[4].set_ylabel('True label')\n",
        "  axes[4].set_xlabel('Predicted label')\n",
        "\n",
        "\n",
        "#plt.show(block=False)\n",
        "\n",
        "plt.gcf().savefig('cmR1.pdf', format='pdf', dpi=1200)"
      ]
    },
    {
      "cell_type": "markdown",
      "metadata": {
        "id": "BSMLzXgL_17j"
      },
      "source": [
        "## 1.12 Testing "
      ]
    },
    {
      "cell_type": "code",
      "execution_count": null,
      "metadata": {
        "colab": {
          "base_uri": "https://localhost:8080/"
        },
        "id": "eVU5iWCF-5lA",
        "outputId": "f69591c8-fecc-4575-eef5-47b7b7c440f2"
      },
      "outputs": [
        {
          "name": "stdout",
          "output_type": "stream",
          "text": [
            "F\n"
          ]
        }
      ],
      "source": [
        "testename = prepare_encod_names({\"cibely\"})   # Now the names are encod as a vector of numbers with weight\n",
        "resu=(LSTMmodel.predict(testename) > 0.5).astype(\"int32\")\n",
        "if int(resu)==1:\n",
        "  print('M')\n",
        "else:\n",
        "  print('F')"
      ]
    }
  ],
  "metadata": {
    "colab": {
      "collapsed_sections": [],
      "name": "Predicting_Gender_of_Brazilian_Names_Using_Deep_Learning[F1_score][Ratio_1].ipynb",
      "provenance": []
    },
    "kernelspec": {
      "display_name": "Python 3",
      "language": "python",
      "name": "python3"
    },
    "language_info": {
      "codemirror_mode": {
        "name": "ipython",
        "version": 3
      },
      "file_extension": ".py",
      "mimetype": "text/x-python",
      "name": "python",
      "nbconvert_exporter": "python",
      "pygments_lexer": "ipython3",
      "version": "3.8.8"
    }
  },
  "nbformat": 4,
  "nbformat_minor": 0
}

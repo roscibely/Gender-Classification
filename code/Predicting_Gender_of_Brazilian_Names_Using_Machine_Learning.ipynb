{
  "nbformat": 4,
  "nbformat_minor": 0,
  "metadata": {
    "colab": {
      "name": "Predicting_Gender_of_Brazilian_Names_Using_Machine_Learning.ipynb",
      "provenance": [],
      "collapsed_sections": []
    },
    "kernelspec": {
      "display_name": "Python 3",
      "language": "python",
      "name": "python3"
    },
    "language_info": {
      "codemirror_mode": {
        "name": "ipython",
        "version": 3
      },
      "file_extension": ".py",
      "mimetype": "text/x-python",
      "name": "python",
      "nbconvert_exporter": "python",
      "pygments_lexer": "ipython3",
      "version": "3.8.8"
    }
  },
  "cells": [
    {
      "cell_type": "markdown",
      "metadata": {
        "id": "yCahbBEsMCSJ"
      },
      "source": [
        "# 1. Predicting Gender of Brazilian Names Using Machine Learning\n"
      ]
    },
    {
      "cell_type": "markdown",
      "metadata": {
        "id": "KENlSnN4ftje"
      },
      "source": [
        "## 1.1 Necessary libraries"
      ]
    },
    {
      "cell_type": "code",
      "metadata": {
        "id": "TEHtFf75L2bP"
      },
      "source": [
        "import pandas as pd                       \n",
        "import numpy as np\n",
        "from sklearn.model_selection import train_test_split\n",
        "from sklearn.metrics import precision_score, recall_score, f1_score\n",
        "from tensorflow import keras\n",
        "from keras import backend as K\n",
        "from keras.layers import Dense, Dropout, Flatten, GRU, SimpleRNN, LSTM, Bidirectional, Activation, TimeDistributed\n",
        "from keras.layers.convolutional import Conv1D, MaxPooling1D\n",
        "from keras.callbacks import EarlyStopping\n",
        "from tensorflow.keras import layers\n",
        "from tensorflow.keras.regularizers import l2\n",
        "import matplotlib.pyplot as plt"
      ],
      "execution_count": null,
      "outputs": []
    },
    {
      "cell_type": "markdown",
      "metadata": {
        "id": "C4n2Osouf2vD"
      },
      "source": [
        "## 1.2 Download the dataset"
      ]
    },
    {
      "cell_type": "code",
      "metadata": {
        "colab": {
          "base_uri": "https://localhost:8080/",
          "height": 224
        },
        "id": "j3e-YoOWO9hE",
        "outputId": "c534a8c5-e581-4304-8243-d62dffef33e0"
      },
      "source": [
        "\n",
        "import requests\n",
        "url = \"https://data.brasil.io/dataset/genero-nomes/nomes.csv.gz\"\n",
        "filename = url.split(\"/\")[-1]\n",
        "with open(filename, \"wb\") as f:\n",
        "    r = requests.get(url)\n",
        "    f.write(r.content)\n",
        "\n",
        "df = pd.read_csv('nomes.csv.gz') \n",
        "df.head()"
      ],
      "execution_count": null,
      "outputs": [
        {
          "output_type": "execute_result",
          "data": {
            "text/html": [
              "<div>\n",
              "<style scoped>\n",
              "    .dataframe tbody tr th:only-of-type {\n",
              "        vertical-align: middle;\n",
              "    }\n",
              "\n",
              "    .dataframe tbody tr th {\n",
              "        vertical-align: top;\n",
              "    }\n",
              "\n",
              "    .dataframe thead th {\n",
              "        text-align: right;\n",
              "    }\n",
              "</style>\n",
              "<table border=\"1\" class=\"dataframe\">\n",
              "  <thead>\n",
              "    <tr style=\"text-align: right;\">\n",
              "      <th></th>\n",
              "      <th>alternative_names</th>\n",
              "      <th>classification</th>\n",
              "      <th>first_name</th>\n",
              "      <th>frequency_female</th>\n",
              "      <th>frequency_male</th>\n",
              "      <th>frequency_total</th>\n",
              "      <th>frequency_group</th>\n",
              "      <th>group_name</th>\n",
              "      <th>ratio</th>\n",
              "    </tr>\n",
              "  </thead>\n",
              "  <tbody>\n",
              "    <tr>\n",
              "      <th>0</th>\n",
              "      <td>AILINE|ALEINE|ALIINE|ALINE|ALINER|ALINHE|ALINN...</td>\n",
              "      <td>F</td>\n",
              "      <td>AALINE</td>\n",
              "      <td>66.0</td>\n",
              "      <td>NaN</td>\n",
              "      <td>66</td>\n",
              "      <td>530550</td>\n",
              "      <td>ALINE</td>\n",
              "      <td>1.0</td>\n",
              "    </tr>\n",
              "    <tr>\n",
              "      <th>1</th>\n",
              "      <td>ARAAO|ARAO</td>\n",
              "      <td>M</td>\n",
              "      <td>AARAO</td>\n",
              "      <td>NaN</td>\n",
              "      <td>281.0</td>\n",
              "      <td>281</td>\n",
              "      <td>3526</td>\n",
              "      <td>ARAO</td>\n",
              "      <td>1.0</td>\n",
              "    </tr>\n",
              "    <tr>\n",
              "      <th>2</th>\n",
              "      <td>AHARON|AROM|ARON|ARYON|HARON</td>\n",
              "      <td>M</td>\n",
              "      <td>AARON</td>\n",
              "      <td>NaN</td>\n",
              "      <td>676.0</td>\n",
              "      <td>676</td>\n",
              "      <td>3442</td>\n",
              "      <td>ARON</td>\n",
              "      <td>1.0</td>\n",
              "    </tr>\n",
              "    <tr>\n",
              "      <th>3</th>\n",
              "      <td>ADA|ADAH|ADAR|ADHA|HADA</td>\n",
              "      <td>F</td>\n",
              "      <td>ABA</td>\n",
              "      <td>82.0</td>\n",
              "      <td>NaN</td>\n",
              "      <td>82</td>\n",
              "      <td>5583</td>\n",
              "      <td>ADA</td>\n",
              "      <td>1.0</td>\n",
              "    </tr>\n",
              "    <tr>\n",
              "      <th>4</th>\n",
              "      <td>NaN</td>\n",
              "      <td>M</td>\n",
              "      <td>ABADE</td>\n",
              "      <td>NaN</td>\n",
              "      <td>57.0</td>\n",
              "      <td>57</td>\n",
              "      <td>57</td>\n",
              "      <td>ABADE</td>\n",
              "      <td>1.0</td>\n",
              "    </tr>\n",
              "  </tbody>\n",
              "</table>\n",
              "</div>"
            ],
            "text/plain": [
              "                                   alternative_names  ... ratio\n",
              "0  AILINE|ALEINE|ALIINE|ALINE|ALINER|ALINHE|ALINN...  ...   1.0\n",
              "1                                         ARAAO|ARAO  ...   1.0\n",
              "2                       AHARON|AROM|ARON|ARYON|HARON  ...   1.0\n",
              "3                            ADA|ADAH|ADAR|ADHA|HADA  ...   1.0\n",
              "4                                                NaN  ...   1.0\n",
              "\n",
              "[5 rows x 9 columns]"
            ]
          },
          "metadata": {},
          "execution_count": 2
        }
      ]
    },
    {
      "cell_type": "code",
      "metadata": {
        "id": "VqWtj3hQ7ZTk"
      },
      "source": [
        "# Ratio = 1.0\n",
        "#df = df[df['ratio'] == 1.0].copy()"
      ],
      "execution_count": null,
      "outputs": []
    },
    {
      "cell_type": "code",
      "metadata": {
        "colab": {
          "base_uri": "https://localhost:8080/"
        },
        "id": "E_N6fZ4JbXFm",
        "outputId": "14a111f0-678e-46cb-e4b6-7c42e0f70764"
      },
      "source": [
        "df.info()"
      ],
      "execution_count": null,
      "outputs": [
        {
          "output_type": "stream",
          "text": [
            "<class 'pandas.core.frame.DataFrame'>\n",
            "RangeIndex: 100787 entries, 0 to 100786\n",
            "Data columns (total 9 columns):\n",
            " #   Column             Non-Null Count   Dtype  \n",
            "---  ------             --------------   -----  \n",
            " 0   alternative_names  70745 non-null   object \n",
            " 1   classification     100787 non-null  object \n",
            " 2   first_name         100787 non-null  object \n",
            " 3   frequency_female   60484 non-null   float64\n",
            " 4   frequency_male     50932 non-null   float64\n",
            " 5   frequency_total    100787 non-null  int64  \n",
            " 6   frequency_group    100787 non-null  int64  \n",
            " 7   group_name         100787 non-null  object \n",
            " 8   ratio              100787 non-null  float64\n",
            "dtypes: float64(3), int64(2), object(4)\n",
            "memory usage: 6.9+ MB\n"
          ],
          "name": "stdout"
        }
      ]
    },
    {
      "cell_type": "markdown",
      "metadata": {
        "id": "WzVdVCUKRKCQ"
      },
      "source": [
        "### 1.2.1 Preparing the data "
      ]
    },
    {
      "cell_type": "code",
      "metadata": {
        "id": "Oh_6bEAWbgqT"
      },
      "source": [
        "y = df['classification'].astype(\"category\").cat.codes.values    # y labels into numbers 0 is F and 1 is M\n",
        "names = df['first_name'].apply(lambda x: x.lower())             # input names"
      ],
      "execution_count": null,
      "outputs": []
    },
    {
      "cell_type": "code",
      "metadata": {
        "colab": {
          "base_uri": "https://localhost:8080/"
        },
        "id": "CTDY5VYBl64k",
        "outputId": "aafc748c-dafd-4104-b81d-a02ba46883a5"
      },
      "source": [
        "print(\"M : \" + str(sum(y==1)))\n",
        "print(\"F : \" + str(sum(y==0)))\n",
        "print(len(y))"
      ],
      "execution_count": null,
      "outputs": [
        {
          "name": "stdout",
          "output_type": "stream",
          "text": [
            "M : 45537\n",
            "F : 55250\n",
            "100787\n"
          ]
        }
      ]
    },
    {
      "cell_type": "markdown",
      "metadata": {
        "id": "unV-k__Lgb0E"
      },
      "source": [
        "## 1.3 Encoding Words\n",
        "\n",
        "Neural networks can only learn to find patterns in numerical data, so it is necessary to convert our data into numeric values with word encoding or tokenization. "
      ]
    },
    {
      "cell_type": "code",
      "metadata": {
        "id": "8zNIym5uBmHS"
      },
      "source": [
        "#word encoding\n",
        "maxlen = 20                                               # max lenght of a name\n",
        "'''Define a vocabulary which corresponds to all the unique letters encountered'''\n",
        "vocab = set(' '.join([str(i) for i in names]))            # creating a vocab\n",
        "vocab.add('END')\n",
        "len_vocab = len(vocab)\n",
        "''' The dictionary maps each letter of vocabulary to a number '''\n",
        "char_index = dict((c, i) for i, c in enumerate(vocab))    # creating a dictionary\n",
        "\n",
        "# Builds an empty line with a 1 at the index of character\n",
        "def set_flag(i):\n",
        "    aux = np.zeros(len_vocab);\n",
        "    aux[i] = 1\n",
        "    return list(aux)\n",
        "\n",
        "# Truncate names and create the matrix\n",
        "def prepare_encod_names(X):\n",
        "    vec_names = []\n",
        "    trunc_name = [str(i)[0:maxlen] for i in X]  # consider only the first 20 characters\n",
        "    for i in trunc_name:\n",
        "        tmp = [set_flag(char_index[j]) for j in str(i)]\n",
        "        for k in range(0,maxlen - len(str(i))):\n",
        "            tmp.append(set_flag(char_index[\"END\"]))\n",
        "        vec_names.append(tmp)\n",
        "    return vec_names"
      ],
      "execution_count": null,
      "outputs": []
    },
    {
      "cell_type": "code",
      "metadata": {
        "id": "7pNJbOIUeqFf"
      },
      "source": [
        "x = prepare_encod_names(names.values)   # Now the names are encod as a vector of numbers "
      ],
      "execution_count": null,
      "outputs": []
    },
    {
      "cell_type": "markdown",
      "metadata": {
        "id": "FXl0jak5hfeW"
      },
      "source": [
        "## 1.4 Split the data into test and train"
      ]
    },
    {
      "cell_type": "code",
      "metadata": {
        "id": "23kNSk8pb_W1"
      },
      "source": [
        "# train, val, test set will be 60%, 20%, 20% of the dataset respectively\n",
        "x_train, x_test, y_train, y_test = train_test_split(x, y, test_size=0.2, random_state=28)\n",
        "x_train, x_val, y_train, y_val = train_test_split(x_train, y_train, test_size=0.2, random_state=40)\n",
        "x_train = np.asarray(x_train)\n",
        "y_train = np.asarray(y_train)\n",
        "x_test = np.asarray(x_test)\n",
        "y_test = np.asarray(y_test)\n",
        "x_val = np.asarray(x_val)\n",
        "y_val = np.asarray(y_val)"
      ],
      "execution_count": null,
      "outputs": []
    },
    {
      "cell_type": "code",
      "metadata": {
        "id": "L4lyvoLP7ZUR"
      },
      "source": [
        "def data2df(x, y):\n",
        "    df_x = pd.DataFrame(data=x.reshape((x.shape[0],-1)))\n",
        "    df_y = pd.DataFrame(data=y.reshape((y.shape[0],-1)))\n",
        "    \n",
        "    df = pd.concat([df_x, df_y], axis=1)\n",
        "    columns = list(df.columns)\n",
        "    columns[-1] = 'class'\n",
        "    df.columns = columns\n",
        "    df = df.astype('int8')\n",
        "    return df"
      ],
      "execution_count": null,
      "outputs": []
    },
    {
      "cell_type": "code",
      "metadata": {
        "id": "UNKSk_8g7ZUS"
      },
      "source": [
        "df_train = data2df(x_train, y_train)\n",
        "df_val = data2df(x_val, y_val)\n",
        "df_test = data2df(x_test, y_test)"
      ],
      "execution_count": null,
      "outputs": []
    },
    {
      "cell_type": "code",
      "metadata": {
        "colab": {
          "base_uri": "https://localhost:8080/"
        },
        "id": "Bb14Hl2v8AHE",
        "outputId": "6d1301e0-aec8-423b-b1a1-d37f04bdd9f1"
      },
      "source": [
        "print(df_train)"
      ],
      "execution_count": null,
      "outputs": [
        {
          "output_type": "stream",
          "text": [
            "0        0\n",
            "1        0\n",
            "2        0\n",
            "3        0\n",
            "4        0\n",
            "        ..\n",
            "64498    0\n",
            "64499    0\n",
            "64500    0\n",
            "64501    0\n",
            "64502    1\n",
            "Name: 0, Length: 64503, dtype: int8\n"
          ],
          "name": "stdout"
        }
      ]
    },
    {
      "cell_type": "code",
      "metadata": {
        "id": "xu2oj0Zw7ZUU"
      },
      "source": [
        "train_size = round(1 - len(df_test)/(len(df_train)+len(df_test)), 2)"
      ],
      "execution_count": null,
      "outputs": []
    },
    {
      "cell_type": "code",
      "metadata": {
        "id": "hy2neFvH7ZUU",
        "outputId": "77367a84-733b-4140-e1a8-bb06c0f38372"
      },
      "source": [
        "train_size"
      ],
      "execution_count": null,
      "outputs": [
        {
          "data": {
            "text/plain": [
              "0.76"
            ]
          },
          "execution_count": 13,
          "metadata": {},
          "output_type": "execute_result"
        }
      ]
    },
    {
      "cell_type": "code",
      "metadata": {
        "id": "WPlsNBX07ZUW"
      },
      "source": [
        "df = pd.concat([df_train, df_test])"
      ],
      "execution_count": null,
      "outputs": []
    },
    {
      "cell_type": "markdown",
      "metadata": {
        "id": "A_ruAAkh7ZUX"
      },
      "source": [
        "## 1.5 Train models"
      ]
    },
    {
      "cell_type": "code",
      "metadata": {
        "id": "AJ1lW5KH7ZUZ"
      },
      "source": [
        "from pycaret.classification import *"
      ],
      "execution_count": null,
      "outputs": []
    },
    {
      "cell_type": "code",
      "metadata": {
        "id": "-fNlRtuO7ZUd",
        "outputId": "11b3eca0-4ec7-430a-9ca4-9de35c007160"
      },
      "source": [
        "session = setup(data=df, target='class', train_size=train_size, data_split_shuffle=False)"
      ],
      "execution_count": null,
      "outputs": [
        {
          "data": {
            "text/html": [
              "<style  type=\"text/css\" >\n",
              "#T_b6f53_row44_col1{\n",
              "            background-color:  lightgreen;\n",
              "        }</style><table id=\"T_b6f53_\" ><thead>    <tr>        <th class=\"blank level0\" ></th>        <th class=\"col_heading level0 col0\" >Description</th>        <th class=\"col_heading level0 col1\" >Value</th>    </tr></thead><tbody>\n",
              "                <tr>\n",
              "                        <th id=\"T_b6f53_level0_row0\" class=\"row_heading level0 row0\" >0</th>\n",
              "                        <td id=\"T_b6f53_row0_col0\" class=\"data row0 col0\" >session_id</td>\n",
              "                        <td id=\"T_b6f53_row0_col1\" class=\"data row0 col1\" >4331</td>\n",
              "            </tr>\n",
              "            <tr>\n",
              "                        <th id=\"T_b6f53_level0_row1\" class=\"row_heading level0 row1\" >1</th>\n",
              "                        <td id=\"T_b6f53_row1_col0\" class=\"data row1 col0\" >Target</td>\n",
              "                        <td id=\"T_b6f53_row1_col1\" class=\"data row1 col1\" >class</td>\n",
              "            </tr>\n",
              "            <tr>\n",
              "                        <th id=\"T_b6f53_level0_row2\" class=\"row_heading level0 row2\" >2</th>\n",
              "                        <td id=\"T_b6f53_row2_col0\" class=\"data row2 col0\" >Target Type</td>\n",
              "                        <td id=\"T_b6f53_row2_col1\" class=\"data row2 col1\" >Binary</td>\n",
              "            </tr>\n",
              "            <tr>\n",
              "                        <th id=\"T_b6f53_level0_row3\" class=\"row_heading level0 row3\" >3</th>\n",
              "                        <td id=\"T_b6f53_row3_col0\" class=\"data row3 col0\" >Label Encoded</td>\n",
              "                        <td id=\"T_b6f53_row3_col1\" class=\"data row3 col1\" >None</td>\n",
              "            </tr>\n",
              "            <tr>\n",
              "                        <th id=\"T_b6f53_level0_row4\" class=\"row_heading level0 row4\" >4</th>\n",
              "                        <td id=\"T_b6f53_row4_col0\" class=\"data row4 col0\" >Original Data</td>\n",
              "                        <td id=\"T_b6f53_row4_col1\" class=\"data row4 col1\" >(84661, 561)</td>\n",
              "            </tr>\n",
              "            <tr>\n",
              "                        <th id=\"T_b6f53_level0_row5\" class=\"row_heading level0 row5\" >5</th>\n",
              "                        <td id=\"T_b6f53_row5_col0\" class=\"data row5 col0\" >Missing Values</td>\n",
              "                        <td id=\"T_b6f53_row5_col1\" class=\"data row5 col1\" >False</td>\n",
              "            </tr>\n",
              "            <tr>\n",
              "                        <th id=\"T_b6f53_level0_row6\" class=\"row_heading level0 row6\" >6</th>\n",
              "                        <td id=\"T_b6f53_row6_col0\" class=\"data row6 col0\" >Numeric Features</td>\n",
              "                        <td id=\"T_b6f53_row6_col1\" class=\"data row6 col1\" >560</td>\n",
              "            </tr>\n",
              "            <tr>\n",
              "                        <th id=\"T_b6f53_level0_row7\" class=\"row_heading level0 row7\" >7</th>\n",
              "                        <td id=\"T_b6f53_row7_col0\" class=\"data row7 col0\" >Categorical Features</td>\n",
              "                        <td id=\"T_b6f53_row7_col1\" class=\"data row7 col1\" >0</td>\n",
              "            </tr>\n",
              "            <tr>\n",
              "                        <th id=\"T_b6f53_level0_row8\" class=\"row_heading level0 row8\" >8</th>\n",
              "                        <td id=\"T_b6f53_row8_col0\" class=\"data row8 col0\" >Ordinal Features</td>\n",
              "                        <td id=\"T_b6f53_row8_col1\" class=\"data row8 col1\" >False</td>\n",
              "            </tr>\n",
              "            <tr>\n",
              "                        <th id=\"T_b6f53_level0_row9\" class=\"row_heading level0 row9\" >9</th>\n",
              "                        <td id=\"T_b6f53_row9_col0\" class=\"data row9 col0\" >High Cardinality Features</td>\n",
              "                        <td id=\"T_b6f53_row9_col1\" class=\"data row9 col1\" >False</td>\n",
              "            </tr>\n",
              "            <tr>\n",
              "                        <th id=\"T_b6f53_level0_row10\" class=\"row_heading level0 row10\" >10</th>\n",
              "                        <td id=\"T_b6f53_row10_col0\" class=\"data row10 col0\" >High Cardinality Method</td>\n",
              "                        <td id=\"T_b6f53_row10_col1\" class=\"data row10 col1\" >None</td>\n",
              "            </tr>\n",
              "            <tr>\n",
              "                        <th id=\"T_b6f53_level0_row11\" class=\"row_heading level0 row11\" >11</th>\n",
              "                        <td id=\"T_b6f53_row11_col0\" class=\"data row11 col0\" >Transformed Train Set</td>\n",
              "                        <td id=\"T_b6f53_row11_col1\" class=\"data row11 col1\" >(64342, 558)</td>\n",
              "            </tr>\n",
              "            <tr>\n",
              "                        <th id=\"T_b6f53_level0_row12\" class=\"row_heading level0 row12\" >12</th>\n",
              "                        <td id=\"T_b6f53_row12_col0\" class=\"data row12 col0\" >Transformed Test Set</td>\n",
              "                        <td id=\"T_b6f53_row12_col1\" class=\"data row12 col1\" >(20319, 558)</td>\n",
              "            </tr>\n",
              "            <tr>\n",
              "                        <th id=\"T_b6f53_level0_row13\" class=\"row_heading level0 row13\" >13</th>\n",
              "                        <td id=\"T_b6f53_row13_col0\" class=\"data row13 col0\" >Shuffle Train-Test</td>\n",
              "                        <td id=\"T_b6f53_row13_col1\" class=\"data row13 col1\" >False</td>\n",
              "            </tr>\n",
              "            <tr>\n",
              "                        <th id=\"T_b6f53_level0_row14\" class=\"row_heading level0 row14\" >14</th>\n",
              "                        <td id=\"T_b6f53_row14_col0\" class=\"data row14 col0\" >Stratify Train-Test</td>\n",
              "                        <td id=\"T_b6f53_row14_col1\" class=\"data row14 col1\" >False</td>\n",
              "            </tr>\n",
              "            <tr>\n",
              "                        <th id=\"T_b6f53_level0_row15\" class=\"row_heading level0 row15\" >15</th>\n",
              "                        <td id=\"T_b6f53_row15_col0\" class=\"data row15 col0\" >Fold Generator</td>\n",
              "                        <td id=\"T_b6f53_row15_col1\" class=\"data row15 col1\" >StratifiedKFold</td>\n",
              "            </tr>\n",
              "            <tr>\n",
              "                        <th id=\"T_b6f53_level0_row16\" class=\"row_heading level0 row16\" >16</th>\n",
              "                        <td id=\"T_b6f53_row16_col0\" class=\"data row16 col0\" >Fold Number</td>\n",
              "                        <td id=\"T_b6f53_row16_col1\" class=\"data row16 col1\" >10</td>\n",
              "            </tr>\n",
              "            <tr>\n",
              "                        <th id=\"T_b6f53_level0_row17\" class=\"row_heading level0 row17\" >17</th>\n",
              "                        <td id=\"T_b6f53_row17_col0\" class=\"data row17 col0\" >CPU Jobs</td>\n",
              "                        <td id=\"T_b6f53_row17_col1\" class=\"data row17 col1\" >-1</td>\n",
              "            </tr>\n",
              "            <tr>\n",
              "                        <th id=\"T_b6f53_level0_row18\" class=\"row_heading level0 row18\" >18</th>\n",
              "                        <td id=\"T_b6f53_row18_col0\" class=\"data row18 col0\" >Use GPU</td>\n",
              "                        <td id=\"T_b6f53_row18_col1\" class=\"data row18 col1\" >False</td>\n",
              "            </tr>\n",
              "            <tr>\n",
              "                        <th id=\"T_b6f53_level0_row19\" class=\"row_heading level0 row19\" >19</th>\n",
              "                        <td id=\"T_b6f53_row19_col0\" class=\"data row19 col0\" >Log Experiment</td>\n",
              "                        <td id=\"T_b6f53_row19_col1\" class=\"data row19 col1\" >False</td>\n",
              "            </tr>\n",
              "            <tr>\n",
              "                        <th id=\"T_b6f53_level0_row20\" class=\"row_heading level0 row20\" >20</th>\n",
              "                        <td id=\"T_b6f53_row20_col0\" class=\"data row20 col0\" >Experiment Name</td>\n",
              "                        <td id=\"T_b6f53_row20_col1\" class=\"data row20 col1\" >clf-default-name</td>\n",
              "            </tr>\n",
              "            <tr>\n",
              "                        <th id=\"T_b6f53_level0_row21\" class=\"row_heading level0 row21\" >21</th>\n",
              "                        <td id=\"T_b6f53_row21_col0\" class=\"data row21 col0\" >USI</td>\n",
              "                        <td id=\"T_b6f53_row21_col1\" class=\"data row21 col1\" >a747</td>\n",
              "            </tr>\n",
              "            <tr>\n",
              "                        <th id=\"T_b6f53_level0_row22\" class=\"row_heading level0 row22\" >22</th>\n",
              "                        <td id=\"T_b6f53_row22_col0\" class=\"data row22 col0\" >Imputation Type</td>\n",
              "                        <td id=\"T_b6f53_row22_col1\" class=\"data row22 col1\" >simple</td>\n",
              "            </tr>\n",
              "            <tr>\n",
              "                        <th id=\"T_b6f53_level0_row23\" class=\"row_heading level0 row23\" >23</th>\n",
              "                        <td id=\"T_b6f53_row23_col0\" class=\"data row23 col0\" >Iterative Imputation Iteration</td>\n",
              "                        <td id=\"T_b6f53_row23_col1\" class=\"data row23 col1\" >None</td>\n",
              "            </tr>\n",
              "            <tr>\n",
              "                        <th id=\"T_b6f53_level0_row24\" class=\"row_heading level0 row24\" >24</th>\n",
              "                        <td id=\"T_b6f53_row24_col0\" class=\"data row24 col0\" >Numeric Imputer</td>\n",
              "                        <td id=\"T_b6f53_row24_col1\" class=\"data row24 col1\" >mean</td>\n",
              "            </tr>\n",
              "            <tr>\n",
              "                        <th id=\"T_b6f53_level0_row25\" class=\"row_heading level0 row25\" >25</th>\n",
              "                        <td id=\"T_b6f53_row25_col0\" class=\"data row25 col0\" >Iterative Imputation Numeric Model</td>\n",
              "                        <td id=\"T_b6f53_row25_col1\" class=\"data row25 col1\" >None</td>\n",
              "            </tr>\n",
              "            <tr>\n",
              "                        <th id=\"T_b6f53_level0_row26\" class=\"row_heading level0 row26\" >26</th>\n",
              "                        <td id=\"T_b6f53_row26_col0\" class=\"data row26 col0\" >Categorical Imputer</td>\n",
              "                        <td id=\"T_b6f53_row26_col1\" class=\"data row26 col1\" >constant</td>\n",
              "            </tr>\n",
              "            <tr>\n",
              "                        <th id=\"T_b6f53_level0_row27\" class=\"row_heading level0 row27\" >27</th>\n",
              "                        <td id=\"T_b6f53_row27_col0\" class=\"data row27 col0\" >Iterative Imputation Categorical Model</td>\n",
              "                        <td id=\"T_b6f53_row27_col1\" class=\"data row27 col1\" >None</td>\n",
              "            </tr>\n",
              "            <tr>\n",
              "                        <th id=\"T_b6f53_level0_row28\" class=\"row_heading level0 row28\" >28</th>\n",
              "                        <td id=\"T_b6f53_row28_col0\" class=\"data row28 col0\" >Unknown Categoricals Handling</td>\n",
              "                        <td id=\"T_b6f53_row28_col1\" class=\"data row28 col1\" >least_frequent</td>\n",
              "            </tr>\n",
              "            <tr>\n",
              "                        <th id=\"T_b6f53_level0_row29\" class=\"row_heading level0 row29\" >29</th>\n",
              "                        <td id=\"T_b6f53_row29_col0\" class=\"data row29 col0\" >Normalize</td>\n",
              "                        <td id=\"T_b6f53_row29_col1\" class=\"data row29 col1\" >False</td>\n",
              "            </tr>\n",
              "            <tr>\n",
              "                        <th id=\"T_b6f53_level0_row30\" class=\"row_heading level0 row30\" >30</th>\n",
              "                        <td id=\"T_b6f53_row30_col0\" class=\"data row30 col0\" >Normalize Method</td>\n",
              "                        <td id=\"T_b6f53_row30_col1\" class=\"data row30 col1\" >None</td>\n",
              "            </tr>\n",
              "            <tr>\n",
              "                        <th id=\"T_b6f53_level0_row31\" class=\"row_heading level0 row31\" >31</th>\n",
              "                        <td id=\"T_b6f53_row31_col0\" class=\"data row31 col0\" >Transformation</td>\n",
              "                        <td id=\"T_b6f53_row31_col1\" class=\"data row31 col1\" >False</td>\n",
              "            </tr>\n",
              "            <tr>\n",
              "                        <th id=\"T_b6f53_level0_row32\" class=\"row_heading level0 row32\" >32</th>\n",
              "                        <td id=\"T_b6f53_row32_col0\" class=\"data row32 col0\" >Transformation Method</td>\n",
              "                        <td id=\"T_b6f53_row32_col1\" class=\"data row32 col1\" >None</td>\n",
              "            </tr>\n",
              "            <tr>\n",
              "                        <th id=\"T_b6f53_level0_row33\" class=\"row_heading level0 row33\" >33</th>\n",
              "                        <td id=\"T_b6f53_row33_col0\" class=\"data row33 col0\" >PCA</td>\n",
              "                        <td id=\"T_b6f53_row33_col1\" class=\"data row33 col1\" >False</td>\n",
              "            </tr>\n",
              "            <tr>\n",
              "                        <th id=\"T_b6f53_level0_row34\" class=\"row_heading level0 row34\" >34</th>\n",
              "                        <td id=\"T_b6f53_row34_col0\" class=\"data row34 col0\" >PCA Method</td>\n",
              "                        <td id=\"T_b6f53_row34_col1\" class=\"data row34 col1\" >None</td>\n",
              "            </tr>\n",
              "            <tr>\n",
              "                        <th id=\"T_b6f53_level0_row35\" class=\"row_heading level0 row35\" >35</th>\n",
              "                        <td id=\"T_b6f53_row35_col0\" class=\"data row35 col0\" >PCA Components</td>\n",
              "                        <td id=\"T_b6f53_row35_col1\" class=\"data row35 col1\" >None</td>\n",
              "            </tr>\n",
              "            <tr>\n",
              "                        <th id=\"T_b6f53_level0_row36\" class=\"row_heading level0 row36\" >36</th>\n",
              "                        <td id=\"T_b6f53_row36_col0\" class=\"data row36 col0\" >Ignore Low Variance</td>\n",
              "                        <td id=\"T_b6f53_row36_col1\" class=\"data row36 col1\" >False</td>\n",
              "            </tr>\n",
              "            <tr>\n",
              "                        <th id=\"T_b6f53_level0_row37\" class=\"row_heading level0 row37\" >37</th>\n",
              "                        <td id=\"T_b6f53_row37_col0\" class=\"data row37 col0\" >Combine Rare Levels</td>\n",
              "                        <td id=\"T_b6f53_row37_col1\" class=\"data row37 col1\" >False</td>\n",
              "            </tr>\n",
              "            <tr>\n",
              "                        <th id=\"T_b6f53_level0_row38\" class=\"row_heading level0 row38\" >38</th>\n",
              "                        <td id=\"T_b6f53_row38_col0\" class=\"data row38 col0\" >Rare Level Threshold</td>\n",
              "                        <td id=\"T_b6f53_row38_col1\" class=\"data row38 col1\" >None</td>\n",
              "            </tr>\n",
              "            <tr>\n",
              "                        <th id=\"T_b6f53_level0_row39\" class=\"row_heading level0 row39\" >39</th>\n",
              "                        <td id=\"T_b6f53_row39_col0\" class=\"data row39 col0\" >Numeric Binning</td>\n",
              "                        <td id=\"T_b6f53_row39_col1\" class=\"data row39 col1\" >False</td>\n",
              "            </tr>\n",
              "            <tr>\n",
              "                        <th id=\"T_b6f53_level0_row40\" class=\"row_heading level0 row40\" >40</th>\n",
              "                        <td id=\"T_b6f53_row40_col0\" class=\"data row40 col0\" >Remove Outliers</td>\n",
              "                        <td id=\"T_b6f53_row40_col1\" class=\"data row40 col1\" >False</td>\n",
              "            </tr>\n",
              "            <tr>\n",
              "                        <th id=\"T_b6f53_level0_row41\" class=\"row_heading level0 row41\" >41</th>\n",
              "                        <td id=\"T_b6f53_row41_col0\" class=\"data row41 col0\" >Outliers Threshold</td>\n",
              "                        <td id=\"T_b6f53_row41_col1\" class=\"data row41 col1\" >None</td>\n",
              "            </tr>\n",
              "            <tr>\n",
              "                        <th id=\"T_b6f53_level0_row42\" class=\"row_heading level0 row42\" >42</th>\n",
              "                        <td id=\"T_b6f53_row42_col0\" class=\"data row42 col0\" >Remove Multicollinearity</td>\n",
              "                        <td id=\"T_b6f53_row42_col1\" class=\"data row42 col1\" >False</td>\n",
              "            </tr>\n",
              "            <tr>\n",
              "                        <th id=\"T_b6f53_level0_row43\" class=\"row_heading level0 row43\" >43</th>\n",
              "                        <td id=\"T_b6f53_row43_col0\" class=\"data row43 col0\" >Multicollinearity Threshold</td>\n",
              "                        <td id=\"T_b6f53_row43_col1\" class=\"data row43 col1\" >None</td>\n",
              "            </tr>\n",
              "            <tr>\n",
              "                        <th id=\"T_b6f53_level0_row44\" class=\"row_heading level0 row44\" >44</th>\n",
              "                        <td id=\"T_b6f53_row44_col0\" class=\"data row44 col0\" >Remove Perfect Collinearity</td>\n",
              "                        <td id=\"T_b6f53_row44_col1\" class=\"data row44 col1\" >True</td>\n",
              "            </tr>\n",
              "            <tr>\n",
              "                        <th id=\"T_b6f53_level0_row45\" class=\"row_heading level0 row45\" >45</th>\n",
              "                        <td id=\"T_b6f53_row45_col0\" class=\"data row45 col0\" >Clustering</td>\n",
              "                        <td id=\"T_b6f53_row45_col1\" class=\"data row45 col1\" >False</td>\n",
              "            </tr>\n",
              "            <tr>\n",
              "                        <th id=\"T_b6f53_level0_row46\" class=\"row_heading level0 row46\" >46</th>\n",
              "                        <td id=\"T_b6f53_row46_col0\" class=\"data row46 col0\" >Clustering Iteration</td>\n",
              "                        <td id=\"T_b6f53_row46_col1\" class=\"data row46 col1\" >None</td>\n",
              "            </tr>\n",
              "            <tr>\n",
              "                        <th id=\"T_b6f53_level0_row47\" class=\"row_heading level0 row47\" >47</th>\n",
              "                        <td id=\"T_b6f53_row47_col0\" class=\"data row47 col0\" >Polynomial Features</td>\n",
              "                        <td id=\"T_b6f53_row47_col1\" class=\"data row47 col1\" >False</td>\n",
              "            </tr>\n",
              "            <tr>\n",
              "                        <th id=\"T_b6f53_level0_row48\" class=\"row_heading level0 row48\" >48</th>\n",
              "                        <td id=\"T_b6f53_row48_col0\" class=\"data row48 col0\" >Polynomial Degree</td>\n",
              "                        <td id=\"T_b6f53_row48_col1\" class=\"data row48 col1\" >None</td>\n",
              "            </tr>\n",
              "            <tr>\n",
              "                        <th id=\"T_b6f53_level0_row49\" class=\"row_heading level0 row49\" >49</th>\n",
              "                        <td id=\"T_b6f53_row49_col0\" class=\"data row49 col0\" >Trignometry Features</td>\n",
              "                        <td id=\"T_b6f53_row49_col1\" class=\"data row49 col1\" >False</td>\n",
              "            </tr>\n",
              "            <tr>\n",
              "                        <th id=\"T_b6f53_level0_row50\" class=\"row_heading level0 row50\" >50</th>\n",
              "                        <td id=\"T_b6f53_row50_col0\" class=\"data row50 col0\" >Polynomial Threshold</td>\n",
              "                        <td id=\"T_b6f53_row50_col1\" class=\"data row50 col1\" >None</td>\n",
              "            </tr>\n",
              "            <tr>\n",
              "                        <th id=\"T_b6f53_level0_row51\" class=\"row_heading level0 row51\" >51</th>\n",
              "                        <td id=\"T_b6f53_row51_col0\" class=\"data row51 col0\" >Group Features</td>\n",
              "                        <td id=\"T_b6f53_row51_col1\" class=\"data row51 col1\" >False</td>\n",
              "            </tr>\n",
              "            <tr>\n",
              "                        <th id=\"T_b6f53_level0_row52\" class=\"row_heading level0 row52\" >52</th>\n",
              "                        <td id=\"T_b6f53_row52_col0\" class=\"data row52 col0\" >Feature Selection</td>\n",
              "                        <td id=\"T_b6f53_row52_col1\" class=\"data row52 col1\" >False</td>\n",
              "            </tr>\n",
              "            <tr>\n",
              "                        <th id=\"T_b6f53_level0_row53\" class=\"row_heading level0 row53\" >53</th>\n",
              "                        <td id=\"T_b6f53_row53_col0\" class=\"data row53 col0\" >Feature Selection Method</td>\n",
              "                        <td id=\"T_b6f53_row53_col1\" class=\"data row53 col1\" >classic</td>\n",
              "            </tr>\n",
              "            <tr>\n",
              "                        <th id=\"T_b6f53_level0_row54\" class=\"row_heading level0 row54\" >54</th>\n",
              "                        <td id=\"T_b6f53_row54_col0\" class=\"data row54 col0\" >Features Selection Threshold</td>\n",
              "                        <td id=\"T_b6f53_row54_col1\" class=\"data row54 col1\" >None</td>\n",
              "            </tr>\n",
              "            <tr>\n",
              "                        <th id=\"T_b6f53_level0_row55\" class=\"row_heading level0 row55\" >55</th>\n",
              "                        <td id=\"T_b6f53_row55_col0\" class=\"data row55 col0\" >Feature Interaction</td>\n",
              "                        <td id=\"T_b6f53_row55_col1\" class=\"data row55 col1\" >False</td>\n",
              "            </tr>\n",
              "            <tr>\n",
              "                        <th id=\"T_b6f53_level0_row56\" class=\"row_heading level0 row56\" >56</th>\n",
              "                        <td id=\"T_b6f53_row56_col0\" class=\"data row56 col0\" >Feature Ratio</td>\n",
              "                        <td id=\"T_b6f53_row56_col1\" class=\"data row56 col1\" >False</td>\n",
              "            </tr>\n",
              "            <tr>\n",
              "                        <th id=\"T_b6f53_level0_row57\" class=\"row_heading level0 row57\" >57</th>\n",
              "                        <td id=\"T_b6f53_row57_col0\" class=\"data row57 col0\" >Interaction Threshold</td>\n",
              "                        <td id=\"T_b6f53_row57_col1\" class=\"data row57 col1\" >None</td>\n",
              "            </tr>\n",
              "            <tr>\n",
              "                        <th id=\"T_b6f53_level0_row58\" class=\"row_heading level0 row58\" >58</th>\n",
              "                        <td id=\"T_b6f53_row58_col0\" class=\"data row58 col0\" >Fix Imbalance</td>\n",
              "                        <td id=\"T_b6f53_row58_col1\" class=\"data row58 col1\" >False</td>\n",
              "            </tr>\n",
              "            <tr>\n",
              "                        <th id=\"T_b6f53_level0_row59\" class=\"row_heading level0 row59\" >59</th>\n",
              "                        <td id=\"T_b6f53_row59_col0\" class=\"data row59 col0\" >Fix Imbalance Method</td>\n",
              "                        <td id=\"T_b6f53_row59_col1\" class=\"data row59 col1\" >SMOTE</td>\n",
              "            </tr>\n",
              "    </tbody></table>"
            ],
            "text/plain": [
              "<pandas.io.formats.style.Styler at 0x1d5ba7c2f40>"
            ]
          },
          "metadata": {},
          "output_type": "display_data"
        }
      ]
    },
    {
      "cell_type": "code",
      "metadata": {
        "id": "pfCc5gER7ZUf",
        "outputId": "53ef9dc1-ab55-4db4-a7c4-40c82707491a"
      },
      "source": [
        "best_model = compare_models()"
      ],
      "execution_count": null,
      "outputs": [
        {
          "data": {
            "text/html": [
              "<style  type=\"text/css\" >\n",
              "    #T_3f597_ th {\n",
              "          text-align: left;\n",
              "    }#T_3f597_row0_col0,#T_3f597_row0_col4,#T_3f597_row1_col0,#T_3f597_row1_col1,#T_3f597_row1_col2,#T_3f597_row1_col3,#T_3f597_row1_col4,#T_3f597_row1_col5,#T_3f597_row1_col6,#T_3f597_row1_col7,#T_3f597_row2_col0,#T_3f597_row2_col1,#T_3f597_row2_col2,#T_3f597_row2_col3,#T_3f597_row2_col4,#T_3f597_row2_col5,#T_3f597_row2_col6,#T_3f597_row2_col7,#T_3f597_row3_col0,#T_3f597_row3_col1,#T_3f597_row3_col2,#T_3f597_row3_col3,#T_3f597_row3_col4,#T_3f597_row3_col5,#T_3f597_row3_col6,#T_3f597_row3_col7,#T_3f597_row4_col0,#T_3f597_row4_col1,#T_3f597_row4_col2,#T_3f597_row4_col3,#T_3f597_row4_col4,#T_3f597_row4_col5,#T_3f597_row4_col6,#T_3f597_row4_col7,#T_3f597_row5_col0,#T_3f597_row5_col1,#T_3f597_row5_col2,#T_3f597_row5_col3,#T_3f597_row5_col4,#T_3f597_row5_col5,#T_3f597_row5_col6,#T_3f597_row5_col7,#T_3f597_row6_col0,#T_3f597_row6_col1,#T_3f597_row6_col2,#T_3f597_row6_col3,#T_3f597_row6_col4,#T_3f597_row6_col5,#T_3f597_row6_col6,#T_3f597_row6_col7,#T_3f597_row7_col0,#T_3f597_row7_col1,#T_3f597_row7_col2,#T_3f597_row7_col3,#T_3f597_row7_col4,#T_3f597_row7_col5,#T_3f597_row7_col6,#T_3f597_row7_col7,#T_3f597_row8_col0,#T_3f597_row8_col1,#T_3f597_row8_col2,#T_3f597_row8_col3,#T_3f597_row8_col4,#T_3f597_row8_col5,#T_3f597_row8_col6,#T_3f597_row8_col7,#T_3f597_row9_col0,#T_3f597_row9_col1,#T_3f597_row9_col2,#T_3f597_row9_col3,#T_3f597_row9_col4,#T_3f597_row9_col5,#T_3f597_row9_col6,#T_3f597_row9_col7,#T_3f597_row10_col0,#T_3f597_row10_col1,#T_3f597_row10_col2,#T_3f597_row10_col3,#T_3f597_row10_col5,#T_3f597_row10_col6,#T_3f597_row10_col7,#T_3f597_row11_col0,#T_3f597_row11_col1,#T_3f597_row11_col2,#T_3f597_row11_col3,#T_3f597_row11_col4,#T_3f597_row11_col5,#T_3f597_row11_col6,#T_3f597_row11_col7,#T_3f597_row12_col0,#T_3f597_row12_col1,#T_3f597_row12_col2,#T_3f597_row12_col3,#T_3f597_row12_col4,#T_3f597_row12_col5,#T_3f597_row12_col6,#T_3f597_row12_col7{\n",
              "            text-align:  left;\n",
              "            text-align:  left;\n",
              "        }#T_3f597_row0_col1,#T_3f597_row0_col2,#T_3f597_row0_col3,#T_3f597_row0_col5,#T_3f597_row0_col6,#T_3f597_row0_col7,#T_3f597_row10_col4{\n",
              "            text-align:  left;\n",
              "            text-align:  left;\n",
              "            background-color:  yellow;\n",
              "        }#T_3f597_row0_col8,#T_3f597_row1_col8,#T_3f597_row2_col8,#T_3f597_row3_col8,#T_3f597_row4_col8,#T_3f597_row5_col8,#T_3f597_row6_col8,#T_3f597_row7_col8,#T_3f597_row8_col8,#T_3f597_row9_col8,#T_3f597_row11_col8,#T_3f597_row12_col8{\n",
              "            text-align:  left;\n",
              "            text-align:  left;\n",
              "            background-color:  lightgrey;\n",
              "        }#T_3f597_row10_col8{\n",
              "            text-align:  left;\n",
              "            text-align:  left;\n",
              "            background-color:  yellow;\n",
              "            background-color:  lightgrey;\n",
              "        }</style><table id=\"T_3f597_\" ><thead>    <tr>        <th class=\"blank level0\" ></th>        <th class=\"col_heading level0 col0\" >Model</th>        <th class=\"col_heading level0 col1\" >Accuracy</th>        <th class=\"col_heading level0 col2\" >AUC</th>        <th class=\"col_heading level0 col3\" >Recall</th>        <th class=\"col_heading level0 col4\" >Prec.</th>        <th class=\"col_heading level0 col5\" >F1</th>        <th class=\"col_heading level0 col6\" >Kappa</th>        <th class=\"col_heading level0 col7\" >MCC</th>        <th class=\"col_heading level0 col8\" >TT (Sec)</th>    </tr></thead><tbody>\n",
              "                <tr>\n",
              "                        <th id=\"T_3f597_level0_row0\" class=\"row_heading level0 row0\" >et</th>\n",
              "                        <td id=\"T_3f597_row0_col0\" class=\"data row0 col0\" >Extra Trees Classifier</td>\n",
              "                        <td id=\"T_3f597_row0_col1\" class=\"data row0 col1\" >0.9482</td>\n",
              "                        <td id=\"T_3f597_row0_col2\" class=\"data row0 col2\" >0.9893</td>\n",
              "                        <td id=\"T_3f597_row0_col3\" class=\"data row0 col3\" >0.9351</td>\n",
              "                        <td id=\"T_3f597_row0_col4\" class=\"data row0 col4\" >0.9498</td>\n",
              "                        <td id=\"T_3f597_row0_col5\" class=\"data row0 col5\" >0.9424</td>\n",
              "                        <td id=\"T_3f597_row0_col6\" class=\"data row0 col6\" >0.8954</td>\n",
              "                        <td id=\"T_3f597_row0_col7\" class=\"data row0 col7\" >0.8955</td>\n",
              "                        <td id=\"T_3f597_row0_col8\" class=\"data row0 col8\" >9.7480</td>\n",
              "            </tr>\n",
              "            <tr>\n",
              "                        <th id=\"T_3f597_level0_row1\" class=\"row_heading level0 row1\" >rf</th>\n",
              "                        <td id=\"T_3f597_row1_col0\" class=\"data row1 col0\" >Random Forest Classifier</td>\n",
              "                        <td id=\"T_3f597_row1_col1\" class=\"data row1 col1\" >0.9460</td>\n",
              "                        <td id=\"T_3f597_row1_col2\" class=\"data row1 col2\" >0.9885</td>\n",
              "                        <td id=\"T_3f597_row1_col3\" class=\"data row1 col3\" >0.9311</td>\n",
              "                        <td id=\"T_3f597_row1_col4\" class=\"data row1 col4\" >0.9487</td>\n",
              "                        <td id=\"T_3f597_row1_col5\" class=\"data row1 col5\" >0.9398</td>\n",
              "                        <td id=\"T_3f597_row1_col6\" class=\"data row1 col6\" >0.8908</td>\n",
              "                        <td id=\"T_3f597_row1_col7\" class=\"data row1 col7\" >0.8910</td>\n",
              "                        <td id=\"T_3f597_row1_col8\" class=\"data row1 col8\" >6.5920</td>\n",
              "            </tr>\n",
              "            <tr>\n",
              "                        <th id=\"T_3f597_level0_row2\" class=\"row_heading level0 row2\" >lightgbm</th>\n",
              "                        <td id=\"T_3f597_row2_col0\" class=\"data row2 col0\" >Light Gradient Boosting Machine</td>\n",
              "                        <td id=\"T_3f597_row2_col1\" class=\"data row2 col1\" >0.9222</td>\n",
              "                        <td id=\"T_3f597_row2_col2\" class=\"data row2 col2\" >0.9766</td>\n",
              "                        <td id=\"T_3f597_row2_col3\" class=\"data row2 col3\" >0.9129</td>\n",
              "                        <td id=\"T_3f597_row2_col4\" class=\"data row2 col4\" >0.9152</td>\n",
              "                        <td id=\"T_3f597_row2_col5\" class=\"data row2 col5\" >0.9140</td>\n",
              "                        <td id=\"T_3f597_row2_col6\" class=\"data row2 col6\" >0.8430</td>\n",
              "                        <td id=\"T_3f597_row2_col7\" class=\"data row2 col7\" >0.8430</td>\n",
              "                        <td id=\"T_3f597_row2_col8\" class=\"data row2 col8\" >0.4670</td>\n",
              "            </tr>\n",
              "            <tr>\n",
              "                        <th id=\"T_3f597_level0_row3\" class=\"row_heading level0 row3\" >dt</th>\n",
              "                        <td id=\"T_3f597_row3_col0\" class=\"data row3 col0\" >Decision Tree Classifier</td>\n",
              "                        <td id=\"T_3f597_row3_col1\" class=\"data row3 col1\" >0.9210</td>\n",
              "                        <td id=\"T_3f597_row3_col2\" class=\"data row3 col2\" >0.9201</td>\n",
              "                        <td id=\"T_3f597_row3_col3\" class=\"data row3 col3\" >0.9114</td>\n",
              "                        <td id=\"T_3f597_row3_col4\" class=\"data row3 col4\" >0.9139</td>\n",
              "                        <td id=\"T_3f597_row3_col5\" class=\"data row3 col5\" >0.9126</td>\n",
              "                        <td id=\"T_3f597_row3_col6\" class=\"data row3 col6\" >0.8405</td>\n",
              "                        <td id=\"T_3f597_row3_col7\" class=\"data row3 col7\" >0.8405</td>\n",
              "                        <td id=\"T_3f597_row3_col8\" class=\"data row3 col8\" >1.0470</td>\n",
              "            </tr>\n",
              "            <tr>\n",
              "                        <th id=\"T_3f597_level0_row4\" class=\"row_heading level0 row4\" >knn</th>\n",
              "                        <td id=\"T_3f597_row4_col0\" class=\"data row4 col0\" >K Neighbors Classifier</td>\n",
              "                        <td id=\"T_3f597_row4_col1\" class=\"data row4 col1\" >0.9034</td>\n",
              "                        <td id=\"T_3f597_row4_col2\" class=\"data row4 col2\" >0.9600</td>\n",
              "                        <td id=\"T_3f597_row4_col3\" class=\"data row4 col3\" >0.8649</td>\n",
              "                        <td id=\"T_3f597_row4_col4\" class=\"data row4 col4\" >0.9171</td>\n",
              "                        <td id=\"T_3f597_row4_col5\" class=\"data row4 col5\" >0.8902</td>\n",
              "                        <td id=\"T_3f597_row4_col6\" class=\"data row4 col6\" >0.8042</td>\n",
              "                        <td id=\"T_3f597_row4_col7\" class=\"data row4 col7\" >0.8053</td>\n",
              "                        <td id=\"T_3f597_row4_col8\" class=\"data row4 col8\" >221.9500</td>\n",
              "            </tr>\n",
              "            <tr>\n",
              "                        <th id=\"T_3f597_level0_row5\" class=\"row_heading level0 row5\" >lr</th>\n",
              "                        <td id=\"T_3f597_row5_col0\" class=\"data row5 col0\" >Logistic Regression</td>\n",
              "                        <td id=\"T_3f597_row5_col1\" class=\"data row5 col1\" >0.8672</td>\n",
              "                        <td id=\"T_3f597_row5_col2\" class=\"data row5 col2\" >0.9417</td>\n",
              "                        <td id=\"T_3f597_row5_col3\" class=\"data row5 col3\" >0.8279</td>\n",
              "                        <td id=\"T_3f597_row5_col4\" class=\"data row5 col4\" >0.8725</td>\n",
              "                        <td id=\"T_3f597_row5_col5\" class=\"data row5 col5\" >0.8496</td>\n",
              "                        <td id=\"T_3f597_row5_col6\" class=\"data row5 col6\" >0.7309</td>\n",
              "                        <td id=\"T_3f597_row5_col7\" class=\"data row5 col7\" >0.7318</td>\n",
              "                        <td id=\"T_3f597_row5_col8\" class=\"data row5 col8\" >23.1450</td>\n",
              "            </tr>\n",
              "            <tr>\n",
              "                        <th id=\"T_3f597_level0_row6\" class=\"row_heading level0 row6\" >svm</th>\n",
              "                        <td id=\"T_3f597_row6_col0\" class=\"data row6 col0\" >SVM - Linear Kernel</td>\n",
              "                        <td id=\"T_3f597_row6_col1\" class=\"data row6 col1\" >0.8661</td>\n",
              "                        <td id=\"T_3f597_row6_col2\" class=\"data row6 col2\" >0.0000</td>\n",
              "                        <td id=\"T_3f597_row6_col3\" class=\"data row6 col3\" >0.8317</td>\n",
              "                        <td id=\"T_3f597_row6_col4\" class=\"data row6 col4\" >0.8684</td>\n",
              "                        <td id=\"T_3f597_row6_col5\" class=\"data row6 col5\" >0.8489</td>\n",
              "                        <td id=\"T_3f597_row6_col6\" class=\"data row6 col6\" >0.7287</td>\n",
              "                        <td id=\"T_3f597_row6_col7\" class=\"data row6 col7\" >0.7303</td>\n",
              "                        <td id=\"T_3f597_row6_col8\" class=\"data row6 col8\" >0.8370</td>\n",
              "            </tr>\n",
              "            <tr>\n",
              "                        <th id=\"T_3f597_level0_row7\" class=\"row_heading level0 row7\" >ridge</th>\n",
              "                        <td id=\"T_3f597_row7_col0\" class=\"data row7 col0\" >Ridge Classifier</td>\n",
              "                        <td id=\"T_3f597_row7_col1\" class=\"data row7 col1\" >0.8604</td>\n",
              "                        <td id=\"T_3f597_row7_col2\" class=\"data row7 col2\" >0.0000</td>\n",
              "                        <td id=\"T_3f597_row7_col3\" class=\"data row7 col3\" >0.7946</td>\n",
              "                        <td id=\"T_3f597_row7_col4\" class=\"data row7 col4\" >0.8855</td>\n",
              "                        <td id=\"T_3f597_row7_col5\" class=\"data row7 col5\" >0.8375</td>\n",
              "                        <td id=\"T_3f597_row7_col6\" class=\"data row7 col6\" >0.7158</td>\n",
              "                        <td id=\"T_3f597_row7_col7\" class=\"data row7 col7\" >0.7191</td>\n",
              "                        <td id=\"T_3f597_row7_col8\" class=\"data row7 col8\" >0.6800</td>\n",
              "            </tr>\n",
              "            <tr>\n",
              "                        <th id=\"T_3f597_level0_row8\" class=\"row_heading level0 row8\" >gbc</th>\n",
              "                        <td id=\"T_3f597_row8_col0\" class=\"data row8 col0\" >Gradient Boosting Classifier</td>\n",
              "                        <td id=\"T_3f597_row8_col1\" class=\"data row8 col1\" >0.8339</td>\n",
              "                        <td id=\"T_3f597_row8_col2\" class=\"data row8 col2\" >0.9360</td>\n",
              "                        <td id=\"T_3f597_row8_col3\" class=\"data row8 col3\" >0.6864</td>\n",
              "                        <td id=\"T_3f597_row8_col4\" class=\"data row8 col4\" >0.9283</td>\n",
              "                        <td id=\"T_3f597_row8_col5\" class=\"data row8 col5\" >0.7891</td>\n",
              "                        <td id=\"T_3f597_row8_col6\" class=\"data row8 col6\" >0.6572</td>\n",
              "                        <td id=\"T_3f597_row8_col7\" class=\"data row8 col7\" >0.6777</td>\n",
              "                        <td id=\"T_3f597_row8_col8\" class=\"data row8 col8\" >6.8480</td>\n",
              "            </tr>\n",
              "            <tr>\n",
              "                        <th id=\"T_3f597_level0_row9\" class=\"row_heading level0 row9\" >ada</th>\n",
              "                        <td id=\"T_3f597_row9_col0\" class=\"data row9 col0\" >Ada Boost Classifier</td>\n",
              "                        <td id=\"T_3f597_row9_col1\" class=\"data row9 col1\" >0.8263</td>\n",
              "                        <td id=\"T_3f597_row9_col2\" class=\"data row9 col2\" >0.9103</td>\n",
              "                        <td id=\"T_3f597_row9_col3\" class=\"data row9 col3\" >0.7335</td>\n",
              "                        <td id=\"T_3f597_row9_col4\" class=\"data row9 col4\" >0.8629</td>\n",
              "                        <td id=\"T_3f597_row9_col5\" class=\"data row9 col5\" >0.7927</td>\n",
              "                        <td id=\"T_3f597_row9_col6\" class=\"data row9 col6\" >0.6450</td>\n",
              "                        <td id=\"T_3f597_row9_col7\" class=\"data row9 col7\" >0.6515</td>\n",
              "                        <td id=\"T_3f597_row9_col8\" class=\"data row9 col8\" >5.6610</td>\n",
              "            </tr>\n",
              "            <tr>\n",
              "                        <th id=\"T_3f597_level0_row10\" class=\"row_heading level0 row10\" >nb</th>\n",
              "                        <td id=\"T_3f597_row10_col0\" class=\"data row10 col0\" >Naive Bayes</td>\n",
              "                        <td id=\"T_3f597_row10_col1\" class=\"data row10 col1\" >0.7076</td>\n",
              "                        <td id=\"T_3f597_row10_col2\" class=\"data row10 col2\" >0.8842</td>\n",
              "                        <td id=\"T_3f597_row10_col3\" class=\"data row10 col3\" >0.3715</td>\n",
              "                        <td id=\"T_3f597_row10_col4\" class=\"data row10 col4\" >0.9559</td>\n",
              "                        <td id=\"T_3f597_row10_col5\" class=\"data row10 col5\" >0.5350</td>\n",
              "                        <td id=\"T_3f597_row10_col6\" class=\"data row10 col6\" >0.3772</td>\n",
              "                        <td id=\"T_3f597_row10_col7\" class=\"data row10 col7\" >0.4670</td>\n",
              "                        <td id=\"T_3f597_row10_col8\" class=\"data row10 col8\" >0.3830</td>\n",
              "            </tr>\n",
              "            <tr>\n",
              "                        <th id=\"T_3f597_level0_row11\" class=\"row_heading level0 row11\" >lda</th>\n",
              "                        <td id=\"T_3f597_row11_col0\" class=\"data row11 col0\" >Linear Discriminant Analysis</td>\n",
              "                        <td id=\"T_3f597_row11_col1\" class=\"data row11 col1\" >0.6886</td>\n",
              "                        <td id=\"T_3f597_row11_col2\" class=\"data row11 col2\" >0.7493</td>\n",
              "                        <td id=\"T_3f597_row11_col3\" class=\"data row11 col3\" >0.6365</td>\n",
              "                        <td id=\"T_3f597_row11_col4\" class=\"data row11 col4\" >0.7083</td>\n",
              "                        <td id=\"T_3f597_row11_col5\" class=\"data row11 col5\" >0.6705</td>\n",
              "                        <td id=\"T_3f597_row11_col6\" class=\"data row11 col6\" >0.5733</td>\n",
              "                        <td id=\"T_3f597_row11_col7\" class=\"data row11 col7\" >0.5759</td>\n",
              "                        <td id=\"T_3f597_row11_col8\" class=\"data row11 col8\" >3.5080</td>\n",
              "            </tr>\n",
              "            <tr>\n",
              "                        <th id=\"T_3f597_level0_row12\" class=\"row_heading level0 row12\" >qda</th>\n",
              "                        <td id=\"T_3f597_row12_col0\" class=\"data row12 col0\" >Quadratic Discriminant Analysis</td>\n",
              "                        <td id=\"T_3f597_row12_col1\" class=\"data row12 col1\" >0.6587</td>\n",
              "                        <td id=\"T_3f597_row12_col2\" class=\"data row12 col2\" >0.8120</td>\n",
              "                        <td id=\"T_3f597_row12_col3\" class=\"data row12 col3\" >0.2707</td>\n",
              "                        <td id=\"T_3f597_row12_col4\" class=\"data row12 col4\" >0.9255</td>\n",
              "                        <td id=\"T_3f597_row12_col5\" class=\"data row12 col5\" >0.4168</td>\n",
              "                        <td id=\"T_3f597_row12_col6\" class=\"data row12 col6\" >0.2666</td>\n",
              "                        <td id=\"T_3f597_row12_col7\" class=\"data row12 col7\" >0.3685</td>\n",
              "                        <td id=\"T_3f597_row12_col8\" class=\"data row12 col8\" >3.3940</td>\n",
              "            </tr>\n",
              "    </tbody></table>"
            ],
            "text/plain": [
              "<pandas.io.formats.style.Styler at 0x1d50668ef70>"
            ]
          },
          "metadata": {},
          "output_type": "display_data"
        }
      ]
    },
    {
      "cell_type": "code",
      "metadata": {
        "id": "f8N6A55d7ZUg",
        "outputId": "065655c9-ad5a-4603-896c-8df61eec5455"
      },
      "source": [
        "print(best_model)"
      ],
      "execution_count": null,
      "outputs": [
        {
          "name": "stdout",
          "output_type": "stream",
          "text": [
            "ExtraTreesClassifier(bootstrap=False, ccp_alpha=0.0, class_weight=None,\n",
            "                     criterion='gini', max_depth=None, max_features='auto',\n",
            "                     max_leaf_nodes=None, max_samples=None,\n",
            "                     min_impurity_decrease=0.0, min_impurity_split=None,\n",
            "                     min_samples_leaf=1, min_samples_split=2,\n",
            "                     min_weight_fraction_leaf=0.0, n_estimators=100, n_jobs=-1,\n",
            "                     oob_score=False, random_state=4331, verbose=0,\n",
            "                     warm_start=False)\n"
          ]
        }
      ]
    }
  ]
}

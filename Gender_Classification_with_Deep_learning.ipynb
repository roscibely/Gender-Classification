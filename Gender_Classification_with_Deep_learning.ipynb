{
  "nbformat": 4,
  "nbformat_minor": 0,
  "metadata": {
    "colab": {
      "name": " Gender Classification with Deep learning.ipynb",
      "provenance": [],
      "collapsed_sections": [],
      "authorship_tag": "ABX9TyOvXxSVHMD3V6SNq9bPUDQG",
      "include_colab_link": true
    },
    "kernelspec": {
      "name": "python3",
      "display_name": "Python 3"
    },
    "language_info": {
      "name": "python"
    }
  },
  "cells": [
    {
      "cell_type": "markdown",
      "metadata": {
        "id": "view-in-github",
        "colab_type": "text"
      },
      "source": [
        "<a href=\"https://colab.research.google.com/github/roscibely/Gender-Classification/blob/main/Gender_Classification_with_Deep_learning.ipynb\" target=\"_parent\"><img src=\"https://colab.research.google.com/assets/colab-badge.svg\" alt=\"Open In Colab\"/></a>"
      ]
    },
    {
      "cell_type": "markdown",
      "metadata": {
        "id": "yCahbBEsMCSJ"
      },
      "source": [
        "# 1. Gender Classification Using Deep Learning\n",
        "\n",
        "\n",
        "Link to our paper: https://www.overleaf.com/read/wycykmrpfhtw"
      ]
    },
    {
      "cell_type": "markdown",
      "metadata": {
        "id": "KENlSnN4ftje"
      },
      "source": [
        "## 1.1 Necessary libraries"
      ]
    },
    {
      "cell_type": "code",
      "metadata": {
        "id": "TEHtFf75L2bP"
      },
      "source": [
        "import pandas as pd                       # structures and data analysis\n",
        "import numpy as np\n",
        "from tensorflow import keras\n",
        "from keras.layers import Dense, Dropout, Flatten, GRU, SimpleRNN, LSTM, Bidirectional, Activation, TimeDistributed\n",
        "from keras.layers.convolutional import Conv1D, MaxPooling1D\n",
        "from sklearn.model_selection import train_test_split\n",
        "from tensorflow.keras import layers\n",
        "from tensorflow.keras.regularizers import l2"
      ],
      "execution_count": 2,
      "outputs": []
    },
    {
      "cell_type": "markdown",
      "metadata": {
        "id": "C4n2Osouf2vD"
      },
      "source": [
        "## 1.2 Download the dataset"
      ]
    },
    {
      "cell_type": "code",
      "metadata": {
        "colab": {
          "base_uri": "https://localhost:8080/",
          "height": 224
        },
        "id": "j3e-YoOWO9hE",
        "outputId": "79385b7f-f281-424b-fc94-68b61d34b35e"
      },
      "source": [
        "import requests\n",
        "url = \"https://data.brasil.io/dataset/genero-nomes/nomes.csv.gz\"\n",
        "filename = url.split(\"/\")[-1]\n",
        "with open(filename, \"wb\") as f:\n",
        "    r = requests.get(url)\n",
        "    f.write(r.content)\n",
        "\n",
        "df = pd.read_csv('nomes.csv.gz') \n",
        "df.head()"
      ],
      "execution_count": 3,
      "outputs": [
        {
          "output_type": "execute_result",
          "data": {
            "text/html": [
              "<div>\n",
              "<style scoped>\n",
              "    .dataframe tbody tr th:only-of-type {\n",
              "        vertical-align: middle;\n",
              "    }\n",
              "\n",
              "    .dataframe tbody tr th {\n",
              "        vertical-align: top;\n",
              "    }\n",
              "\n",
              "    .dataframe thead th {\n",
              "        text-align: right;\n",
              "    }\n",
              "</style>\n",
              "<table border=\"1\" class=\"dataframe\">\n",
              "  <thead>\n",
              "    <tr style=\"text-align: right;\">\n",
              "      <th></th>\n",
              "      <th>alternative_names</th>\n",
              "      <th>classification</th>\n",
              "      <th>first_name</th>\n",
              "      <th>frequency_female</th>\n",
              "      <th>frequency_male</th>\n",
              "      <th>frequency_total</th>\n",
              "      <th>frequency_group</th>\n",
              "      <th>group_name</th>\n",
              "      <th>ratio</th>\n",
              "    </tr>\n",
              "  </thead>\n",
              "  <tbody>\n",
              "    <tr>\n",
              "      <th>0</th>\n",
              "      <td>AILINE|ALEINE|ALIINE|ALINE|ALINER|ALINHE|ALINN...</td>\n",
              "      <td>F</td>\n",
              "      <td>AALINE</td>\n",
              "      <td>66.0</td>\n",
              "      <td>NaN</td>\n",
              "      <td>66</td>\n",
              "      <td>530550</td>\n",
              "      <td>ALINE</td>\n",
              "      <td>1.0</td>\n",
              "    </tr>\n",
              "    <tr>\n",
              "      <th>1</th>\n",
              "      <td>ARAAO|ARAO</td>\n",
              "      <td>M</td>\n",
              "      <td>AARAO</td>\n",
              "      <td>NaN</td>\n",
              "      <td>281.0</td>\n",
              "      <td>281</td>\n",
              "      <td>3526</td>\n",
              "      <td>ARAO</td>\n",
              "      <td>1.0</td>\n",
              "    </tr>\n",
              "    <tr>\n",
              "      <th>2</th>\n",
              "      <td>AHARON|AROM|ARON|ARYON|HARON</td>\n",
              "      <td>M</td>\n",
              "      <td>AARON</td>\n",
              "      <td>NaN</td>\n",
              "      <td>676.0</td>\n",
              "      <td>676</td>\n",
              "      <td>3442</td>\n",
              "      <td>ARON</td>\n",
              "      <td>1.0</td>\n",
              "    </tr>\n",
              "    <tr>\n",
              "      <th>3</th>\n",
              "      <td>ADA|ADAH|ADAR|ADHA|HADA</td>\n",
              "      <td>F</td>\n",
              "      <td>ABA</td>\n",
              "      <td>82.0</td>\n",
              "      <td>NaN</td>\n",
              "      <td>82</td>\n",
              "      <td>5583</td>\n",
              "      <td>ADA</td>\n",
              "      <td>1.0</td>\n",
              "    </tr>\n",
              "    <tr>\n",
              "      <th>4</th>\n",
              "      <td>NaN</td>\n",
              "      <td>M</td>\n",
              "      <td>ABADE</td>\n",
              "      <td>NaN</td>\n",
              "      <td>57.0</td>\n",
              "      <td>57</td>\n",
              "      <td>57</td>\n",
              "      <td>ABADE</td>\n",
              "      <td>1.0</td>\n",
              "    </tr>\n",
              "  </tbody>\n",
              "</table>\n",
              "</div>"
            ],
            "text/plain": [
              "                                   alternative_names  ... ratio\n",
              "0  AILINE|ALEINE|ALIINE|ALINE|ALINER|ALINHE|ALINN...  ...   1.0\n",
              "1                                         ARAAO|ARAO  ...   1.0\n",
              "2                       AHARON|AROM|ARON|ARYON|HARON  ...   1.0\n",
              "3                            ADA|ADAH|ADAR|ADHA|HADA  ...   1.0\n",
              "4                                                NaN  ...   1.0\n",
              "\n",
              "[5 rows x 9 columns]"
            ]
          },
          "metadata": {
            "tags": []
          },
          "execution_count": 3
        }
      ]
    },
    {
      "cell_type": "code",
      "metadata": {
        "colab": {
          "base_uri": "https://localhost:8080/"
        },
        "id": "E_N6fZ4JbXFm",
        "outputId": "77d7fc75-f1ce-4d26-ef8e-cdb0c8ea1891"
      },
      "source": [
        "df.info()"
      ],
      "execution_count": 4,
      "outputs": [
        {
          "output_type": "stream",
          "text": [
            "<class 'pandas.core.frame.DataFrame'>\n",
            "RangeIndex: 100787 entries, 0 to 100786\n",
            "Data columns (total 9 columns):\n",
            " #   Column             Non-Null Count   Dtype  \n",
            "---  ------             --------------   -----  \n",
            " 0   alternative_names  70745 non-null   object \n",
            " 1   classification     100787 non-null  object \n",
            " 2   first_name         100787 non-null  object \n",
            " 3   frequency_female   60484 non-null   float64\n",
            " 4   frequency_male     50932 non-null   float64\n",
            " 5   frequency_total    100787 non-null  int64  \n",
            " 6   frequency_group    100787 non-null  int64  \n",
            " 7   group_name         100787 non-null  object \n",
            " 8   ratio              100787 non-null  float64\n",
            "dtypes: float64(3), int64(2), object(4)\n",
            "memory usage: 6.9+ MB\n"
          ],
          "name": "stdout"
        }
      ]
    },
    {
      "cell_type": "code",
      "metadata": {
        "colab": {
          "base_uri": "https://localhost:8080/",
          "height": 297
        },
        "id": "rHClJ-pnbax6",
        "outputId": "9a216956-5a33-4212-f489-72d03e017ada"
      },
      "source": [
        "df.describe()"
      ],
      "execution_count": 5,
      "outputs": [
        {
          "output_type": "execute_result",
          "data": {
            "text/html": [
              "<div>\n",
              "<style scoped>\n",
              "    .dataframe tbody tr th:only-of-type {\n",
              "        vertical-align: middle;\n",
              "    }\n",
              "\n",
              "    .dataframe tbody tr th {\n",
              "        vertical-align: top;\n",
              "    }\n",
              "\n",
              "    .dataframe thead th {\n",
              "        text-align: right;\n",
              "    }\n",
              "</style>\n",
              "<table border=\"1\" class=\"dataframe\">\n",
              "  <thead>\n",
              "    <tr style=\"text-align: right;\">\n",
              "      <th></th>\n",
              "      <th>frequency_female</th>\n",
              "      <th>frequency_male</th>\n",
              "      <th>frequency_total</th>\n",
              "      <th>frequency_group</th>\n",
              "      <th>ratio</th>\n",
              "    </tr>\n",
              "  </thead>\n",
              "  <tbody>\n",
              "    <tr>\n",
              "      <th>count</th>\n",
              "      <td>6.048400e+04</td>\n",
              "      <td>5.093200e+04</td>\n",
              "      <td>1.007870e+05</td>\n",
              "      <td>1.007870e+05</td>\n",
              "      <td>100787.000000</td>\n",
              "    </tr>\n",
              "    <tr>\n",
              "      <th>mean</th>\n",
              "      <td>1.529848e+03</td>\n",
              "      <td>1.740660e+03</td>\n",
              "      <td>1.797718e+03</td>\n",
              "      <td>1.766752e+04</td>\n",
              "      <td>0.981382</td>\n",
              "    </tr>\n",
              "    <tr>\n",
              "      <th>std</th>\n",
              "      <td>5.116376e+04</td>\n",
              "      <td>3.856265e+04</td>\n",
              "      <td>4.837138e+04</td>\n",
              "      <td>1.783261e+05</td>\n",
              "      <td>0.076555</td>\n",
              "    </tr>\n",
              "    <tr>\n",
              "      <th>min</th>\n",
              "      <td>2.000000e+01</td>\n",
              "      <td>2.000000e+01</td>\n",
              "      <td>2.000000e+01</td>\n",
              "      <td>2.000000e+01</td>\n",
              "      <td>0.500000</td>\n",
              "    </tr>\n",
              "    <tr>\n",
              "      <th>25%</th>\n",
              "      <td>3.200000e+01</td>\n",
              "      <td>3.200000e+01</td>\n",
              "      <td>3.300000e+01</td>\n",
              "      <td>8.900000e+01</td>\n",
              "      <td>1.000000</td>\n",
              "    </tr>\n",
              "    <tr>\n",
              "      <th>50%</th>\n",
              "      <td>6.300000e+01</td>\n",
              "      <td>6.200000e+01</td>\n",
              "      <td>6.700000e+01</td>\n",
              "      <td>3.520000e+02</td>\n",
              "      <td>1.000000</td>\n",
              "    </tr>\n",
              "    <tr>\n",
              "      <th>75%</th>\n",
              "      <td>1.790000e+02</td>\n",
              "      <td>1.770000e+02</td>\n",
              "      <td>1.970000e+02</td>\n",
              "      <td>2.254000e+03</td>\n",
              "      <td>1.000000</td>\n",
              "    </tr>\n",
              "    <tr>\n",
              "      <th>max</th>\n",
              "      <td>1.169474e+07</td>\n",
              "      <td>5.732508e+06</td>\n",
              "      <td>1.173413e+07</td>\n",
              "      <td>1.174166e+07</td>\n",
              "      <td>1.000000</td>\n",
              "    </tr>\n",
              "  </tbody>\n",
              "</table>\n",
              "</div>"
            ],
            "text/plain": [
              "       frequency_female  frequency_male  ...  frequency_group          ratio\n",
              "count      6.048400e+04    5.093200e+04  ...     1.007870e+05  100787.000000\n",
              "mean       1.529848e+03    1.740660e+03  ...     1.766752e+04       0.981382\n",
              "std        5.116376e+04    3.856265e+04  ...     1.783261e+05       0.076555\n",
              "min        2.000000e+01    2.000000e+01  ...     2.000000e+01       0.500000\n",
              "25%        3.200000e+01    3.200000e+01  ...     8.900000e+01       1.000000\n",
              "50%        6.300000e+01    6.200000e+01  ...     3.520000e+02       1.000000\n",
              "75%        1.790000e+02    1.770000e+02  ...     2.254000e+03       1.000000\n",
              "max        1.169474e+07    5.732508e+06  ...     1.174166e+07       1.000000\n",
              "\n",
              "[8 rows x 5 columns]"
            ]
          },
          "metadata": {
            "tags": []
          },
          "execution_count": 5
        }
      ]
    },
    {
      "cell_type": "markdown",
      "metadata": {
        "id": "WzVdVCUKRKCQ"
      },
      "source": [
        "### 1.2.1 Preparing the data "
      ]
    },
    {
      "cell_type": "code",
      "metadata": {
        "id": "Oh_6bEAWbgqT"
      },
      "source": [
        "y = df['classification'].astype(\"category\").cat.codes.values    # y labels into numbers 0 is F and 1 is M\n",
        "names = df['first_name'].apply(lambda x: x.lower())             # input names"
      ],
      "execution_count": 6,
      "outputs": []
    },
    {
      "cell_type": "markdown",
      "metadata": {
        "id": "unV-k__Lgb0E"
      },
      "source": [
        "## 1.3 Encoding Words\n",
        "\n",
        "Neural networks can only learn to find patterns in numerical data, so it is necessary to convert our data into numeric values with word encoding or tokenization. "
      ]
    },
    {
      "cell_type": "code",
      "metadata": {
        "colab": {
          "base_uri": "https://localhost:8080/"
        },
        "id": "8zNIym5uBmHS",
        "outputId": "ebd637e6-8442-4415-d149-be13b7c34543"
      },
      "source": [
        "#word encoding\n",
        "maxlen = 20                                               # max lenght of a name\n",
        "\n",
        "'''Define a vocabulary which corresponds to all the unique letters encountered'''\n",
        "vocab = set(' '.join([str(i) for i in names]))            # creating a vocab\n",
        "vocab.add('END')\n",
        "len_vocab = len(vocab)\n",
        "\n",
        "char_index = dict((c, i) for i, c in enumerate(vocab))    # creating a dictionary\n",
        "''' The dictionary maps each letter of vocabulary to a number '''\n",
        "\n",
        "# Builds an empty line with a 1 at the index of character\n",
        "def set_flag(i):\n",
        "    aux = np.zeros(len_vocab);\n",
        "    aux[i] = 1\n",
        "    return list(aux)\n",
        "\n",
        "# Truncate names and create the matrix\n",
        "def prepare_encod_names(X):\n",
        "    vec_names = []\n",
        "    trunc_name = [str(i)[0:maxlen] for i in X]  # consider only the first 20 characters\n",
        "    for i in trunc_name:\n",
        "        tmp = [set_flag(char_index[j]) for j in str(i)]\n",
        "        for k in range(0,maxlen - len(str(i))):\n",
        "            tmp.append(set_flag(char_index[\"END\"]))\n",
        "        vec_names.append(tmp)\n",
        "    return vec_names\n",
        "\n",
        "'''This is called one-hot-encoder and is based on the following papers: \n",
        "https://arxiv.org/abs/1707.07129 : Predicting the gender of Indonesian names\n",
        "https://ieeexplore.ieee.org/document/8560790 : Advance Gender Prediction Tool...\n",
        " '''\n",
        "char_index"
      ],
      "execution_count": 7,
      "outputs": [
        {
          "output_type": "execute_result",
          "data": {
            "text/plain": [
              "{' ': 8,\n",
              " 'END': 25,\n",
              " 'a': 3,\n",
              " 'b': 12,\n",
              " 'c': 18,\n",
              " 'd': 2,\n",
              " 'e': 26,\n",
              " 'f': 21,\n",
              " 'g': 19,\n",
              " 'h': 13,\n",
              " 'i': 9,\n",
              " 'j': 7,\n",
              " 'k': 24,\n",
              " 'l': 17,\n",
              " 'm': 14,\n",
              " 'n': 1,\n",
              " 'o': 27,\n",
              " 'p': 10,\n",
              " 'q': 22,\n",
              " 'r': 4,\n",
              " 's': 20,\n",
              " 't': 5,\n",
              " 'u': 11,\n",
              " 'v': 23,\n",
              " 'w': 0,\n",
              " 'x': 16,\n",
              " 'y': 15,\n",
              " 'z': 6}"
            ]
          },
          "metadata": {
            "tags": []
          },
          "execution_count": 7
        }
      ]
    },
    {
      "cell_type": "code",
      "metadata": {
        "id": "7pNJbOIUeqFf"
      },
      "source": [
        "x = prepare_encod_names(names.values)   # Now the names are encod as a vector of numbers with weight"
      ],
      "execution_count": 8,
      "outputs": []
    },
    {
      "cell_type": "markdown",
      "metadata": {
        "id": "FXl0jak5hfeW"
      },
      "source": [
        "## 1.4 Split the data into test and train"
      ]
    },
    {
      "cell_type": "code",
      "metadata": {
        "id": "23kNSk8pb_W1"
      },
      "source": [
        "# train, val, test set will be 60%, 20%, 20% of the dataset respectively\n",
        "x_train, x_test, y_train, y_test = train_test_split(x, y, test_size=0.2, random_state=28)\n",
        "x_train, x_val, y_train, y_val = train_test_split(x_train, y_train, test_size=0.25, random_state=40)\n",
        "\n",
        "x_train = np.asarray(x_train)\n",
        "y_train = np.asarray(y_train)\n",
        "x_test = np.asarray(x_test)\n",
        "y_test = np.asarray(y_test)\n",
        "x_val = np.asarray(x_val)\n",
        "y_val = np.asarray(y_val)"
      ],
      "execution_count": 9,
      "outputs": []
    },
    {
      "cell_type": "markdown",
      "metadata": {
        "id": "cdG3or3Jhqle"
      },
      "source": [
        "## 1.5 Building the CNN Model"
      ]
    },
    {
      "cell_type": "code",
      "metadata": {
        "id": "o_NSKAuiMh0p",
        "colab": {
          "base_uri": "https://localhost:8080/"
        },
        "outputId": "556e81ad-dbee-4bbc-8146-39623c40a42b"
      },
      "source": [
        "# initilaizing the Sequential nature for CNN model\n",
        "CNNmodel = keras.Sequential()  \n",
        "# 32 convolution filters used each of size 2\n",
        "CNNmodel.add(Conv1D(32, 2, activation='relu', input_shape=(20,28) ))\n",
        "# 64 convolution filters used each of size 3\n",
        "CNNmodel.add(Conv1D(64, 3, activation='relu' ))\n",
        "# choose the best features via pooling\n",
        "CNNmodel.add(MaxPooling1D(pool_size=(1,)))\n",
        "# randomly turn neurons on and off to improve convergence\n",
        "CNNmodel.add(Dropout(0.25))\n",
        "# flatten we only want a classification output\n",
        "CNNmodel.add(Flatten())\n",
        "# fully connected to get all relevant data\n",
        "CNNmodel.add(Dense(150, activation='relu'))\n",
        "# one more dropout\n",
        "CNNmodel.add(Dropout(0.1))\n",
        "# output \n",
        "CNNmodel.add(Dense(1, activation='sigmoid'))\n",
        "\n",
        "lr_schedule = keras.optimizers.schedules.ExponentialDecay(\n",
        "    initial_learning_rate=1e-2,\n",
        "    decay_steps=10000,\n",
        "    decay_rate=0.9)\n",
        "opt = keras.optimizers.Adagrad(learning_rate=lr_schedule)\n",
        "CNNmodel.compile(loss='binary_crossentropy', optimizer=opt, metrics=['accuracy'])\n",
        "\n",
        "CNNhistory = CNNmodel.fit(x_train, y_train, validation_data=(x_val, y_val),  epochs=20, batch_size=128) # Getting score metrics\n",
        "scores = CNNmodel.evaluate(x_test, y_test) \n",
        "print(\"Accuracy: %.2f%%\" % (scores[1]*100))"
      ],
      "execution_count": 10,
      "outputs": [
        {
          "output_type": "stream",
          "text": [
            "Epoch 1/20\n",
            "473/473 [==============================] - 8s 15ms/step - loss: 0.6731 - accuracy: 0.5755 - val_loss: 0.4593 - val_accuracy: 0.8234\n",
            "Epoch 2/20\n",
            "473/473 [==============================] - 7s 15ms/step - loss: 0.3969 - accuracy: 0.8261 - val_loss: 0.2976 - val_accuracy: 0.8700\n",
            "Epoch 3/20\n",
            "473/473 [==============================] - 7s 14ms/step - loss: 0.2980 - accuracy: 0.8686 - val_loss: 0.2760 - val_accuracy: 0.8823\n",
            "Epoch 4/20\n",
            "473/473 [==============================] - 7s 14ms/step - loss: 0.2731 - accuracy: 0.8805 - val_loss: 0.2493 - val_accuracy: 0.8959\n",
            "Epoch 5/20\n",
            "473/473 [==============================] - 6s 14ms/step - loss: 0.2536 - accuracy: 0.8925 - val_loss: 0.2545 - val_accuracy: 0.8914\n",
            "Epoch 6/20\n",
            "473/473 [==============================] - 6s 14ms/step - loss: 0.2467 - accuracy: 0.8971 - val_loss: 0.2315 - val_accuracy: 0.9069\n",
            "Epoch 7/20\n",
            "473/473 [==============================] - 6s 14ms/step - loss: 0.2379 - accuracy: 0.9014 - val_loss: 0.2337 - val_accuracy: 0.9066\n",
            "Epoch 8/20\n",
            "473/473 [==============================] - 7s 14ms/step - loss: 0.2312 - accuracy: 0.9049 - val_loss: 0.2209 - val_accuracy: 0.9124\n",
            "Epoch 9/20\n",
            "473/473 [==============================] - 7s 14ms/step - loss: 0.2250 - accuracy: 0.9079 - val_loss: 0.2250 - val_accuracy: 0.9111\n",
            "Epoch 10/20\n",
            "473/473 [==============================] - 7s 14ms/step - loss: 0.2167 - accuracy: 0.9123 - val_loss: 0.2137 - val_accuracy: 0.9159\n",
            "Epoch 11/20\n",
            "473/473 [==============================] - 7s 14ms/step - loss: 0.2120 - accuracy: 0.9168 - val_loss: 0.2101 - val_accuracy: 0.9178\n",
            "Epoch 12/20\n",
            "473/473 [==============================] - 7s 14ms/step - loss: 0.2104 - accuracy: 0.9167 - val_loss: 0.2112 - val_accuracy: 0.9176\n",
            "Epoch 13/20\n",
            "473/473 [==============================] - 7s 14ms/step - loss: 0.2094 - accuracy: 0.9163 - val_loss: 0.2054 - val_accuracy: 0.9203\n",
            "Epoch 14/20\n",
            "473/473 [==============================] - 7s 14ms/step - loss: 0.2082 - accuracy: 0.9182 - val_loss: 0.2061 - val_accuracy: 0.9203\n",
            "Epoch 15/20\n",
            "473/473 [==============================] - 7s 14ms/step - loss: 0.2020 - accuracy: 0.9205 - val_loss: 0.2133 - val_accuracy: 0.9149\n",
            "Epoch 16/20\n",
            "473/473 [==============================] - 7s 15ms/step - loss: 0.2020 - accuracy: 0.9200 - val_loss: 0.2008 - val_accuracy: 0.9218\n",
            "Epoch 17/20\n",
            "473/473 [==============================] - 7s 14ms/step - loss: 0.1993 - accuracy: 0.9221 - val_loss: 0.1995 - val_accuracy: 0.9221\n",
            "Epoch 18/20\n",
            "473/473 [==============================] - 7s 14ms/step - loss: 0.1969 - accuracy: 0.9229 - val_loss: 0.1978 - val_accuracy: 0.9235\n",
            "Epoch 19/20\n",
            "473/473 [==============================] - 7s 14ms/step - loss: 0.1975 - accuracy: 0.9236 - val_loss: 0.1973 - val_accuracy: 0.9241\n",
            "Epoch 20/20\n",
            "473/473 [==============================] - 7s 14ms/step - loss: 0.1924 - accuracy: 0.9244 - val_loss: 0.2001 - val_accuracy: 0.9231\n",
            "630/630 [==============================] - 1s 2ms/step - loss: 0.1950 - accuracy: 0.9228\n",
            "Accuracy: 92.28%\n"
          ],
          "name": "stdout"
        }
      ]
    },
    {
      "cell_type": "markdown",
      "metadata": {
        "id": "c0WiWfu32ytT"
      },
      "source": [
        "## 1.6 Building the RNN Model"
      ]
    },
    {
      "cell_type": "code",
      "metadata": {
        "colab": {
          "base_uri": "https://localhost:8080/"
        },
        "id": "zwwNwnTmaY4i",
        "outputId": "967f8762-363d-4d75-fc6c-3bd8ad2a6b15"
      },
      "source": [
        "RNNmodel=keras.Sequential()\n",
        "RNNmodel.add(SimpleRNN(32, input_shape=(x_train.shape[1],x_train.shape[2]), activation='tanh', return_sequences=True))\n",
        "RNNmodel.add(TimeDistributed(Dense(1))) \n",
        "RNNmodel.add(Flatten())\n",
        "RNNmodel.add(Dense(1, activation='sigmoid'))\n",
        "\n",
        "lr_schedule = keras.optimizers.schedules.ExponentialDecay(\n",
        "    initial_learning_rate=1e-2,\n",
        "    decay_steps=10000,\n",
        "    decay_rate=0.9)\n",
        "opt = keras.optimizers.Adam(learning_rate=lr_schedule)\n",
        "RNNmodel.compile(loss='binary_crossentropy', optimizer=opt, metrics=['accuracy'])\n",
        "\n",
        "RNNhistory=RNNmodel.fit(x_train, y_train , epochs=20, batch_size=128, validation_data=(x_val,y_val))\n",
        "RNNscores = RNNmodel.evaluate(x_test, y_test) \n",
        "print(\"Accuracy: %.2f%%\" % (RNNscores[1]*100))"
      ],
      "execution_count": 11,
      "outputs": [
        {
          "output_type": "stream",
          "text": [
            "Epoch 1/20\n",
            "473/473 [==============================] - 4s 7ms/step - loss: 0.3782 - accuracy: 0.8134 - val_loss: 0.2275 - val_accuracy: 0.9111\n",
            "Epoch 2/20\n",
            "473/473 [==============================] - 3s 6ms/step - loss: 0.2080 - accuracy: 0.9184 - val_loss: 0.1917 - val_accuracy: 0.9240\n",
            "Epoch 3/20\n",
            "473/473 [==============================] - 3s 6ms/step - loss: 0.1981 - accuracy: 0.9215 - val_loss: 0.1963 - val_accuracy: 0.9239\n",
            "Epoch 4/20\n",
            "473/473 [==============================] - 3s 6ms/step - loss: 0.1875 - accuracy: 0.9274 - val_loss: 0.1871 - val_accuracy: 0.9275\n",
            "Epoch 5/20\n",
            "473/473 [==============================] - 3s 6ms/step - loss: 0.1804 - accuracy: 0.9294 - val_loss: 0.1974 - val_accuracy: 0.9237\n",
            "Epoch 6/20\n",
            "473/473 [==============================] - 3s 7ms/step - loss: 0.1822 - accuracy: 0.9280 - val_loss: 0.1884 - val_accuracy: 0.9302\n",
            "Epoch 7/20\n",
            "473/473 [==============================] - 3s 6ms/step - loss: 0.1713 - accuracy: 0.9325 - val_loss: 0.1813 - val_accuracy: 0.9281\n",
            "Epoch 8/20\n",
            "473/473 [==============================] - 3s 6ms/step - loss: 0.1676 - accuracy: 0.9376 - val_loss: 0.1825 - val_accuracy: 0.9284\n",
            "Epoch 9/20\n",
            "473/473 [==============================] - 3s 6ms/step - loss: 0.1612 - accuracy: 0.9379 - val_loss: 0.1752 - val_accuracy: 0.9320\n",
            "Epoch 10/20\n",
            "473/473 [==============================] - 3s 6ms/step - loss: 0.1671 - accuracy: 0.9351 - val_loss: 0.1845 - val_accuracy: 0.9316\n",
            "Epoch 11/20\n",
            "473/473 [==============================] - 3s 6ms/step - loss: 0.1588 - accuracy: 0.9402 - val_loss: 0.1773 - val_accuracy: 0.9306\n",
            "Epoch 12/20\n",
            "473/473 [==============================] - 3s 6ms/step - loss: 0.1586 - accuracy: 0.9389 - val_loss: 0.1716 - val_accuracy: 0.9349\n",
            "Epoch 13/20\n",
            "473/473 [==============================] - 3s 7ms/step - loss: 0.1559 - accuracy: 0.9399 - val_loss: 0.1721 - val_accuracy: 0.9327\n",
            "Epoch 14/20\n",
            "473/473 [==============================] - 3s 6ms/step - loss: 0.1587 - accuracy: 0.9402 - val_loss: 0.1749 - val_accuracy: 0.9333\n",
            "Epoch 15/20\n",
            "473/473 [==============================] - 3s 6ms/step - loss: 0.1530 - accuracy: 0.9420 - val_loss: 0.1715 - val_accuracy: 0.9339\n",
            "Epoch 16/20\n",
            "473/473 [==============================] - 3s 6ms/step - loss: 0.1543 - accuracy: 0.9411 - val_loss: 0.1755 - val_accuracy: 0.9335\n",
            "Epoch 17/20\n",
            "473/473 [==============================] - 3s 6ms/step - loss: 0.1520 - accuracy: 0.9428 - val_loss: 0.1780 - val_accuracy: 0.9326\n",
            "Epoch 18/20\n",
            "473/473 [==============================] - 3s 6ms/step - loss: 0.1521 - accuracy: 0.9429 - val_loss: 0.1684 - val_accuracy: 0.9369\n",
            "Epoch 19/20\n",
            "473/473 [==============================] - 3s 6ms/step - loss: 0.1523 - accuracy: 0.9420 - val_loss: 0.1708 - val_accuracy: 0.9341\n",
            "Epoch 20/20\n",
            "473/473 [==============================] - 3s 6ms/step - loss: 0.1531 - accuracy: 0.9419 - val_loss: 0.1711 - val_accuracy: 0.9349\n",
            "630/630 [==============================] - 1s 2ms/step - loss: 0.1696 - accuracy: 0.9361\n",
            "Accuracy: 93.61%\n"
          ],
          "name": "stdout"
        }
      ]
    },
    {
      "cell_type": "markdown",
      "metadata": {
        "id": "4ihfBuKG22KE"
      },
      "source": [
        "## 1.7 Building the GRU Model"
      ]
    },
    {
      "cell_type": "code",
      "metadata": {
        "colab": {
          "base_uri": "https://localhost:8080/"
        },
        "id": "uG-syJZFcEHD",
        "outputId": "9bb7ce4e-2ec6-487b-b874-d2f91dc8dfb9"
      },
      "source": [
        "GRUmodel=keras.Sequential()\n",
        "GRUmodel.add(GRU(32, input_shape=(x_train.shape[1],x_train.shape[2]),activation='tanh', return_sequences=True))\n",
        "GRUmodel.add(TimeDistributed(Dense(1))) \n",
        "GRUmodel.add(Flatten())\n",
        "GRUmodel.add(Dense(1, activation='sigmoid'))\n",
        "\n",
        "lr_schedule = keras.optimizers.schedules.ExponentialDecay(\n",
        "    initial_learning_rate=1e-2,\n",
        "    decay_steps=10000,\n",
        "    decay_rate=0.9)\n",
        "opt = keras.optimizers.Adam(learning_rate=lr_schedule)\n",
        "GRUmodel.compile(loss='binary_crossentropy', optimizer=opt, metrics=['accuracy'])\n",
        "\n",
        "\n",
        "GRUhistory=GRUmodel.fit(x_train, y_train , epochs=20, batch_size=128, validation_data=(x_val,y_val))\n",
        "GRUscores = GRUmodel.evaluate(x_test, y_test) \n",
        "print(\"Accuracy: %.2f%%\" % (GRUscores[1]*100))  "
      ],
      "execution_count": 12,
      "outputs": [
        {
          "output_type": "stream",
          "text": [
            "Epoch 1/20\n",
            "473/473 [==============================] - 8s 14ms/step - loss: 0.3468 - accuracy: 0.8255 - val_loss: 0.1881 - val_accuracy: 0.9250\n",
            "Epoch 2/20\n",
            "473/473 [==============================] - 6s 12ms/step - loss: 0.1715 - accuracy: 0.9338 - val_loss: 0.1691 - val_accuracy: 0.9348\n",
            "Epoch 3/20\n",
            "473/473 [==============================] - 6s 12ms/step - loss: 0.1510 - accuracy: 0.9428 - val_loss: 0.1543 - val_accuracy: 0.9394\n",
            "Epoch 4/20\n",
            "473/473 [==============================] - 6s 13ms/step - loss: 0.1340 - accuracy: 0.9489 - val_loss: 0.1590 - val_accuracy: 0.9390\n",
            "Epoch 5/20\n",
            "473/473 [==============================] - 6s 13ms/step - loss: 0.1245 - accuracy: 0.9523 - val_loss: 0.1449 - val_accuracy: 0.9433\n",
            "Epoch 6/20\n",
            "473/473 [==============================] - 6s 13ms/step - loss: 0.1186 - accuracy: 0.9553 - val_loss: 0.1407 - val_accuracy: 0.9462\n",
            "Epoch 7/20\n",
            "473/473 [==============================] - 6s 13ms/step - loss: 0.1113 - accuracy: 0.9579 - val_loss: 0.1486 - val_accuracy: 0.9467\n",
            "Epoch 8/20\n",
            "473/473 [==============================] - 6s 13ms/step - loss: 0.1105 - accuracy: 0.9587 - val_loss: 0.1429 - val_accuracy: 0.9470\n",
            "Epoch 9/20\n",
            "473/473 [==============================] - 6s 13ms/step - loss: 0.0972 - accuracy: 0.9633 - val_loss: 0.1379 - val_accuracy: 0.9474\n",
            "Epoch 10/20\n",
            "473/473 [==============================] - 6s 13ms/step - loss: 0.0996 - accuracy: 0.9623 - val_loss: 0.1377 - val_accuracy: 0.9489\n",
            "Epoch 11/20\n",
            "473/473 [==============================] - 6s 13ms/step - loss: 0.0923 - accuracy: 0.9655 - val_loss: 0.1401 - val_accuracy: 0.9484\n",
            "Epoch 12/20\n",
            "473/473 [==============================] - 6s 13ms/step - loss: 0.0911 - accuracy: 0.9653 - val_loss: 0.1396 - val_accuracy: 0.9468\n",
            "Epoch 13/20\n",
            "473/473 [==============================] - 6s 13ms/step - loss: 0.0897 - accuracy: 0.9662 - val_loss: 0.1405 - val_accuracy: 0.9484\n",
            "Epoch 14/20\n",
            "473/473 [==============================] - 6s 13ms/step - loss: 0.0862 - accuracy: 0.9678 - val_loss: 0.1429 - val_accuracy: 0.9471\n",
            "Epoch 15/20\n",
            "473/473 [==============================] - 6s 13ms/step - loss: 0.0839 - accuracy: 0.9695 - val_loss: 0.1505 - val_accuracy: 0.9470\n",
            "Epoch 16/20\n",
            "473/473 [==============================] - 6s 13ms/step - loss: 0.0829 - accuracy: 0.9689 - val_loss: 0.1470 - val_accuracy: 0.9461\n",
            "Epoch 17/20\n",
            "473/473 [==============================] - 6s 13ms/step - loss: 0.0825 - accuracy: 0.9699 - val_loss: 0.1551 - val_accuracy: 0.9473\n",
            "Epoch 18/20\n",
            "473/473 [==============================] - 6s 13ms/step - loss: 0.0769 - accuracy: 0.9716 - val_loss: 0.1510 - val_accuracy: 0.9459\n",
            "Epoch 19/20\n",
            "473/473 [==============================] - 6s 13ms/step - loss: 0.0800 - accuracy: 0.9692 - val_loss: 0.1573 - val_accuracy: 0.9459\n",
            "Epoch 20/20\n",
            "473/473 [==============================] - 6s 13ms/step - loss: 0.0753 - accuracy: 0.9719 - val_loss: 0.1571 - val_accuracy: 0.9459\n",
            "630/630 [==============================] - 1s 2ms/step - loss: 0.1486 - accuracy: 0.9477\n",
            "Accuracy: 94.77%\n"
          ],
          "name": "stdout"
        }
      ]
    },
    {
      "cell_type": "markdown",
      "metadata": {
        "id": "B8JDT6Ei25NS"
      },
      "source": [
        "## 1.8 Building the DNN Model"
      ]
    },
    {
      "cell_type": "code",
      "metadata": {
        "colab": {
          "base_uri": "https://localhost:8080/"
        },
        "id": "xKY2mHhPdcCI",
        "outputId": "640313fa-ba19-4e8c-9afd-654abd84e3c0"
      },
      "source": [
        "DNNmodel = keras.Sequential()                                   # Sequential model\n",
        "n_inputs = 28                                                   # nº of states  \n",
        "inputs = keras.Input(shape=(20,n_inputs,), name = 'input')      # Define inputs\n",
        "l1=layers.Dense(64, activation='relu', name = 'hidden_layer_1')(inputs) \n",
        "ly2=layers.Dense(128, activation='softplus', name = 'hidden_layer_2')(l1) \n",
        "l3=layers.Dropout(0.25)(ly2)\n",
        "l4=layers.Flatten()(l3)                 \n",
        "output=[] \n",
        "output.append(layers.Dense(1, activation='sigmoid', name = 'output')(l4))                                    \n",
        "DNNmodel = keras.Model(inputs=inputs, outputs=output)       \n",
        "\n",
        "lr_schedule = keras.optimizers.schedules.ExponentialDecay(\n",
        "    initial_learning_rate=1e-2,\n",
        "    decay_steps=10000,\n",
        "    decay_rate=0.9)\n",
        "opt = keras.optimizers.Adam(learning_rate=lr_schedule)\n",
        "DNNmodel.compile(loss='binary_crossentropy', optimizer=opt, metrics=['accuracy'])\n",
        "\n",
        "DNNhistory = DNNmodel.fit(x_train, y_train, batch_size=32, epochs=20, validation_data =(x_val, y_val))\n",
        "DNNscores = DNNmodel.evaluate(x_test, y_test) \n",
        "print(\"Accuracy: %.2f%%\" % (DNNscores[1]*100))"
      ],
      "execution_count": 13,
      "outputs": [
        {
          "output_type": "stream",
          "text": [
            "Epoch 1/20\n",
            "1890/1890 [==============================] - 11s 6ms/step - loss: 0.4964 - accuracy: 0.7916 - val_loss: 0.3259 - val_accuracy: 0.8573\n",
            "Epoch 2/20\n",
            "1890/1890 [==============================] - 10s 5ms/step - loss: 0.3380 - accuracy: 0.8492 - val_loss: 0.3383 - val_accuracy: 0.8541\n",
            "Epoch 3/20\n",
            "1890/1890 [==============================] - 10s 5ms/step - loss: 0.3289 - accuracy: 0.8551 - val_loss: 0.3203 - val_accuracy: 0.8619\n",
            "Epoch 4/20\n",
            "1890/1890 [==============================] - 10s 5ms/step - loss: 0.3246 - accuracy: 0.8574 - val_loss: 0.3170 - val_accuracy: 0.8655\n",
            "Epoch 5/20\n",
            "1890/1890 [==============================] - 10s 5ms/step - loss: 0.3240 - accuracy: 0.8565 - val_loss: 0.3112 - val_accuracy: 0.8665\n",
            "Epoch 6/20\n",
            "1890/1890 [==============================] - 11s 6ms/step - loss: 0.3221 - accuracy: 0.8596 - val_loss: 0.3097 - val_accuracy: 0.8676\n",
            "Epoch 7/20\n",
            "1890/1890 [==============================] - 11s 6ms/step - loss: 0.3218 - accuracy: 0.8598 - val_loss: 0.3277 - val_accuracy: 0.8586\n",
            "Epoch 8/20\n",
            "1890/1890 [==============================] - 11s 6ms/step - loss: 0.3196 - accuracy: 0.8611 - val_loss: 0.3166 - val_accuracy: 0.8648\n",
            "Epoch 9/20\n",
            "1890/1890 [==============================] - 11s 6ms/step - loss: 0.3167 - accuracy: 0.8635 - val_loss: 0.3117 - val_accuracy: 0.8628\n",
            "Epoch 10/20\n",
            "1890/1890 [==============================] - 11s 6ms/step - loss: 0.3121 - accuracy: 0.8639 - val_loss: 0.3196 - val_accuracy: 0.8579\n",
            "Epoch 11/20\n",
            "1890/1890 [==============================] - 11s 6ms/step - loss: 0.3196 - accuracy: 0.8600 - val_loss: 0.3103 - val_accuracy: 0.8680\n",
            "Epoch 12/20\n",
            "1890/1890 [==============================] - 11s 6ms/step - loss: 0.3160 - accuracy: 0.8614 - val_loss: 0.3092 - val_accuracy: 0.8686\n",
            "Epoch 13/20\n",
            "1890/1890 [==============================] - 11s 6ms/step - loss: 0.3175 - accuracy: 0.8605 - val_loss: 0.3093 - val_accuracy: 0.8670\n",
            "Epoch 14/20\n",
            "1890/1890 [==============================] - 11s 6ms/step - loss: 0.3121 - accuracy: 0.8646 - val_loss: 0.3062 - val_accuracy: 0.8691\n",
            "Epoch 15/20\n",
            "1890/1890 [==============================] - 11s 6ms/step - loss: 0.3129 - accuracy: 0.8617 - val_loss: 0.3074 - val_accuracy: 0.8694\n",
            "Epoch 16/20\n",
            "1890/1890 [==============================] - 11s 6ms/step - loss: 0.3090 - accuracy: 0.8669 - val_loss: 0.3078 - val_accuracy: 0.8687\n",
            "Epoch 17/20\n",
            "1890/1890 [==============================] - 11s 6ms/step - loss: 0.3124 - accuracy: 0.8638 - val_loss: 0.3072 - val_accuracy: 0.8682\n",
            "Epoch 18/20\n",
            "1890/1890 [==============================] - 11s 6ms/step - loss: 0.3150 - accuracy: 0.8617 - val_loss: 0.3104 - val_accuracy: 0.8668\n",
            "Epoch 19/20\n",
            "1890/1890 [==============================] - 11s 6ms/step - loss: 0.3123 - accuracy: 0.8637 - val_loss: 0.3128 - val_accuracy: 0.8653\n",
            "Epoch 20/20\n",
            "1890/1890 [==============================] - 11s 6ms/step - loss: 0.3096 - accuracy: 0.8633 - val_loss: 0.3088 - val_accuracy: 0.8684\n",
            "630/630 [==============================] - 1s 2ms/step - loss: 0.3062 - accuracy: 0.8679\n",
            "Accuracy: 86.79%\n"
          ],
          "name": "stdout"
        }
      ]
    },
    {
      "cell_type": "markdown",
      "metadata": {
        "id": "Kn3ALPE629Ca"
      },
      "source": [
        "## 1.9 Building the BiLSTM Model"
      ]
    },
    {
      "cell_type": "code",
      "metadata": {
        "colab": {
          "base_uri": "https://localhost:8080/"
        },
        "id": "jF4NIzXreW0M",
        "outputId": "44e1aeab-d77c-4445-e616-b5bb931587cf"
      },
      "source": [
        "LSTMmodel = keras.Sequential()\n",
        "LSTMmodel.add(Bidirectional(LSTM(64, return_sequences=True), backward_layer=LSTM(64, return_sequences=True, go_backwards=True), input_shape=(maxlen,len_vocab)))\n",
        "LSTMmodel.add(Dropout(0.2))\n",
        "LSTMmodel.add(Bidirectional(LSTM(64)))\n",
        "LSTMmodel.add(Dropout(0.2))\n",
        "LSTMmodel.add(Dense(1, activity_regularizer=l2(0.002)))\n",
        "LSTMmodel.add(Activation('sigmoid'))\n",
        "\n",
        "lr_schedule = keras.optimizers.schedules.ExponentialDecay(\n",
        "    initial_learning_rate=1e-2,\n",
        "    decay_steps=10000,\n",
        "    decay_rate=0.9)\n",
        "opt = keras.optimizers.Adam(learning_rate=lr_schedule)\n",
        "LSTMmodel.compile(loss='binary_crossentropy', optimizer=opt, metrics=['accuracy'])\n",
        "\n",
        "\n",
        "LSTMhistory = LSTMmodel.fit(x_train, y_train, batch_size=128, epochs=20, validation_data =(x_val, y_val))\n",
        "LSTMscores = LSTMmodel.evaluate(x_test, y_test) \n",
        "print(\"Accuracy: %.2f%%\" % (LSTMscores[1]*100))"
      ],
      "execution_count": 17,
      "outputs": [
        {
          "output_type": "stream",
          "text": [
            "Epoch 1/20\n",
            "473/473 [==============================] - 57s 109ms/step - loss: 0.3722 - accuracy: 0.8256 - val_loss: 0.2181 - val_accuracy: 0.9237\n",
            "Epoch 2/20\n",
            "473/473 [==============================] - 51s 107ms/step - loss: 0.2123 - accuracy: 0.9280 - val_loss: 0.2023 - val_accuracy: 0.9370\n",
            "Epoch 3/20\n",
            "473/473 [==============================] - 51s 107ms/step - loss: 0.1808 - accuracy: 0.9433 - val_loss: 0.1751 - val_accuracy: 0.9441\n",
            "Epoch 4/20\n",
            "473/473 [==============================] - 50s 106ms/step - loss: 0.1684 - accuracy: 0.9496 - val_loss: 0.1683 - val_accuracy: 0.9496\n",
            "Epoch 5/20\n",
            "473/473 [==============================] - 51s 107ms/step - loss: 0.1534 - accuracy: 0.9560 - val_loss: 0.1598 - val_accuracy: 0.9525\n",
            "Epoch 6/20\n",
            "473/473 [==============================] - 50s 105ms/step - loss: 0.1424 - accuracy: 0.9618 - val_loss: 0.1621 - val_accuracy: 0.9506\n",
            "Epoch 7/20\n",
            "473/473 [==============================] - 50s 106ms/step - loss: 0.1298 - accuracy: 0.9667 - val_loss: 0.1572 - val_accuracy: 0.9551\n",
            "Epoch 8/20\n",
            "473/473 [==============================] - 51s 108ms/step - loss: 0.1258 - accuracy: 0.9683 - val_loss: 0.1536 - val_accuracy: 0.9547\n",
            "Epoch 9/20\n",
            "473/473 [==============================] - 51s 108ms/step - loss: 0.1177 - accuracy: 0.9721 - val_loss: 0.1545 - val_accuracy: 0.9556\n",
            "Epoch 10/20\n",
            "473/473 [==============================] - 51s 107ms/step - loss: 0.1142 - accuracy: 0.9739 - val_loss: 0.1566 - val_accuracy: 0.9550\n",
            "Epoch 11/20\n",
            "473/473 [==============================] - 51s 108ms/step - loss: 0.1091 - accuracy: 0.9767 - val_loss: 0.1558 - val_accuracy: 0.9548\n",
            "Epoch 12/20\n",
            "473/473 [==============================] - 51s 108ms/step - loss: 0.1041 - accuracy: 0.9783 - val_loss: 0.1553 - val_accuracy: 0.9569\n",
            "Epoch 13/20\n",
            "473/473 [==============================] - 51s 108ms/step - loss: 0.0988 - accuracy: 0.9808 - val_loss: 0.1554 - val_accuracy: 0.9576\n",
            "Epoch 14/20\n",
            "473/473 [==============================] - 51s 107ms/step - loss: 0.0975 - accuracy: 0.9815 - val_loss: 0.1554 - val_accuracy: 0.9569\n",
            "Epoch 15/20\n",
            "473/473 [==============================] - 51s 108ms/step - loss: 0.0964 - accuracy: 0.9820 - val_loss: 0.1603 - val_accuracy: 0.9577\n",
            "Epoch 16/20\n",
            "473/473 [==============================] - 51s 108ms/step - loss: 0.0932 - accuracy: 0.9829 - val_loss: 0.1632 - val_accuracy: 0.9574\n",
            "Epoch 17/20\n",
            "473/473 [==============================] - 51s 109ms/step - loss: 0.0914 - accuracy: 0.9842 - val_loss: 0.1575 - val_accuracy: 0.9578\n",
            "Epoch 18/20\n",
            "473/473 [==============================] - 51s 109ms/step - loss: 0.0891 - accuracy: 0.9849 - val_loss: 0.1608 - val_accuracy: 0.9569\n",
            "Epoch 19/20\n",
            "473/473 [==============================] - 52s 109ms/step - loss: 0.0863 - accuracy: 0.9856 - val_loss: 0.1650 - val_accuracy: 0.9550\n",
            "Epoch 20/20\n",
            "473/473 [==============================] - 52s 109ms/step - loss: 0.0877 - accuracy: 0.9854 - val_loss: 0.1678 - val_accuracy: 0.9570\n",
            "630/630 [==============================] - 6s 10ms/step - loss: 0.1652 - accuracy: 0.9576\n",
            "Accuracy: 95.76%\n"
          ],
          "name": "stdout"
        }
      ]
    },
    {
      "cell_type": "markdown",
      "metadata": {
        "id": "m55JxwTi7Pyt"
      },
      "source": [
        "## 1.10 Figures"
      ]
    },
    {
      "cell_type": "code",
      "metadata": {
        "colab": {
          "base_uri": "https://localhost:8080/",
          "height": 319
        },
        "id": "wK09xI1-mt7N",
        "outputId": "89d9b0d9-57bc-4b17-f890-c919c2f3bff3"
      },
      "source": [
        "import matplotlib.pyplot as plt\n",
        "\n",
        "plt.figure(1)\n",
        "# summarize for accuracy\n",
        "plt.plot(CNNhistory.history['accuracy'], 'g:')\n",
        "plt.plot(LSTMhistory.history['accuracy'], 'r--')\n",
        "plt.plot(RNNhistory.history['accuracy'], 'c-.')\n",
        "plt.plot(DNNhistory.history['accuracy'], 'm-+')\n",
        "plt.plot(GRUhistory.history['accuracy'], 'y-o')\n",
        "\n",
        "plt.plot(CNNhistory.history['val_accuracy'], 'g-*')\n",
        "plt.plot(LSTMhistory.history['val_accuracy'], 'r-v')\n",
        "plt.plot(RNNhistory.history['val_accuracy'], 'c-h')\n",
        "plt.plot(DNNhistory.history['val_accuracy'], 'm->')\n",
        "plt.plot(GRUhistory.history['val_accuracy'], 'y-s')\n",
        "\n",
        "#plt.xscale('log')\n",
        "plt.grid('True')\n",
        "plt.ylabel('Accuracy')\n",
        "plt.xlabel('Epoch')\n",
        "plt.ylim(0.8, 0.99)\n",
        "plt.xlim(0,32)\n",
        "plt.legend(['Train-CNN', 'Train-BiLSTM', 'Train-RNN', 'Train-DNN', 'Train-GRU','Val-CNN',\\\n",
        "            'Val-BiLSTM', 'Val-RNN', 'Val-DNN', 'Val-GRU'], loc='upper right')\n",
        "\n",
        "\n",
        "plt.gcf().savefig('accuracy.eps', format='eps', dpi=600)     # save the figure"
      ],
      "execution_count": 71,
      "outputs": [
        {
          "output_type": "stream",
          "text": [
            "The PostScript backend does not support transparency; partially transparent artists will be rendered opaque.\n",
            "The PostScript backend does not support transparency; partially transparent artists will be rendered opaque.\n"
          ],
          "name": "stderr"
        },
        {
          "output_type": "display_data",
          "data": {
            "image/png": "[encoded data removed]",
            "text/plain": [
              "<Figure size 432x288 with 1 Axes>"
            ]
          },
          "metadata": {
            "tags": [],
            "needs_background": "light"
          }
        }
      ]
    },
    {
      "cell_type": "code",
      "metadata": {
        "colab": {
          "base_uri": "https://localhost:8080/",
          "height": 319
        },
        "id": "rh44YGWcvMG7",
        "outputId": "f67a736d-2b6d-4981-f1c8-0bd8ec517c3d"
      },
      "source": [
        "plt.figure(2)\n",
        "# summarize for loss\n",
        "plt.plot(CNNhistory.history['loss'], 'g:')\n",
        "plt.plot(LSTMhistory.history['loss'], 'r--')\n",
        "plt.plot(RNNhistory.history['loss'], 'c-.')\n",
        "plt.plot(DNNhistory.history['loss'], 'm-+')\n",
        "plt.plot(GRUhistory.history['loss'], 'y-o')\n",
        "\n",
        "\n",
        "plt.plot(CNNhistory.history['val_loss'], 'g-*')\n",
        "plt.plot(LSTMhistory.history['val_loss'], 'r-v')\n",
        "plt.plot(RNNhistory.history['val_loss'], 'c-H')\n",
        "plt.plot(DNNhistory.history['val_loss'], 'm->')\n",
        "plt.plot(GRUhistory.history['val_loss'], 'y-s')\n",
        "\n",
        "plt.ylabel('Loss')\n",
        "plt.xlabel('Epoch')\n",
        "plt.legend(['Train-CNN', 'Train-BiLSTM', 'Train-RNN', 'Train-DNN', 'Train-GRU','Val-CNN',\\\n",
        "            'Val-BiLSTM', 'Val-RNN', 'Val-DNN', 'Val-GRU'], loc='upper right')\n",
        "plt.yscale('log')\n",
        "#plt.xscale('log')\n",
        "plt.grid('True')\n",
        "plt.xlim(0,32)\n",
        "plt.gcf().savefig('loss.eps', format='eps', dpi=600)     # save the figure"
      ],
      "execution_count": 72,
      "outputs": [
        {
          "output_type": "stream",
          "text": [
            "The PostScript backend does not support transparency; partially transparent artists will be rendered opaque.\n",
            "The PostScript backend does not support transparency; partially transparent artists will be rendered opaque.\n"
          ],
          "name": "stderr"
        },
        {
          "output_type": "display_data",
          "data": {
            "image/png": "[encoded data removed]",
            "text/plain": [
              "<Figure size 432x288 with 1 Axes>"
            ]
          },
          "metadata": {
            "tags": [],
            "needs_background": "light"
          }
        }
      ]
    },
    {
      "cell_type": "markdown",
      "metadata": {
        "id": "bii6bsQ_8ihJ"
      },
      "source": [
        "## 1.11 Statistics"
      ]
    },
    {
      "cell_type": "code",
      "metadata": {
        "id": "PHW4P-qG0_dj"
      },
      "source": [
        "y_predCNN =(CNNmodel.predict(x_test) > 0.5).astype(\"int32\")\n",
        "y_predLSTM =(LSTMmodel.predict(x_test) > 0.5).astype(\"int32\")\n",
        "y_predRNN =(RNNmodel.predict(x_test) > 0.5).astype(\"int32\")\n",
        "y_predGRU =(GRUmodel.predict(x_test) > 0.5).astype(\"int32\")\n",
        "y_predDNN =(DNNmodel.predict(x_test) > 0.5).astype(\"int32\")"
      ],
      "execution_count": 73,
      "outputs": []
    },
    {
      "cell_type": "code",
      "metadata": {
        "colab": {
          "base_uri": "https://localhost:8080/",
          "height": 197
        },
        "id": "JcJPvvzmvVcA",
        "outputId": "1726d98f-fe58-4355-ddef-1ce3cfe077f5"
      },
      "source": [
        "# Constructing the confusion matrix.\n",
        "from sklearn.metrics import confusion_matrix\n",
        "%matplotlib inline\n",
        "import itertools\n",
        "\n",
        "cm1 = confusion_matrix(y_true=y_test, y_pred=y_predLSTM)\n",
        "cm2 = confusion_matrix(y_true=y_test, y_pred=y_predCNN)\n",
        "cm3 = confusion_matrix(y_true=y_test, y_pred=y_predDNN)\n",
        "cm4 = confusion_matrix(y_true=y_test, y_pred=y_predGRU)\n",
        "cm5 = confusion_matrix(y_true=y_test, y_pred=y_predRNN)\n",
        "\n",
        "\n",
        "fig, axes = plt.subplots(1, 5, figsize=(12, 4))\n",
        "fig.tight_layout(pad=2.0)             #space between plots\n",
        "#fig.set_size_inches(9,6)\n",
        "plt.rcParams.update({'font.size': 12}) \n",
        "cmap=plt.cm.Blues\n",
        "\n",
        "axes[0].imshow(cm1, interpolation='nearest', cmap=cmap)\n",
        "axes[0].set_title('BiLSTM')\n",
        "#axes[0].colorbar()\n",
        "thresh = cm1.max() / 2.\n",
        "for i, j in itertools.product(range(cm1.shape[0]), range(cm1.shape[1])):\n",
        "  axes[0].text(j, i, cm1[i, j],\n",
        "  horizontalalignment=\"center\",\n",
        "  color=\"white\" if cm1[i, j] > thresh else \"black\")\n",
        "  axes[0].set_ylabel('True label')\n",
        "  axes[0].set_xlabel('Predicted label')\n",
        "\n",
        "axes[1].imshow(cm2, interpolation='nearest', cmap=cmap)\n",
        "axes[1].set_title('CNN')\n",
        "thresh = cm2.max() / 2.\n",
        "for i, j in itertools.product(range(cm2.shape[0]), range(cm2.shape[1])):\n",
        "  axes[1].text(j, i, cm2[i, j],\n",
        "  horizontalalignment=\"center\",\n",
        "  color=\"white\" if cm2[i, j] > thresh else \"black\")\n",
        "  #axes[1].set_ylabel('True label')\n",
        "  axes[1].set_xlabel('Predicted label')\n",
        "\n",
        "axes[2].imshow(cm3, interpolation='nearest', cmap=cmap)\n",
        "axes[2].set_title('DNN')\n",
        "thresh = cm3.max() / 2.\n",
        "for i, j in itertools.product(range(cm3.shape[0]), range(cm3.shape[1])):\n",
        "  axes[2].text(j, i, cm3[i, j],\n",
        "  horizontalalignment=\"center\",\n",
        "  color=\"white\" if cm3[i, j] > thresh else \"black\")\n",
        "  #axes[2].set_ylabel('True label')\n",
        "  axes[2].set_xlabel('Predicted label')\n",
        "\n",
        "axes[3].imshow(cm4, interpolation='nearest', cmap=cmap)\n",
        "axes[3].set_title('GRU')\n",
        "thresh = cm3.max() / 2.\n",
        "for i, j in itertools.product(range(cm4.shape[0]), range(cm4.shape[1])):\n",
        "  axes[3].text(j, i, cm4[i, j],\n",
        "  horizontalalignment=\"center\",\n",
        "  color=\"white\" if cm4[i, j] > thresh else \"black\")\n",
        "  #axes[3].set_ylabel('True label')\n",
        "  axes[3].set_xlabel('Predicted label')\n",
        "\n",
        "\n",
        "axes[4].imshow(cm5, interpolation='nearest', cmap=cmap)\n",
        "axes[4].set_title('RNN')\n",
        "thresh = cm3.max() / 2.\n",
        "for i, j in itertools.product(range(cm5.shape[0]), range(cm5.shape[1])):\n",
        "  axes[4].text(j, i, cm5[i, j],\n",
        "  horizontalalignment=\"center\",\n",
        "  color=\"white\" if cm5[i, j] > thresh else \"black\")\n",
        "  #axes[4].set_ylabel('True label')\n",
        "  axes[4].set_xlabel('Predicted label')\n",
        "\n",
        "plt.gcf().savefig('fig.eps', format='eps', dpi=600)     # save the figure"
      ],
      "execution_count": 78,
      "outputs": [
        {
          "output_type": "display_data",
          "data": {
            "image/png": "[encoded data removed]",
            "text/plain": [
              "<Figure size 864x288 with 5 Axes>"
            ]
          },
          "metadata": {
            "tags": [],
            "needs_background": "light"
          }
        }
      ]
    },
    {
      "cell_type": "code",
      "metadata": {
        "colab": {
          "base_uri": "https://localhost:8080/",
          "height": 34
        },
        "id": "Xbd535Fo4GP6",
        "outputId": "fc05b9e2-de65-4dcc-c141-43e4a3f8ed31"
      },
      "source": [
        "plt.gcf().savefig('cmatrix.eps', format='eps', dpi=600)     # save the figure"
      ],
      "execution_count": 77,
      "outputs": [
        {
          "output_type": "display_data",
          "data": {
            "text/plain": [
              "<Figure size 432x288 with 0 Axes>"
            ]
          },
          "metadata": {
            "tags": []
          }
        }
      ]
    },
    {
      "cell_type": "code",
      "metadata": {
        "colab": {
          "base_uri": "https://localhost:8080/"
        },
        "id": "x4C61gTr9b3e",
        "outputId": "41d21d5b-ee4c-4b34-c75f-37df1726676c"
      },
      "source": [
        "# Finding precision and recall\n",
        "from sklearn.metrics import precision_score, recall_score\n",
        "precision_score(y_test, y_predLSTM)\n",
        "recall_score(y_test, y_predLSTM)"
      ],
      "execution_count": 44,
      "outputs": [
        {
          "output_type": "execute_result",
          "data": {
            "text/plain": [
              "0.945298769771529"
            ]
          },
          "metadata": {
            "tags": []
          },
          "execution_count": 44
        }
      ]
    },
    {
      "cell_type": "markdown",
      "metadata": {
        "id": "BSMLzXgL_17j"
      },
      "source": [
        "## 1.12 Testing "
      ]
    },
    {
      "cell_type": "code",
      "metadata": {
        "colab": {
          "base_uri": "https://localhost:8080/"
        },
        "id": "eVU5iWCF-5lA",
        "outputId": "f69591c8-fecc-4575-eef5-47b7b7c440f2"
      },
      "source": [
        "testename = prepare_encod_names({\"cibely\"})   # Now the names are encod as a vector of numbers with weight\n",
        "resu=(LSTMmodel.predict(testename) > 0.5).astype(\"int32\")\n",
        "if int(resu)==1:\n",
        "  print('M')\n",
        "else:\n",
        "  print('F')"
      ],
      "execution_count": 67,
      "outputs": [
        {
          "output_type": "stream",
          "text": [
            "F\n"
          ],
          "name": "stdout"
        }
      ]
    }
  ]
}